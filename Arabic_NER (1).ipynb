{
  "nbformat": 4,
  "nbformat_minor": 0,
  "metadata": {
    "colab": {
      "name": "Arabic NER",
      "provenance": [],
      "collapsed_sections": [
        "eqUmy_i6Qsh0",
        "scGM2E2aN3kv",
        "NQyn5kH84nPs",
        "dXTieuwb4vDP",
        "wKR8JXoDLMnA",
        "2L5N1AsoHUh8",
        "_3QsL8MJ71JC",
        "PIMoYK0SXyrh",
        "xCI_w5Vi5tkl"
      ]
    },
    "kernelspec": {
      "name": "python3",
      "display_name": "Python 3"
    },
    "language_info": {
      "name": "python"
    },
    "accelerator": "GPU",
    "widgets": {
      "application/vnd.jupyter.widget-state+json": {
        "1d4b725dc08d4ee1bfe568767e64590b": {
          "model_module": "@jupyter-widgets/controls",
          "model_name": "HBoxModel",
          "model_module_version": "1.5.0",
          "state": {
            "_view_name": "HBoxView",
            "_dom_classes": [],
            "_model_name": "HBoxModel",
            "_view_module": "@jupyter-widgets/controls",
            "_model_module_version": "1.5.0",
            "_view_count": null,
            "_view_module_version": "1.5.0",
            "box_style": "",
            "layout": "IPY_MODEL_243a35e826504811a02d479bf121c898",
            "_model_module": "@jupyter-widgets/controls",
            "children": [
              "IPY_MODEL_0ffc6360efa14dafbfd246b704c78618",
              "IPY_MODEL_d9513575566e408ea3272bb137fa07ee",
              "IPY_MODEL_c99062a61a7144b488b73b5703eae994"
            ]
          }
        },
        "243a35e826504811a02d479bf121c898": {
          "model_module": "@jupyter-widgets/base",
          "model_name": "LayoutModel",
          "model_module_version": "1.2.0",
          "state": {
            "_view_name": "LayoutView",
            "grid_template_rows": null,
            "right": null,
            "justify_content": null,
            "_view_module": "@jupyter-widgets/base",
            "overflow": null,
            "_model_module_version": "1.2.0",
            "_view_count": null,
            "flex_flow": null,
            "width": null,
            "min_width": null,
            "border": null,
            "align_items": null,
            "bottom": null,
            "_model_module": "@jupyter-widgets/base",
            "top": null,
            "grid_column": null,
            "overflow_y": null,
            "overflow_x": null,
            "grid_auto_flow": null,
            "grid_area": null,
            "grid_template_columns": null,
            "flex": null,
            "_model_name": "LayoutModel",
            "justify_items": null,
            "grid_row": null,
            "max_height": null,
            "align_content": null,
            "visibility": null,
            "align_self": null,
            "height": null,
            "min_height": null,
            "padding": null,
            "grid_auto_rows": null,
            "grid_gap": null,
            "max_width": null,
            "order": null,
            "_view_module_version": "1.2.0",
            "grid_template_areas": null,
            "object_position": null,
            "object_fit": null,
            "grid_auto_columns": null,
            "margin": null,
            "display": null,
            "left": null
          }
        },
        "0ffc6360efa14dafbfd246b704c78618": {
          "model_module": "@jupyter-widgets/controls",
          "model_name": "HTMLModel",
          "model_module_version": "1.5.0",
          "state": {
            "_view_name": "HTMLView",
            "style": "IPY_MODEL_793ff0ed3ce7402b9b51a4998057f5f8",
            "_dom_classes": [],
            "description": "",
            "_model_name": "HTMLModel",
            "placeholder": "​",
            "_view_module": "@jupyter-widgets/controls",
            "_model_module_version": "1.5.0",
            "value": "Downloading: 100%",
            "_view_count": null,
            "_view_module_version": "1.5.0",
            "description_tooltip": null,
            "_model_module": "@jupyter-widgets/controls",
            "layout": "IPY_MODEL_a3e3248c18624ac08cb7d43c5bdf5782"
          }
        },
        "d9513575566e408ea3272bb137fa07ee": {
          "model_module": "@jupyter-widgets/controls",
          "model_name": "FloatProgressModel",
          "model_module_version": "1.5.0",
          "state": {
            "_view_name": "ProgressView",
            "style": "IPY_MODEL_d4daf313462343cd9097da205c76e232",
            "_dom_classes": [],
            "description": "",
            "_model_name": "FloatProgressModel",
            "bar_style": "success",
            "max": 381,
            "_view_module": "@jupyter-widgets/controls",
            "_model_module_version": "1.5.0",
            "value": 381,
            "_view_count": null,
            "_view_module_version": "1.5.0",
            "orientation": "horizontal",
            "min": 0,
            "description_tooltip": null,
            "_model_module": "@jupyter-widgets/controls",
            "layout": "IPY_MODEL_950d576eef40413ab219cc2d65102996"
          }
        },
        "c99062a61a7144b488b73b5703eae994": {
          "model_module": "@jupyter-widgets/controls",
          "model_name": "HTMLModel",
          "model_module_version": "1.5.0",
          "state": {
            "_view_name": "HTMLView",
            "style": "IPY_MODEL_66c2bc076d9742fcb2d8d3de04048660",
            "_dom_classes": [],
            "description": "",
            "_model_name": "HTMLModel",
            "placeholder": "​",
            "_view_module": "@jupyter-widgets/controls",
            "_model_module_version": "1.5.0",
            "value": " 381/381 [00:00&lt;00:00, 3.42kB/s]",
            "_view_count": null,
            "_view_module_version": "1.5.0",
            "description_tooltip": null,
            "_model_module": "@jupyter-widgets/controls",
            "layout": "IPY_MODEL_3f634f1ced54442289fdec8181f5bb9c"
          }
        },
        "793ff0ed3ce7402b9b51a4998057f5f8": {
          "model_module": "@jupyter-widgets/controls",
          "model_name": "DescriptionStyleModel",
          "model_module_version": "1.5.0",
          "state": {
            "_view_name": "StyleView",
            "_model_name": "DescriptionStyleModel",
            "description_width": "",
            "_view_module": "@jupyter-widgets/base",
            "_model_module_version": "1.5.0",
            "_view_count": null,
            "_view_module_version": "1.2.0",
            "_model_module": "@jupyter-widgets/controls"
          }
        },
        "a3e3248c18624ac08cb7d43c5bdf5782": {
          "model_module": "@jupyter-widgets/base",
          "model_name": "LayoutModel",
          "model_module_version": "1.2.0",
          "state": {
            "_view_name": "LayoutView",
            "grid_template_rows": null,
            "right": null,
            "justify_content": null,
            "_view_module": "@jupyter-widgets/base",
            "overflow": null,
            "_model_module_version": "1.2.0",
            "_view_count": null,
            "flex_flow": null,
            "width": null,
            "min_width": null,
            "border": null,
            "align_items": null,
            "bottom": null,
            "_model_module": "@jupyter-widgets/base",
            "top": null,
            "grid_column": null,
            "overflow_y": null,
            "overflow_x": null,
            "grid_auto_flow": null,
            "grid_area": null,
            "grid_template_columns": null,
            "flex": null,
            "_model_name": "LayoutModel",
            "justify_items": null,
            "grid_row": null,
            "max_height": null,
            "align_content": null,
            "visibility": null,
            "align_self": null,
            "height": null,
            "min_height": null,
            "padding": null,
            "grid_auto_rows": null,
            "grid_gap": null,
            "max_width": null,
            "order": null,
            "_view_module_version": "1.2.0",
            "grid_template_areas": null,
            "object_position": null,
            "object_fit": null,
            "grid_auto_columns": null,
            "margin": null,
            "display": null,
            "left": null
          }
        },
        "d4daf313462343cd9097da205c76e232": {
          "model_module": "@jupyter-widgets/controls",
          "model_name": "ProgressStyleModel",
          "model_module_version": "1.5.0",
          "state": {
            "_view_name": "StyleView",
            "_model_name": "ProgressStyleModel",
            "description_width": "",
            "_view_module": "@jupyter-widgets/base",
            "_model_module_version": "1.5.0",
            "_view_count": null,
            "_view_module_version": "1.2.0",
            "bar_color": null,
            "_model_module": "@jupyter-widgets/controls"
          }
        },
        "950d576eef40413ab219cc2d65102996": {
          "model_module": "@jupyter-widgets/base",
          "model_name": "LayoutModel",
          "model_module_version": "1.2.0",
          "state": {
            "_view_name": "LayoutView",
            "grid_template_rows": null,
            "right": null,
            "justify_content": null,
            "_view_module": "@jupyter-widgets/base",
            "overflow": null,
            "_model_module_version": "1.2.0",
            "_view_count": null,
            "flex_flow": null,
            "width": null,
            "min_width": null,
            "border": null,
            "align_items": null,
            "bottom": null,
            "_model_module": "@jupyter-widgets/base",
            "top": null,
            "grid_column": null,
            "overflow_y": null,
            "overflow_x": null,
            "grid_auto_flow": null,
            "grid_area": null,
            "grid_template_columns": null,
            "flex": null,
            "_model_name": "LayoutModel",
            "justify_items": null,
            "grid_row": null,
            "max_height": null,
            "align_content": null,
            "visibility": null,
            "align_self": null,
            "height": null,
            "min_height": null,
            "padding": null,
            "grid_auto_rows": null,
            "grid_gap": null,
            "max_width": null,
            "order": null,
            "_view_module_version": "1.2.0",
            "grid_template_areas": null,
            "object_position": null,
            "object_fit": null,
            "grid_auto_columns": null,
            "margin": null,
            "display": null,
            "left": null
          }
        },
        "66c2bc076d9742fcb2d8d3de04048660": {
          "model_module": "@jupyter-widgets/controls",
          "model_name": "DescriptionStyleModel",
          "model_module_version": "1.5.0",
          "state": {
            "_view_name": "StyleView",
            "_model_name": "DescriptionStyleModel",
            "description_width": "",
            "_view_module": "@jupyter-widgets/base",
            "_model_module_version": "1.5.0",
            "_view_count": null,
            "_view_module_version": "1.2.0",
            "_model_module": "@jupyter-widgets/controls"
          }
        },
        "3f634f1ced54442289fdec8181f5bb9c": {
          "model_module": "@jupyter-widgets/base",
          "model_name": "LayoutModel",
          "model_module_version": "1.2.0",
          "state": {
            "_view_name": "LayoutView",
            "grid_template_rows": null,
            "right": null,
            "justify_content": null,
            "_view_module": "@jupyter-widgets/base",
            "overflow": null,
            "_model_module_version": "1.2.0",
            "_view_count": null,
            "flex_flow": null,
            "width": null,
            "min_width": null,
            "border": null,
            "align_items": null,
            "bottom": null,
            "_model_module": "@jupyter-widgets/base",
            "top": null,
            "grid_column": null,
            "overflow_y": null,
            "overflow_x": null,
            "grid_auto_flow": null,
            "grid_area": null,
            "grid_template_columns": null,
            "flex": null,
            "_model_name": "LayoutModel",
            "justify_items": null,
            "grid_row": null,
            "max_height": null,
            "align_content": null,
            "visibility": null,
            "align_self": null,
            "height": null,
            "min_height": null,
            "padding": null,
            "grid_auto_rows": null,
            "grid_gap": null,
            "max_width": null,
            "order": null,
            "_view_module_version": "1.2.0",
            "grid_template_areas": null,
            "object_position": null,
            "object_fit": null,
            "grid_auto_columns": null,
            "margin": null,
            "display": null,
            "left": null
          }
        },
        "df926aac0cc3456db72b65dc445379bc": {
          "model_module": "@jupyter-widgets/controls",
          "model_name": "HBoxModel",
          "model_module_version": "1.5.0",
          "state": {
            "_view_name": "HBoxView",
            "_dom_classes": [],
            "_model_name": "HBoxModel",
            "_view_module": "@jupyter-widgets/controls",
            "_model_module_version": "1.5.0",
            "_view_count": null,
            "_view_module_version": "1.5.0",
            "box_style": "",
            "layout": "IPY_MODEL_cb25bf20a34f458e88913d6177afd303",
            "_model_module": "@jupyter-widgets/controls",
            "children": [
              "IPY_MODEL_b7ff5f2324f54161a635ade588fbc7a4",
              "IPY_MODEL_909a92c29c014451a492f1a3b33ac710",
              "IPY_MODEL_bc382a87bc3f4d01a694d4a646c20bb2"
            ]
          }
        },
        "cb25bf20a34f458e88913d6177afd303": {
          "model_module": "@jupyter-widgets/base",
          "model_name": "LayoutModel",
          "model_module_version": "1.2.0",
          "state": {
            "_view_name": "LayoutView",
            "grid_template_rows": null,
            "right": null,
            "justify_content": null,
            "_view_module": "@jupyter-widgets/base",
            "overflow": null,
            "_model_module_version": "1.2.0",
            "_view_count": null,
            "flex_flow": null,
            "width": null,
            "min_width": null,
            "border": null,
            "align_items": null,
            "bottom": null,
            "_model_module": "@jupyter-widgets/base",
            "top": null,
            "grid_column": null,
            "overflow_y": null,
            "overflow_x": null,
            "grid_auto_flow": null,
            "grid_area": null,
            "grid_template_columns": null,
            "flex": null,
            "_model_name": "LayoutModel",
            "justify_items": null,
            "grid_row": null,
            "max_height": null,
            "align_content": null,
            "visibility": null,
            "align_self": null,
            "height": null,
            "min_height": null,
            "padding": null,
            "grid_auto_rows": null,
            "grid_gap": null,
            "max_width": null,
            "order": null,
            "_view_module_version": "1.2.0",
            "grid_template_areas": null,
            "object_position": null,
            "object_fit": null,
            "grid_auto_columns": null,
            "margin": null,
            "display": null,
            "left": null
          }
        },
        "b7ff5f2324f54161a635ade588fbc7a4": {
          "model_module": "@jupyter-widgets/controls",
          "model_name": "HTMLModel",
          "model_module_version": "1.5.0",
          "state": {
            "_view_name": "HTMLView",
            "style": "IPY_MODEL_a2835c82a7aa4f4c8278e75666631081",
            "_dom_classes": [],
            "description": "",
            "_model_name": "HTMLModel",
            "placeholder": "​",
            "_view_module": "@jupyter-widgets/controls",
            "_model_module_version": "1.5.0",
            "value": "Downloading: 100%",
            "_view_count": null,
            "_view_module_version": "1.5.0",
            "description_tooltip": null,
            "_model_module": "@jupyter-widgets/controls",
            "layout": "IPY_MODEL_78bd56fc120f489bb8eeed48a8c874b7"
          }
        },
        "909a92c29c014451a492f1a3b33ac710": {
          "model_module": "@jupyter-widgets/controls",
          "model_name": "FloatProgressModel",
          "model_module_version": "1.5.0",
          "state": {
            "_view_name": "ProgressView",
            "style": "IPY_MODEL_3bff44e9b70644d888fff4d756e2b866",
            "_dom_classes": [],
            "description": "",
            "_model_name": "FloatProgressModel",
            "bar_style": "success",
            "max": 384,
            "_view_module": "@jupyter-widgets/controls",
            "_model_module_version": "1.5.0",
            "value": 384,
            "_view_count": null,
            "_view_module_version": "1.5.0",
            "orientation": "horizontal",
            "min": 0,
            "description_tooltip": null,
            "_model_module": "@jupyter-widgets/controls",
            "layout": "IPY_MODEL_4358d5a128bf4997af896c67b9f29260"
          }
        },
        "bc382a87bc3f4d01a694d4a646c20bb2": {
          "model_module": "@jupyter-widgets/controls",
          "model_name": "HTMLModel",
          "model_module_version": "1.5.0",
          "state": {
            "_view_name": "HTMLView",
            "style": "IPY_MODEL_35f03d2effff4524872243a81012b6ff",
            "_dom_classes": [],
            "description": "",
            "_model_name": "HTMLModel",
            "placeholder": "​",
            "_view_module": "@jupyter-widgets/controls",
            "_model_module_version": "1.5.0",
            "value": " 384/384 [00:00&lt;00:00, 9.89kB/s]",
            "_view_count": null,
            "_view_module_version": "1.5.0",
            "description_tooltip": null,
            "_model_module": "@jupyter-widgets/controls",
            "layout": "IPY_MODEL_f5440d9feb244eedaa0e1bd992e8a75f"
          }
        },
        "a2835c82a7aa4f4c8278e75666631081": {
          "model_module": "@jupyter-widgets/controls",
          "model_name": "DescriptionStyleModel",
          "model_module_version": "1.5.0",
          "state": {
            "_view_name": "StyleView",
            "_model_name": "DescriptionStyleModel",
            "description_width": "",
            "_view_module": "@jupyter-widgets/base",
            "_model_module_version": "1.5.0",
            "_view_count": null,
            "_view_module_version": "1.2.0",
            "_model_module": "@jupyter-widgets/controls"
          }
        },
        "78bd56fc120f489bb8eeed48a8c874b7": {
          "model_module": "@jupyter-widgets/base",
          "model_name": "LayoutModel",
          "model_module_version": "1.2.0",
          "state": {
            "_view_name": "LayoutView",
            "grid_template_rows": null,
            "right": null,
            "justify_content": null,
            "_view_module": "@jupyter-widgets/base",
            "overflow": null,
            "_model_module_version": "1.2.0",
            "_view_count": null,
            "flex_flow": null,
            "width": null,
            "min_width": null,
            "border": null,
            "align_items": null,
            "bottom": null,
            "_model_module": "@jupyter-widgets/base",
            "top": null,
            "grid_column": null,
            "overflow_y": null,
            "overflow_x": null,
            "grid_auto_flow": null,
            "grid_area": null,
            "grid_template_columns": null,
            "flex": null,
            "_model_name": "LayoutModel",
            "justify_items": null,
            "grid_row": null,
            "max_height": null,
            "align_content": null,
            "visibility": null,
            "align_self": null,
            "height": null,
            "min_height": null,
            "padding": null,
            "grid_auto_rows": null,
            "grid_gap": null,
            "max_width": null,
            "order": null,
            "_view_module_version": "1.2.0",
            "grid_template_areas": null,
            "object_position": null,
            "object_fit": null,
            "grid_auto_columns": null,
            "margin": null,
            "display": null,
            "left": null
          }
        },
        "3bff44e9b70644d888fff4d756e2b866": {
          "model_module": "@jupyter-widgets/controls",
          "model_name": "ProgressStyleModel",
          "model_module_version": "1.5.0",
          "state": {
            "_view_name": "StyleView",
            "_model_name": "ProgressStyleModel",
            "description_width": "",
            "_view_module": "@jupyter-widgets/base",
            "_model_module_version": "1.5.0",
            "_view_count": null,
            "_view_module_version": "1.2.0",
            "bar_color": null,
            "_model_module": "@jupyter-widgets/controls"
          }
        },
        "4358d5a128bf4997af896c67b9f29260": {
          "model_module": "@jupyter-widgets/base",
          "model_name": "LayoutModel",
          "model_module_version": "1.2.0",
          "state": {
            "_view_name": "LayoutView",
            "grid_template_rows": null,
            "right": null,
            "justify_content": null,
            "_view_module": "@jupyter-widgets/base",
            "overflow": null,
            "_model_module_version": "1.2.0",
            "_view_count": null,
            "flex_flow": null,
            "width": null,
            "min_width": null,
            "border": null,
            "align_items": null,
            "bottom": null,
            "_model_module": "@jupyter-widgets/base",
            "top": null,
            "grid_column": null,
            "overflow_y": null,
            "overflow_x": null,
            "grid_auto_flow": null,
            "grid_area": null,
            "grid_template_columns": null,
            "flex": null,
            "_model_name": "LayoutModel",
            "justify_items": null,
            "grid_row": null,
            "max_height": null,
            "align_content": null,
            "visibility": null,
            "align_self": null,
            "height": null,
            "min_height": null,
            "padding": null,
            "grid_auto_rows": null,
            "grid_gap": null,
            "max_width": null,
            "order": null,
            "_view_module_version": "1.2.0",
            "grid_template_areas": null,
            "object_position": null,
            "object_fit": null,
            "grid_auto_columns": null,
            "margin": null,
            "display": null,
            "left": null
          }
        },
        "35f03d2effff4524872243a81012b6ff": {
          "model_module": "@jupyter-widgets/controls",
          "model_name": "DescriptionStyleModel",
          "model_module_version": "1.5.0",
          "state": {
            "_view_name": "StyleView",
            "_model_name": "DescriptionStyleModel",
            "description_width": "",
            "_view_module": "@jupyter-widgets/base",
            "_model_module_version": "1.5.0",
            "_view_count": null,
            "_view_module_version": "1.2.0",
            "_model_module": "@jupyter-widgets/controls"
          }
        },
        "f5440d9feb244eedaa0e1bd992e8a75f": {
          "model_module": "@jupyter-widgets/base",
          "model_name": "LayoutModel",
          "model_module_version": "1.2.0",
          "state": {
            "_view_name": "LayoutView",
            "grid_template_rows": null,
            "right": null,
            "justify_content": null,
            "_view_module": "@jupyter-widgets/base",
            "overflow": null,
            "_model_module_version": "1.2.0",
            "_view_count": null,
            "flex_flow": null,
            "width": null,
            "min_width": null,
            "border": null,
            "align_items": null,
            "bottom": null,
            "_model_module": "@jupyter-widgets/base",
            "top": null,
            "grid_column": null,
            "overflow_y": null,
            "overflow_x": null,
            "grid_auto_flow": null,
            "grid_area": null,
            "grid_template_columns": null,
            "flex": null,
            "_model_name": "LayoutModel",
            "justify_items": null,
            "grid_row": null,
            "max_height": null,
            "align_content": null,
            "visibility": null,
            "align_self": null,
            "height": null,
            "min_height": null,
            "padding": null,
            "grid_auto_rows": null,
            "grid_gap": null,
            "max_width": null,
            "order": null,
            "_view_module_version": "1.2.0",
            "grid_template_areas": null,
            "object_position": null,
            "object_fit": null,
            "grid_auto_columns": null,
            "margin": null,
            "display": null,
            "left": null
          }
        },
        "c1d31f3872044df7b38ad0a1741c94a8": {
          "model_module": "@jupyter-widgets/controls",
          "model_name": "HBoxModel",
          "model_module_version": "1.5.0",
          "state": {
            "_view_name": "HBoxView",
            "_dom_classes": [],
            "_model_name": "HBoxModel",
            "_view_module": "@jupyter-widgets/controls",
            "_model_module_version": "1.5.0",
            "_view_count": null,
            "_view_module_version": "1.5.0",
            "box_style": "",
            "layout": "IPY_MODEL_0d7ab56c4d414342a6c4c7097fd131c6",
            "_model_module": "@jupyter-widgets/controls",
            "children": [
              "IPY_MODEL_c82cd02f6bf24559939b9a77266407c1",
              "IPY_MODEL_4d305eaa2e7a4fe88e31f925f84eef4c",
              "IPY_MODEL_eb2984eeeed44074bd862e0a3319f550"
            ]
          }
        },
        "0d7ab56c4d414342a6c4c7097fd131c6": {
          "model_module": "@jupyter-widgets/base",
          "model_name": "LayoutModel",
          "model_module_version": "1.2.0",
          "state": {
            "_view_name": "LayoutView",
            "grid_template_rows": null,
            "right": null,
            "justify_content": null,
            "_view_module": "@jupyter-widgets/base",
            "overflow": null,
            "_model_module_version": "1.2.0",
            "_view_count": null,
            "flex_flow": null,
            "width": null,
            "min_width": null,
            "border": null,
            "align_items": null,
            "bottom": null,
            "_model_module": "@jupyter-widgets/base",
            "top": null,
            "grid_column": null,
            "overflow_y": null,
            "overflow_x": null,
            "grid_auto_flow": null,
            "grid_area": null,
            "grid_template_columns": null,
            "flex": null,
            "_model_name": "LayoutModel",
            "justify_items": null,
            "grid_row": null,
            "max_height": null,
            "align_content": null,
            "visibility": null,
            "align_self": null,
            "height": null,
            "min_height": null,
            "padding": null,
            "grid_auto_rows": null,
            "grid_gap": null,
            "max_width": null,
            "order": null,
            "_view_module_version": "1.2.0",
            "grid_template_areas": null,
            "object_position": null,
            "object_fit": null,
            "grid_auto_columns": null,
            "margin": null,
            "display": null,
            "left": null
          }
        },
        "c82cd02f6bf24559939b9a77266407c1": {
          "model_module": "@jupyter-widgets/controls",
          "model_name": "HTMLModel",
          "model_module_version": "1.5.0",
          "state": {
            "_view_name": "HTMLView",
            "style": "IPY_MODEL_5e55ea602cc14ba2b208b0f357739204",
            "_dom_classes": [],
            "description": "",
            "_model_name": "HTMLModel",
            "placeholder": "​",
            "_view_module": "@jupyter-widgets/controls",
            "_model_module_version": "1.5.0",
            "value": "Downloading: 100%",
            "_view_count": null,
            "_view_module_version": "1.5.0",
            "description_tooltip": null,
            "_model_module": "@jupyter-widgets/controls",
            "layout": "IPY_MODEL_b4c3368a25c64a159722a8e1f876f077"
          }
        },
        "4d305eaa2e7a4fe88e31f925f84eef4c": {
          "model_module": "@jupyter-widgets/controls",
          "model_name": "FloatProgressModel",
          "model_module_version": "1.5.0",
          "state": {
            "_view_name": "ProgressView",
            "style": "IPY_MODEL_047f32dfc27640ad89e672739c9d5a33",
            "_dom_classes": [],
            "description": "",
            "_model_name": "FloatProgressModel",
            "bar_style": "success",
            "max": 824793,
            "_view_module": "@jupyter-widgets/controls",
            "_model_module_version": "1.5.0",
            "value": 824793,
            "_view_count": null,
            "_view_module_version": "1.5.0",
            "orientation": "horizontal",
            "min": 0,
            "description_tooltip": null,
            "_model_module": "@jupyter-widgets/controls",
            "layout": "IPY_MODEL_23e8a61bd35b4dadb015a003d7eee7f4"
          }
        },
        "eb2984eeeed44074bd862e0a3319f550": {
          "model_module": "@jupyter-widgets/controls",
          "model_name": "HTMLModel",
          "model_module_version": "1.5.0",
          "state": {
            "_view_name": "HTMLView",
            "style": "IPY_MODEL_3d5381ca0c6148ecb110830d31395795",
            "_dom_classes": [],
            "description": "",
            "_model_name": "HTMLModel",
            "placeholder": "​",
            "_view_module": "@jupyter-widgets/controls",
            "_model_module_version": "1.5.0",
            "value": " 825k/825k [00:00&lt;00:00, 823kB/s]",
            "_view_count": null,
            "_view_module_version": "1.5.0",
            "description_tooltip": null,
            "_model_module": "@jupyter-widgets/controls",
            "layout": "IPY_MODEL_a1d34d5c07a4407590605500154e1fbb"
          }
        },
        "5e55ea602cc14ba2b208b0f357739204": {
          "model_module": "@jupyter-widgets/controls",
          "model_name": "DescriptionStyleModel",
          "model_module_version": "1.5.0",
          "state": {
            "_view_name": "StyleView",
            "_model_name": "DescriptionStyleModel",
            "description_width": "",
            "_view_module": "@jupyter-widgets/base",
            "_model_module_version": "1.5.0",
            "_view_count": null,
            "_view_module_version": "1.2.0",
            "_model_module": "@jupyter-widgets/controls"
          }
        },
        "b4c3368a25c64a159722a8e1f876f077": {
          "model_module": "@jupyter-widgets/base",
          "model_name": "LayoutModel",
          "model_module_version": "1.2.0",
          "state": {
            "_view_name": "LayoutView",
            "grid_template_rows": null,
            "right": null,
            "justify_content": null,
            "_view_module": "@jupyter-widgets/base",
            "overflow": null,
            "_model_module_version": "1.2.0",
            "_view_count": null,
            "flex_flow": null,
            "width": null,
            "min_width": null,
            "border": null,
            "align_items": null,
            "bottom": null,
            "_model_module": "@jupyter-widgets/base",
            "top": null,
            "grid_column": null,
            "overflow_y": null,
            "overflow_x": null,
            "grid_auto_flow": null,
            "grid_area": null,
            "grid_template_columns": null,
            "flex": null,
            "_model_name": "LayoutModel",
            "justify_items": null,
            "grid_row": null,
            "max_height": null,
            "align_content": null,
            "visibility": null,
            "align_self": null,
            "height": null,
            "min_height": null,
            "padding": null,
            "grid_auto_rows": null,
            "grid_gap": null,
            "max_width": null,
            "order": null,
            "_view_module_version": "1.2.0",
            "grid_template_areas": null,
            "object_position": null,
            "object_fit": null,
            "grid_auto_columns": null,
            "margin": null,
            "display": null,
            "left": null
          }
        },
        "047f32dfc27640ad89e672739c9d5a33": {
          "model_module": "@jupyter-widgets/controls",
          "model_name": "ProgressStyleModel",
          "model_module_version": "1.5.0",
          "state": {
            "_view_name": "StyleView",
            "_model_name": "ProgressStyleModel",
            "description_width": "",
            "_view_module": "@jupyter-widgets/base",
            "_model_module_version": "1.5.0",
            "_view_count": null,
            "_view_module_version": "1.2.0",
            "bar_color": null,
            "_model_module": "@jupyter-widgets/controls"
          }
        },
        "23e8a61bd35b4dadb015a003d7eee7f4": {
          "model_module": "@jupyter-widgets/base",
          "model_name": "LayoutModel",
          "model_module_version": "1.2.0",
          "state": {
            "_view_name": "LayoutView",
            "grid_template_rows": null,
            "right": null,
            "justify_content": null,
            "_view_module": "@jupyter-widgets/base",
            "overflow": null,
            "_model_module_version": "1.2.0",
            "_view_count": null,
            "flex_flow": null,
            "width": null,
            "min_width": null,
            "border": null,
            "align_items": null,
            "bottom": null,
            "_model_module": "@jupyter-widgets/base",
            "top": null,
            "grid_column": null,
            "overflow_y": null,
            "overflow_x": null,
            "grid_auto_flow": null,
            "grid_area": null,
            "grid_template_columns": null,
            "flex": null,
            "_model_name": "LayoutModel",
            "justify_items": null,
            "grid_row": null,
            "max_height": null,
            "align_content": null,
            "visibility": null,
            "align_self": null,
            "height": null,
            "min_height": null,
            "padding": null,
            "grid_auto_rows": null,
            "grid_gap": null,
            "max_width": null,
            "order": null,
            "_view_module_version": "1.2.0",
            "grid_template_areas": null,
            "object_position": null,
            "object_fit": null,
            "grid_auto_columns": null,
            "margin": null,
            "display": null,
            "left": null
          }
        },
        "3d5381ca0c6148ecb110830d31395795": {
          "model_module": "@jupyter-widgets/controls",
          "model_name": "DescriptionStyleModel",
          "model_module_version": "1.5.0",
          "state": {
            "_view_name": "StyleView",
            "_model_name": "DescriptionStyleModel",
            "description_width": "",
            "_view_module": "@jupyter-widgets/base",
            "_model_module_version": "1.5.0",
            "_view_count": null,
            "_view_module_version": "1.2.0",
            "_model_module": "@jupyter-widgets/controls"
          }
        },
        "a1d34d5c07a4407590605500154e1fbb": {
          "model_module": "@jupyter-widgets/base",
          "model_name": "LayoutModel",
          "model_module_version": "1.2.0",
          "state": {
            "_view_name": "LayoutView",
            "grid_template_rows": null,
            "right": null,
            "justify_content": null,
            "_view_module": "@jupyter-widgets/base",
            "overflow": null,
            "_model_module_version": "1.2.0",
            "_view_count": null,
            "flex_flow": null,
            "width": null,
            "min_width": null,
            "border": null,
            "align_items": null,
            "bottom": null,
            "_model_module": "@jupyter-widgets/base",
            "top": null,
            "grid_column": null,
            "overflow_y": null,
            "overflow_x": null,
            "grid_auto_flow": null,
            "grid_area": null,
            "grid_template_columns": null,
            "flex": null,
            "_model_name": "LayoutModel",
            "justify_items": null,
            "grid_row": null,
            "max_height": null,
            "align_content": null,
            "visibility": null,
            "align_self": null,
            "height": null,
            "min_height": null,
            "padding": null,
            "grid_auto_rows": null,
            "grid_gap": null,
            "max_width": null,
            "order": null,
            "_view_module_version": "1.2.0",
            "grid_template_areas": null,
            "object_position": null,
            "object_fit": null,
            "grid_auto_columns": null,
            "margin": null,
            "display": null,
            "left": null
          }
        },
        "f2d89191bcda46f08a312f4507ba20ac": {
          "model_module": "@jupyter-widgets/controls",
          "model_name": "HBoxModel",
          "model_module_version": "1.5.0",
          "state": {
            "_view_name": "HBoxView",
            "_dom_classes": [],
            "_model_name": "HBoxModel",
            "_view_module": "@jupyter-widgets/controls",
            "_model_module_version": "1.5.0",
            "_view_count": null,
            "_view_module_version": "1.5.0",
            "box_style": "",
            "layout": "IPY_MODEL_bd9961e4aaa8491692ef47fed646aa56",
            "_model_module": "@jupyter-widgets/controls",
            "children": [
              "IPY_MODEL_b3dc0c1780734a5f8b074455816e8443",
              "IPY_MODEL_f9996ddbf769467eb8eabdf386464cea",
              "IPY_MODEL_6ba16df2523a41368bcc9e17deaa1e0a"
            ]
          }
        },
        "bd9961e4aaa8491692ef47fed646aa56": {
          "model_module": "@jupyter-widgets/base",
          "model_name": "LayoutModel",
          "model_module_version": "1.2.0",
          "state": {
            "_view_name": "LayoutView",
            "grid_template_rows": null,
            "right": null,
            "justify_content": null,
            "_view_module": "@jupyter-widgets/base",
            "overflow": null,
            "_model_module_version": "1.2.0",
            "_view_count": null,
            "flex_flow": null,
            "width": null,
            "min_width": null,
            "border": null,
            "align_items": null,
            "bottom": null,
            "_model_module": "@jupyter-widgets/base",
            "top": null,
            "grid_column": null,
            "overflow_y": null,
            "overflow_x": null,
            "grid_auto_flow": null,
            "grid_area": null,
            "grid_template_columns": null,
            "flex": null,
            "_model_name": "LayoutModel",
            "justify_items": null,
            "grid_row": null,
            "max_height": null,
            "align_content": null,
            "visibility": null,
            "align_self": null,
            "height": null,
            "min_height": null,
            "padding": null,
            "grid_auto_rows": null,
            "grid_gap": null,
            "max_width": null,
            "order": null,
            "_view_module_version": "1.2.0",
            "grid_template_areas": null,
            "object_position": null,
            "object_fit": null,
            "grid_auto_columns": null,
            "margin": null,
            "display": null,
            "left": null
          }
        },
        "b3dc0c1780734a5f8b074455816e8443": {
          "model_module": "@jupyter-widgets/controls",
          "model_name": "HTMLModel",
          "model_module_version": "1.5.0",
          "state": {
            "_view_name": "HTMLView",
            "style": "IPY_MODEL_e1f1ddb6bdb24ff7ba2f9b8a4748ccb4",
            "_dom_classes": [],
            "description": "",
            "_model_name": "HTMLModel",
            "placeholder": "​",
            "_view_module": "@jupyter-widgets/controls",
            "_model_module_version": "1.5.0",
            "value": "Downloading: 100%",
            "_view_count": null,
            "_view_module_version": "1.5.0",
            "description_tooltip": null,
            "_model_module": "@jupyter-widgets/controls",
            "layout": "IPY_MODEL_b9fe48faec094948850b4b602b69fedd"
          }
        },
        "f9996ddbf769467eb8eabdf386464cea": {
          "model_module": "@jupyter-widgets/controls",
          "model_name": "FloatProgressModel",
          "model_module_version": "1.5.0",
          "state": {
            "_view_name": "ProgressView",
            "style": "IPY_MODEL_c48695811b884d1ebfcb5e2c3b939afd",
            "_dom_classes": [],
            "description": "",
            "_model_name": "FloatProgressModel",
            "bar_style": "success",
            "max": 2642362,
            "_view_module": "@jupyter-widgets/controls",
            "_model_module_version": "1.5.0",
            "value": 2642362,
            "_view_count": null,
            "_view_module_version": "1.5.0",
            "orientation": "horizontal",
            "min": 0,
            "description_tooltip": null,
            "_model_module": "@jupyter-widgets/controls",
            "layout": "IPY_MODEL_3ef038661e3e45eda3ee701e5868135e"
          }
        },
        "6ba16df2523a41368bcc9e17deaa1e0a": {
          "model_module": "@jupyter-widgets/controls",
          "model_name": "HTMLModel",
          "model_module_version": "1.5.0",
          "state": {
            "_view_name": "HTMLView",
            "style": "IPY_MODEL_1316dcb7479644608b530c28eaba5621",
            "_dom_classes": [],
            "description": "",
            "_model_name": "HTMLModel",
            "placeholder": "​",
            "_view_module": "@jupyter-widgets/controls",
            "_model_module_version": "1.5.0",
            "value": " 2.64M/2.64M [00:01&lt;00:00, 1.80MB/s]",
            "_view_count": null,
            "_view_module_version": "1.5.0",
            "description_tooltip": null,
            "_model_module": "@jupyter-widgets/controls",
            "layout": "IPY_MODEL_51492676e44042f1b11eccf966ffa280"
          }
        },
        "e1f1ddb6bdb24ff7ba2f9b8a4748ccb4": {
          "model_module": "@jupyter-widgets/controls",
          "model_name": "DescriptionStyleModel",
          "model_module_version": "1.5.0",
          "state": {
            "_view_name": "StyleView",
            "_model_name": "DescriptionStyleModel",
            "description_width": "",
            "_view_module": "@jupyter-widgets/base",
            "_model_module_version": "1.5.0",
            "_view_count": null,
            "_view_module_version": "1.2.0",
            "_model_module": "@jupyter-widgets/controls"
          }
        },
        "b9fe48faec094948850b4b602b69fedd": {
          "model_module": "@jupyter-widgets/base",
          "model_name": "LayoutModel",
          "model_module_version": "1.2.0",
          "state": {
            "_view_name": "LayoutView",
            "grid_template_rows": null,
            "right": null,
            "justify_content": null,
            "_view_module": "@jupyter-widgets/base",
            "overflow": null,
            "_model_module_version": "1.2.0",
            "_view_count": null,
            "flex_flow": null,
            "width": null,
            "min_width": null,
            "border": null,
            "align_items": null,
            "bottom": null,
            "_model_module": "@jupyter-widgets/base",
            "top": null,
            "grid_column": null,
            "overflow_y": null,
            "overflow_x": null,
            "grid_auto_flow": null,
            "grid_area": null,
            "grid_template_columns": null,
            "flex": null,
            "_model_name": "LayoutModel",
            "justify_items": null,
            "grid_row": null,
            "max_height": null,
            "align_content": null,
            "visibility": null,
            "align_self": null,
            "height": null,
            "min_height": null,
            "padding": null,
            "grid_auto_rows": null,
            "grid_gap": null,
            "max_width": null,
            "order": null,
            "_view_module_version": "1.2.0",
            "grid_template_areas": null,
            "object_position": null,
            "object_fit": null,
            "grid_auto_columns": null,
            "margin": null,
            "display": null,
            "left": null
          }
        },
        "c48695811b884d1ebfcb5e2c3b939afd": {
          "model_module": "@jupyter-widgets/controls",
          "model_name": "ProgressStyleModel",
          "model_module_version": "1.5.0",
          "state": {
            "_view_name": "StyleView",
            "_model_name": "ProgressStyleModel",
            "description_width": "",
            "_view_module": "@jupyter-widgets/base",
            "_model_module_version": "1.5.0",
            "_view_count": null,
            "_view_module_version": "1.2.0",
            "bar_color": null,
            "_model_module": "@jupyter-widgets/controls"
          }
        },
        "3ef038661e3e45eda3ee701e5868135e": {
          "model_module": "@jupyter-widgets/base",
          "model_name": "LayoutModel",
          "model_module_version": "1.2.0",
          "state": {
            "_view_name": "LayoutView",
            "grid_template_rows": null,
            "right": null,
            "justify_content": null,
            "_view_module": "@jupyter-widgets/base",
            "overflow": null,
            "_model_module_version": "1.2.0",
            "_view_count": null,
            "flex_flow": null,
            "width": null,
            "min_width": null,
            "border": null,
            "align_items": null,
            "bottom": null,
            "_model_module": "@jupyter-widgets/base",
            "top": null,
            "grid_column": null,
            "overflow_y": null,
            "overflow_x": null,
            "grid_auto_flow": null,
            "grid_area": null,
            "grid_template_columns": null,
            "flex": null,
            "_model_name": "LayoutModel",
            "justify_items": null,
            "grid_row": null,
            "max_height": null,
            "align_content": null,
            "visibility": null,
            "align_self": null,
            "height": null,
            "min_height": null,
            "padding": null,
            "grid_auto_rows": null,
            "grid_gap": null,
            "max_width": null,
            "order": null,
            "_view_module_version": "1.2.0",
            "grid_template_areas": null,
            "object_position": null,
            "object_fit": null,
            "grid_auto_columns": null,
            "margin": null,
            "display": null,
            "left": null
          }
        },
        "1316dcb7479644608b530c28eaba5621": {
          "model_module": "@jupyter-widgets/controls",
          "model_name": "DescriptionStyleModel",
          "model_module_version": "1.5.0",
          "state": {
            "_view_name": "StyleView",
            "_model_name": "DescriptionStyleModel",
            "description_width": "",
            "_view_module": "@jupyter-widgets/base",
            "_model_module_version": "1.5.0",
            "_view_count": null,
            "_view_module_version": "1.2.0",
            "_model_module": "@jupyter-widgets/controls"
          }
        },
        "51492676e44042f1b11eccf966ffa280": {
          "model_module": "@jupyter-widgets/base",
          "model_name": "LayoutModel",
          "model_module_version": "1.2.0",
          "state": {
            "_view_name": "LayoutView",
            "grid_template_rows": null,
            "right": null,
            "justify_content": null,
            "_view_module": "@jupyter-widgets/base",
            "overflow": null,
            "_model_module_version": "1.2.0",
            "_view_count": null,
            "flex_flow": null,
            "width": null,
            "min_width": null,
            "border": null,
            "align_items": null,
            "bottom": null,
            "_model_module": "@jupyter-widgets/base",
            "top": null,
            "grid_column": null,
            "overflow_y": null,
            "overflow_x": null,
            "grid_auto_flow": null,
            "grid_area": null,
            "grid_template_columns": null,
            "flex": null,
            "_model_name": "LayoutModel",
            "justify_items": null,
            "grid_row": null,
            "max_height": null,
            "align_content": null,
            "visibility": null,
            "align_self": null,
            "height": null,
            "min_height": null,
            "padding": null,
            "grid_auto_rows": null,
            "grid_gap": null,
            "max_width": null,
            "order": null,
            "_view_module_version": "1.2.0",
            "grid_template_areas": null,
            "object_position": null,
            "object_fit": null,
            "grid_auto_columns": null,
            "margin": null,
            "display": null,
            "left": null
          }
        },
        "78fcbc46f7d34ab1bf04ee7a3e1eef99": {
          "model_module": "@jupyter-widgets/controls",
          "model_name": "HBoxModel",
          "model_module_version": "1.5.0",
          "state": {
            "_view_name": "HBoxView",
            "_dom_classes": [],
            "_model_name": "HBoxModel",
            "_view_module": "@jupyter-widgets/controls",
            "_model_module_version": "1.5.0",
            "_view_count": null,
            "_view_module_version": "1.5.0",
            "box_style": "",
            "layout": "IPY_MODEL_624ecf71631e46ed87e31bd62477f8f6",
            "_model_module": "@jupyter-widgets/controls",
            "children": [
              "IPY_MODEL_58a2a3231aca42caa0c21c67ea4fb4fb",
              "IPY_MODEL_dc2591e46b63406db1dca8b72dd08a43",
              "IPY_MODEL_8a1e89a65a794dfda813ec46dced6ef4"
            ]
          }
        },
        "624ecf71631e46ed87e31bd62477f8f6": {
          "model_module": "@jupyter-widgets/base",
          "model_name": "LayoutModel",
          "model_module_version": "1.2.0",
          "state": {
            "_view_name": "LayoutView",
            "grid_template_rows": null,
            "right": null,
            "justify_content": null,
            "_view_module": "@jupyter-widgets/base",
            "overflow": null,
            "_model_module_version": "1.2.0",
            "_view_count": null,
            "flex_flow": null,
            "width": null,
            "min_width": null,
            "border": null,
            "align_items": null,
            "bottom": null,
            "_model_module": "@jupyter-widgets/base",
            "top": null,
            "grid_column": null,
            "overflow_y": null,
            "overflow_x": null,
            "grid_auto_flow": null,
            "grid_area": null,
            "grid_template_columns": null,
            "flex": null,
            "_model_name": "LayoutModel",
            "justify_items": null,
            "grid_row": null,
            "max_height": null,
            "align_content": null,
            "visibility": null,
            "align_self": null,
            "height": null,
            "min_height": null,
            "padding": null,
            "grid_auto_rows": null,
            "grid_gap": null,
            "max_width": null,
            "order": null,
            "_view_module_version": "1.2.0",
            "grid_template_areas": null,
            "object_position": null,
            "object_fit": null,
            "grid_auto_columns": null,
            "margin": null,
            "display": null,
            "left": null
          }
        },
        "58a2a3231aca42caa0c21c67ea4fb4fb": {
          "model_module": "@jupyter-widgets/controls",
          "model_name": "HTMLModel",
          "model_module_version": "1.5.0",
          "state": {
            "_view_name": "HTMLView",
            "style": "IPY_MODEL_e3afdca9d130481f8cd1b063514cc166",
            "_dom_classes": [],
            "description": "",
            "_model_name": "HTMLModel",
            "placeholder": "​",
            "_view_module": "@jupyter-widgets/controls",
            "_model_module_version": "1.5.0",
            "value": "Downloading: 100%",
            "_view_count": null,
            "_view_module_version": "1.5.0",
            "description_tooltip": null,
            "_model_module": "@jupyter-widgets/controls",
            "layout": "IPY_MODEL_bf5219b3b7714542b1ac85b7a6aa53af"
          }
        },
        "dc2591e46b63406db1dca8b72dd08a43": {
          "model_module": "@jupyter-widgets/controls",
          "model_name": "FloatProgressModel",
          "model_module_version": "1.5.0",
          "state": {
            "_view_name": "ProgressView",
            "style": "IPY_MODEL_b38f94195752434d928a3358f93939b8",
            "_dom_classes": [],
            "description": "",
            "_model_name": "FloatProgressModel",
            "bar_style": "success",
            "max": 112,
            "_view_module": "@jupyter-widgets/controls",
            "_model_module_version": "1.5.0",
            "value": 112,
            "_view_count": null,
            "_view_module_version": "1.5.0",
            "orientation": "horizontal",
            "min": 0,
            "description_tooltip": null,
            "_model_module": "@jupyter-widgets/controls",
            "layout": "IPY_MODEL_e884d22e70d5416185a61dd360655e1f"
          }
        },
        "8a1e89a65a794dfda813ec46dced6ef4": {
          "model_module": "@jupyter-widgets/controls",
          "model_name": "HTMLModel",
          "model_module_version": "1.5.0",
          "state": {
            "_view_name": "HTMLView",
            "style": "IPY_MODEL_f7b7d4d3593d45dc9545c50b3588d79d",
            "_dom_classes": [],
            "description": "",
            "_model_name": "HTMLModel",
            "placeholder": "​",
            "_view_module": "@jupyter-widgets/controls",
            "_model_module_version": "1.5.0",
            "value": " 112/112 [00:00&lt;00:00, 1.84kB/s]",
            "_view_count": null,
            "_view_module_version": "1.5.0",
            "description_tooltip": null,
            "_model_module": "@jupyter-widgets/controls",
            "layout": "IPY_MODEL_e85ad38204d84e53b343d63c6161d721"
          }
        },
        "e3afdca9d130481f8cd1b063514cc166": {
          "model_module": "@jupyter-widgets/controls",
          "model_name": "DescriptionStyleModel",
          "model_module_version": "1.5.0",
          "state": {
            "_view_name": "StyleView",
            "_model_name": "DescriptionStyleModel",
            "description_width": "",
            "_view_module": "@jupyter-widgets/base",
            "_model_module_version": "1.5.0",
            "_view_count": null,
            "_view_module_version": "1.2.0",
            "_model_module": "@jupyter-widgets/controls"
          }
        },
        "bf5219b3b7714542b1ac85b7a6aa53af": {
          "model_module": "@jupyter-widgets/base",
          "model_name": "LayoutModel",
          "model_module_version": "1.2.0",
          "state": {
            "_view_name": "LayoutView",
            "grid_template_rows": null,
            "right": null,
            "justify_content": null,
            "_view_module": "@jupyter-widgets/base",
            "overflow": null,
            "_model_module_version": "1.2.0",
            "_view_count": null,
            "flex_flow": null,
            "width": null,
            "min_width": null,
            "border": null,
            "align_items": null,
            "bottom": null,
            "_model_module": "@jupyter-widgets/base",
            "top": null,
            "grid_column": null,
            "overflow_y": null,
            "overflow_x": null,
            "grid_auto_flow": null,
            "grid_area": null,
            "grid_template_columns": null,
            "flex": null,
            "_model_name": "LayoutModel",
            "justify_items": null,
            "grid_row": null,
            "max_height": null,
            "align_content": null,
            "visibility": null,
            "align_self": null,
            "height": null,
            "min_height": null,
            "padding": null,
            "grid_auto_rows": null,
            "grid_gap": null,
            "max_width": null,
            "order": null,
            "_view_module_version": "1.2.0",
            "grid_template_areas": null,
            "object_position": null,
            "object_fit": null,
            "grid_auto_columns": null,
            "margin": null,
            "display": null,
            "left": null
          }
        },
        "b38f94195752434d928a3358f93939b8": {
          "model_module": "@jupyter-widgets/controls",
          "model_name": "ProgressStyleModel",
          "model_module_version": "1.5.0",
          "state": {
            "_view_name": "StyleView",
            "_model_name": "ProgressStyleModel",
            "description_width": "",
            "_view_module": "@jupyter-widgets/base",
            "_model_module_version": "1.5.0",
            "_view_count": null,
            "_view_module_version": "1.2.0",
            "bar_color": null,
            "_model_module": "@jupyter-widgets/controls"
          }
        },
        "e884d22e70d5416185a61dd360655e1f": {
          "model_module": "@jupyter-widgets/base",
          "model_name": "LayoutModel",
          "model_module_version": "1.2.0",
          "state": {
            "_view_name": "LayoutView",
            "grid_template_rows": null,
            "right": null,
            "justify_content": null,
            "_view_module": "@jupyter-widgets/base",
            "overflow": null,
            "_model_module_version": "1.2.0",
            "_view_count": null,
            "flex_flow": null,
            "width": null,
            "min_width": null,
            "border": null,
            "align_items": null,
            "bottom": null,
            "_model_module": "@jupyter-widgets/base",
            "top": null,
            "grid_column": null,
            "overflow_y": null,
            "overflow_x": null,
            "grid_auto_flow": null,
            "grid_area": null,
            "grid_template_columns": null,
            "flex": null,
            "_model_name": "LayoutModel",
            "justify_items": null,
            "grid_row": null,
            "max_height": null,
            "align_content": null,
            "visibility": null,
            "align_self": null,
            "height": null,
            "min_height": null,
            "padding": null,
            "grid_auto_rows": null,
            "grid_gap": null,
            "max_width": null,
            "order": null,
            "_view_module_version": "1.2.0",
            "grid_template_areas": null,
            "object_position": null,
            "object_fit": null,
            "grid_auto_columns": null,
            "margin": null,
            "display": null,
            "left": null
          }
        },
        "f7b7d4d3593d45dc9545c50b3588d79d": {
          "model_module": "@jupyter-widgets/controls",
          "model_name": "DescriptionStyleModel",
          "model_module_version": "1.5.0",
          "state": {
            "_view_name": "StyleView",
            "_model_name": "DescriptionStyleModel",
            "description_width": "",
            "_view_module": "@jupyter-widgets/base",
            "_model_module_version": "1.5.0",
            "_view_count": null,
            "_view_module_version": "1.2.0",
            "_model_module": "@jupyter-widgets/controls"
          }
        },
        "e85ad38204d84e53b343d63c6161d721": {
          "model_module": "@jupyter-widgets/base",
          "model_name": "LayoutModel",
          "model_module_version": "1.2.0",
          "state": {
            "_view_name": "LayoutView",
            "grid_template_rows": null,
            "right": null,
            "justify_content": null,
            "_view_module": "@jupyter-widgets/base",
            "overflow": null,
            "_model_module_version": "1.2.0",
            "_view_count": null,
            "flex_flow": null,
            "width": null,
            "min_width": null,
            "border": null,
            "align_items": null,
            "bottom": null,
            "_model_module": "@jupyter-widgets/base",
            "top": null,
            "grid_column": null,
            "overflow_y": null,
            "overflow_x": null,
            "grid_auto_flow": null,
            "grid_area": null,
            "grid_template_columns": null,
            "flex": null,
            "_model_name": "LayoutModel",
            "justify_items": null,
            "grid_row": null,
            "max_height": null,
            "align_content": null,
            "visibility": null,
            "align_self": null,
            "height": null,
            "min_height": null,
            "padding": null,
            "grid_auto_rows": null,
            "grid_gap": null,
            "max_width": null,
            "order": null,
            "_view_module_version": "1.2.0",
            "grid_template_areas": null,
            "object_position": null,
            "object_fit": null,
            "grid_auto_columns": null,
            "margin": null,
            "display": null,
            "left": null
          }
        }
      }
    }
  },
  "cells": [
    {
      "cell_type": "markdown",
      "metadata": {
        "id": "eqUmy_i6Qsh0"
      },
      "source": [
        "## Getting the data ready "
      ]
    },
    {
      "cell_type": "code",
      "metadata": {
        "id": "0B7pnyGvsJU0",
        "colab": {
          "base_uri": "https://localhost:8080/"
        },
        "outputId": "8eedd77d-2ba3-4d90-9911-a17a2422038d"
      },
      "source": [
        "# installing the needed libraries \n",
        "!pip install transformers seqeval datasets wandb git+https://www.github.com/keras-team/keras-contrib.git sklearn-crfsuite optuna translate"
      ],
      "execution_count": 1,
      "outputs": [
        {
          "output_type": "stream",
          "name": "stdout",
          "text": [
            "Collecting git+https://www.github.com/keras-team/keras-contrib.git\n",
            "  Cloning https://www.github.com/keras-team/keras-contrib.git to /tmp/pip-req-build-yydhi69z\n",
            "  Running command git clone -q https://www.github.com/keras-team/keras-contrib.git /tmp/pip-req-build-yydhi69z\n",
            "Collecting transformers\n",
            "  Downloading transformers-4.10.0-py3-none-any.whl (2.8 MB)\n",
            "\u001b[K     |████████████████████████████████| 2.8 MB 4.7 MB/s \n",
            "\u001b[?25hCollecting seqeval\n",
            "  Downloading seqeval-1.2.2.tar.gz (43 kB)\n",
            "\u001b[K     |████████████████████████████████| 43 kB 1.8 MB/s \n",
            "\u001b[?25hCollecting datasets\n",
            "  Downloading datasets-1.11.0-py3-none-any.whl (264 kB)\n",
            "\u001b[K     |████████████████████████████████| 264 kB 45.8 MB/s \n",
            "\u001b[?25hCollecting wandb\n",
            "  Downloading wandb-0.12.1-py2.py3-none-any.whl (1.7 MB)\n",
            "\u001b[K     |████████████████████████████████| 1.7 MB 32.6 MB/s \n",
            "\u001b[?25hCollecting sklearn-crfsuite\n",
            "  Downloading sklearn_crfsuite-0.3.6-py2.py3-none-any.whl (12 kB)\n",
            "Collecting optuna\n",
            "  Downloading optuna-2.9.1-py3-none-any.whl (302 kB)\n",
            "\u001b[K     |████████████████████████████████| 302 kB 30.4 MB/s \n",
            "\u001b[?25hCollecting translate\n",
            "  Downloading translate-3.6.1-py2.py3-none-any.whl (12 kB)\n",
            "Requirement already satisfied: keras in /usr/local/lib/python3.7/dist-packages (from keras-contrib==2.0.8) (2.6.0)\n",
            "Requirement already satisfied: tqdm>=4.27 in /usr/local/lib/python3.7/dist-packages (from transformers) (4.62.0)\n",
            "Requirement already satisfied: filelock in /usr/local/lib/python3.7/dist-packages (from transformers) (3.0.12)\n",
            "Requirement already satisfied: numpy>=1.17 in /usr/local/lib/python3.7/dist-packages (from transformers) (1.19.5)\n",
            "Collecting sacremoses\n",
            "  Downloading sacremoses-0.0.45-py3-none-any.whl (895 kB)\n",
            "\u001b[K     |████████████████████████████████| 895 kB 38.2 MB/s \n",
            "\u001b[?25hCollecting tokenizers<0.11,>=0.10.1\n",
            "  Downloading tokenizers-0.10.3-cp37-cp37m-manylinux_2_5_x86_64.manylinux1_x86_64.manylinux_2_12_x86_64.manylinux2010_x86_64.whl (3.3 MB)\n",
            "\u001b[K     |████████████████████████████████| 3.3 MB 47.9 MB/s \n",
            "\u001b[?25hRequirement already satisfied: packaging in /usr/local/lib/python3.7/dist-packages (from transformers) (21.0)\n",
            "Requirement already satisfied: regex!=2019.12.17 in /usr/local/lib/python3.7/dist-packages (from transformers) (2019.12.20)\n",
            "Requirement already satisfied: requests in /usr/local/lib/python3.7/dist-packages (from transformers) (2.23.0)\n",
            "Requirement already satisfied: importlib-metadata in /usr/local/lib/python3.7/dist-packages (from transformers) (4.6.4)\n",
            "Collecting huggingface-hub>=0.0.12\n",
            "  Downloading huggingface_hub-0.0.16-py3-none-any.whl (50 kB)\n",
            "\u001b[K     |████████████████████████████████| 50 kB 5.9 MB/s \n",
            "\u001b[?25hCollecting pyyaml>=5.1\n",
            "  Downloading PyYAML-5.4.1-cp37-cp37m-manylinux1_x86_64.whl (636 kB)\n",
            "\u001b[K     |████████████████████████████████| 636 kB 33.3 MB/s \n",
            "\u001b[?25hRequirement already satisfied: typing-extensions in /usr/local/lib/python3.7/dist-packages (from huggingface-hub>=0.0.12->transformers) (3.7.4.3)\n",
            "Requirement already satisfied: pyparsing>=2.0.2 in /usr/local/lib/python3.7/dist-packages (from packaging->transformers) (2.4.7)\n",
            "Requirement already satisfied: scikit-learn>=0.21.3 in /usr/local/lib/python3.7/dist-packages (from seqeval) (0.22.2.post1)\n",
            "Requirement already satisfied: scipy>=0.17.0 in /usr/local/lib/python3.7/dist-packages (from scikit-learn>=0.21.3->seqeval) (1.4.1)\n",
            "Requirement already satisfied: joblib>=0.11 in /usr/local/lib/python3.7/dist-packages (from scikit-learn>=0.21.3->seqeval) (1.0.1)\n",
            "Collecting fsspec>=2021.05.0\n",
            "  Downloading fsspec-2021.8.1-py3-none-any.whl (119 kB)\n",
            "\u001b[K     |████████████████████████████████| 119 kB 49.5 MB/s \n",
            "\u001b[?25hRequirement already satisfied: dill in /usr/local/lib/python3.7/dist-packages (from datasets) (0.3.4)\n",
            "Collecting xxhash\n",
            "  Downloading xxhash-2.0.2-cp37-cp37m-manylinux2010_x86_64.whl (243 kB)\n",
            "\u001b[K     |████████████████████████████████| 243 kB 55.2 MB/s \n",
            "\u001b[?25hRequirement already satisfied: pyarrow!=4.0.0,>=1.0.0 in /usr/local/lib/python3.7/dist-packages (from datasets) (3.0.0)\n",
            "Requirement already satisfied: pandas in /usr/local/lib/python3.7/dist-packages (from datasets) (1.1.5)\n",
            "Requirement already satisfied: multiprocess in /usr/local/lib/python3.7/dist-packages (from datasets) (0.70.12.2)\n",
            "Requirement already satisfied: urllib3!=1.25.0,!=1.25.1,<1.26,>=1.21.1 in /usr/local/lib/python3.7/dist-packages (from requests->transformers) (1.24.3)\n",
            "Requirement already satisfied: idna<3,>=2.5 in /usr/local/lib/python3.7/dist-packages (from requests->transformers) (2.10)\n",
            "Requirement already satisfied: chardet<4,>=3.0.2 in /usr/local/lib/python3.7/dist-packages (from requests->transformers) (3.0.4)\n",
            "Requirement already satisfied: certifi>=2017.4.17 in /usr/local/lib/python3.7/dist-packages (from requests->transformers) (2021.5.30)\n",
            "Collecting shortuuid>=0.5.0\n",
            "  Downloading shortuuid-1.0.1-py3-none-any.whl (7.5 kB)\n",
            "Requirement already satisfied: promise<3,>=2.0 in /usr/local/lib/python3.7/dist-packages (from wandb) (2.3)\n",
            "Requirement already satisfied: Click!=8.0.0,>=7.0 in /usr/local/lib/python3.7/dist-packages (from wandb) (7.1.2)\n",
            "Collecting sentry-sdk>=1.0.0\n",
            "  Downloading sentry_sdk-1.3.1-py2.py3-none-any.whl (133 kB)\n",
            "\u001b[K     |████████████████████████████████| 133 kB 49.1 MB/s \n",
            "\u001b[?25hRequirement already satisfied: protobuf>=3.12.0 in /usr/local/lib/python3.7/dist-packages (from wandb) (3.17.3)\n",
            "Collecting docker-pycreds>=0.4.0\n",
            "  Downloading docker_pycreds-0.4.0-py2.py3-none-any.whl (9.0 kB)\n",
            "Requirement already satisfied: six>=1.13.0 in /usr/local/lib/python3.7/dist-packages (from wandb) (1.15.0)\n",
            "Collecting configparser>=3.8.1\n",
            "  Downloading configparser-5.0.2-py3-none-any.whl (19 kB)\n",
            "Requirement already satisfied: psutil>=5.0.0 in /usr/local/lib/python3.7/dist-packages (from wandb) (5.4.8)\n",
            "Requirement already satisfied: python-dateutil>=2.6.1 in /usr/local/lib/python3.7/dist-packages (from wandb) (2.8.2)\n",
            "Collecting pathtools\n",
            "  Downloading pathtools-0.1.2.tar.gz (11 kB)\n",
            "Collecting GitPython>=1.0.0\n",
            "  Downloading GitPython-3.1.18-py3-none-any.whl (170 kB)\n",
            "\u001b[K     |████████████████████████████████| 170 kB 44.9 MB/s \n",
            "\u001b[?25hCollecting subprocess32>=3.5.3\n",
            "  Downloading subprocess32-3.5.4.tar.gz (97 kB)\n",
            "\u001b[K     |████████████████████████████████| 97 kB 6.3 MB/s \n",
            "\u001b[?25hCollecting gitdb<5,>=4.0.1\n",
            "  Downloading gitdb-4.0.7-py3-none-any.whl (63 kB)\n",
            "\u001b[K     |████████████████████████████████| 63 kB 1.7 MB/s \n",
            "\u001b[?25hCollecting smmap<5,>=3.0.1\n",
            "  Downloading smmap-4.0.0-py2.py3-none-any.whl (24 kB)\n",
            "Collecting python-crfsuite>=0.8.3\n",
            "  Downloading python_crfsuite-0.9.7-cp37-cp37m-manylinux1_x86_64.whl (743 kB)\n",
            "\u001b[K     |████████████████████████████████| 743 kB 44.3 MB/s \n",
            "\u001b[?25hRequirement already satisfied: tabulate in /usr/local/lib/python3.7/dist-packages (from sklearn-crfsuite) (0.8.9)\n",
            "Collecting cliff\n",
            "  Downloading cliff-3.9.0-py3-none-any.whl (80 kB)\n",
            "\u001b[K     |████████████████████████████████| 80 kB 8.9 MB/s \n",
            "\u001b[?25hRequirement already satisfied: sqlalchemy>=1.1.0 in /usr/local/lib/python3.7/dist-packages (from optuna) (1.4.22)\n",
            "Collecting colorlog\n",
            "  Downloading colorlog-6.4.1-py2.py3-none-any.whl (11 kB)\n",
            "Collecting cmaes>=0.8.2\n",
            "  Downloading cmaes-0.8.2-py3-none-any.whl (15 kB)\n",
            "Collecting alembic\n",
            "  Downloading alembic-1.7.1-py3-none-any.whl (208 kB)\n",
            "\u001b[K     |████████████████████████████████| 208 kB 50.7 MB/s \n",
            "\u001b[?25hRequirement already satisfied: greenlet!=0.4.17 in /usr/local/lib/python3.7/dist-packages (from sqlalchemy>=1.1.0->optuna) (1.1.1)\n",
            "Collecting libretranslatepy==2.1.1\n",
            "  Downloading libretranslatepy-2.1.1-py3-none-any.whl (3.2 kB)\n",
            "Requirement already satisfied: lxml in /usr/local/lib/python3.7/dist-packages (from translate) (4.2.6)\n",
            "Collecting Mako\n",
            "  Downloading Mako-1.1.5-py2.py3-none-any.whl (75 kB)\n",
            "\u001b[K     |████████████████████████████████| 75 kB 4.3 MB/s \n",
            "\u001b[?25hRequirement already satisfied: importlib-resources in /usr/local/lib/python3.7/dist-packages (from alembic->optuna) (5.2.2)\n",
            "Collecting pbr!=2.1.0,>=2.0.0\n",
            "  Downloading pbr-5.6.0-py2.py3-none-any.whl (111 kB)\n",
            "\u001b[K     |████████████████████████████████| 111 kB 42.2 MB/s \n",
            "\u001b[?25hRequirement already satisfied: PrettyTable>=0.7.2 in /usr/local/lib/python3.7/dist-packages (from cliff->optuna) (2.1.0)\n",
            "Collecting autopage>=0.4.0\n",
            "  Downloading autopage-0.4.0-py3-none-any.whl (20 kB)\n",
            "Collecting stevedore>=2.0.1\n",
            "  Downloading stevedore-3.4.0-py3-none-any.whl (49 kB)\n",
            "\u001b[K     |████████████████████████████████| 49 kB 5.7 MB/s \n",
            "\u001b[?25hCollecting cmd2>=1.0.0\n",
            "  Downloading cmd2-2.1.2-py3-none-any.whl (141 kB)\n",
            "\u001b[K     |████████████████████████████████| 141 kB 45.1 MB/s \n",
            "\u001b[?25hRequirement already satisfied: attrs>=16.3.0 in /usr/local/lib/python3.7/dist-packages (from cmd2>=1.0.0->cliff->optuna) (21.2.0)\n",
            "Collecting pyperclip>=1.6\n",
            "  Downloading pyperclip-1.8.2.tar.gz (20 kB)\n",
            "Collecting colorama>=0.3.7\n",
            "  Downloading colorama-0.4.4-py2.py3-none-any.whl (16 kB)\n",
            "Requirement already satisfied: wcwidth>=0.1.7 in /usr/local/lib/python3.7/dist-packages (from cmd2>=1.0.0->cliff->optuna) (0.2.5)\n",
            "Requirement already satisfied: zipp>=0.5 in /usr/local/lib/python3.7/dist-packages (from importlib-metadata->transformers) (3.5.0)\n",
            "Requirement already satisfied: MarkupSafe>=0.9.2 in /usr/local/lib/python3.7/dist-packages (from Mako->alembic->optuna) (2.0.1)\n",
            "Requirement already satisfied: pytz>=2017.2 in /usr/local/lib/python3.7/dist-packages (from pandas->datasets) (2018.9)\n",
            "Building wheels for collected packages: keras-contrib, seqeval, subprocess32, pyperclip, pathtools\n",
            "  Building wheel for keras-contrib (setup.py) ... \u001b[?25l\u001b[?25hdone\n",
            "  Created wheel for keras-contrib: filename=keras_contrib-2.0.8-py3-none-any.whl size=101077 sha256=4b2827630aa149bef18c885901a4f183240fa06503658da04045fe1369a1ccb6\n",
            "  Stored in directory: /tmp/pip-ephem-wheel-cache-rqck1pa6/wheels/bb/1f/f2/b57495012683b6b20bbae94a3915ec79753111452d79886abc\n",
            "  Building wheel for seqeval (setup.py) ... \u001b[?25l\u001b[?25hdone\n",
            "  Created wheel for seqeval: filename=seqeval-1.2.2-py3-none-any.whl size=16181 sha256=8bff13e403c0742f1d94859335d9fdca792b6ab82a749cfb72e715f7b22c0cc0\n",
            "  Stored in directory: /root/.cache/pip/wheels/05/96/ee/7cac4e74f3b19e3158dce26a20a1c86b3533c43ec72a549fd7\n",
            "  Building wheel for subprocess32 (setup.py) ... \u001b[?25l\u001b[?25hdone\n",
            "  Created wheel for subprocess32: filename=subprocess32-3.5.4-py3-none-any.whl size=6502 sha256=6e6abfee69f7c144fd4eedd33f3bcad1a1552aa8d57f556f10fc2887af455ad8\n",
            "  Stored in directory: /root/.cache/pip/wheels/50/ca/fa/8fca8d246e64f19488d07567547ddec8eb084e8c0d7a59226a\n",
            "  Building wheel for pyperclip (setup.py) ... \u001b[?25l\u001b[?25hdone\n",
            "  Created wheel for pyperclip: filename=pyperclip-1.8.2-py3-none-any.whl size=11136 sha256=fb06e2d5cb0a03780e00721877881f79205da27ebe3cd822fb142ae1a65cf9cf\n",
            "  Stored in directory: /root/.cache/pip/wheels/9f/18/84/8f69f8b08169c7bae2dde6bd7daf0c19fca8c8e500ee620a28\n",
            "  Building wheel for pathtools (setup.py) ... \u001b[?25l\u001b[?25hdone\n",
            "  Created wheel for pathtools: filename=pathtools-0.1.2-py3-none-any.whl size=8807 sha256=98e74c9f1065d85d8a48d06c6ad48e28f2d86c7c4d29bb6d76131967848e2cea\n",
            "  Stored in directory: /root/.cache/pip/wheels/3e/31/09/fa59cef12cdcfecc627b3d24273699f390e71828921b2cbba2\n",
            "Successfully built keras-contrib seqeval subprocess32 pyperclip pathtools\n",
            "Installing collected packages: smmap, pyperclip, pbr, colorama, stevedore, pyyaml, Mako, gitdb, cmd2, autopage, xxhash, tokenizers, subprocess32, shortuuid, sentry-sdk, sacremoses, python-crfsuite, pathtools, libretranslatepy, huggingface-hub, GitPython, fsspec, docker-pycreds, configparser, colorlog, cmaes, cliff, alembic, wandb, translate, transformers, sklearn-crfsuite, seqeval, optuna, keras-contrib, datasets\n",
            "  Attempting uninstall: pyyaml\n",
            "    Found existing installation: PyYAML 3.13\n",
            "    Uninstalling PyYAML-3.13:\n",
            "      Successfully uninstalled PyYAML-3.13\n",
            "Successfully installed GitPython-3.1.18 Mako-1.1.5 alembic-1.7.1 autopage-0.4.0 cliff-3.9.0 cmaes-0.8.2 cmd2-2.1.2 colorama-0.4.4 colorlog-6.4.1 configparser-5.0.2 datasets-1.11.0 docker-pycreds-0.4.0 fsspec-2021.8.1 gitdb-4.0.7 huggingface-hub-0.0.16 keras-contrib-2.0.8 libretranslatepy-2.1.1 optuna-2.9.1 pathtools-0.1.2 pbr-5.6.0 pyperclip-1.8.2 python-crfsuite-0.9.7 pyyaml-5.4.1 sacremoses-0.0.45 sentry-sdk-1.3.1 seqeval-1.2.2 shortuuid-1.0.1 sklearn-crfsuite-0.3.6 smmap-4.0.0 stevedore-3.4.0 subprocess32-3.5.4 tokenizers-0.10.3 transformers-4.10.0 translate-3.6.1 wandb-0.12.1 xxhash-2.0.2\n"
          ]
        }
      ]
    },
    {
      "cell_type": "code",
      "metadata": {
        "id": "-L-qNWacRyYG",
        "colab": {
          "base_uri": "https://localhost:8080/"
        },
        "outputId": "fae6dad2-e069-40d7-b2ea-1315f2fe92ff"
      },
      "source": [
        "# Assign tensorflow to version 1 \n",
        "%tensorflow_version 1.x"
      ],
      "execution_count": 2,
      "outputs": [
        {
          "output_type": "stream",
          "name": "stdout",
          "text": [
            "TensorFlow 1.x selected.\n"
          ]
        }
      ]
    },
    {
      "cell_type": "code",
      "metadata": {
        "colab": {
          "base_uri": "https://localhost:8080/"
        },
        "id": "U4MfIjHrP3PY",
        "outputId": "772282d3-7bd2-4f89-aabc-792a1c3da10d"
      },
      "source": [
        "#Import drive to connect to my google drive\n",
        "from google.colab import drive \n",
        "\n",
        "# Essential libraries\n",
        "import pandas as pd\n",
        "import numpy as np\n",
        "from matplotlib import pyplot as plt\n",
        "import seaborn as sns\n",
        "import plotly.express as px\n",
        "from functools import reduce\n",
        "from operator import add\n",
        "from ast import literal_eval\n",
        "import codecs\n",
        "from tqdm import tqdm\n",
        "\n",
        "# Hyperparamter tunning library\n",
        "import optuna\n",
        "\n",
        "from translate import Translator\n",
        "\n",
        "# Import libraries for creating neural network\n",
        "from keras import Model, Input\n",
        "from keras.layers import GRU, Embedding, Dense,Masking\n",
        "from keras.layers import TimeDistributed, SpatialDropout1D, Bidirectional\n",
        "from keras_contrib.layers import CRF\n",
        "from keras_contrib.metrics import crf_accuracy\n",
        "from keras_contrib.losses import crf_loss\n",
        "from keras.optimizers import Adam\n",
        "from keras.backend import clear_session\n",
        "from keras.preprocessing import sequence\n",
        "from keras.preprocessing.text import Tokenizer\n",
        "from tensorflow.keras.utils import to_categorical\n",
        "from keras.callbacks import ModelCheckpoint, EarlyStopping\n",
        "\n",
        "import torch\n",
        "\n",
        "# Libraries for splitting data , and evalute the model\n",
        "from sklearn.model_selection import train_test_split\n",
        "from sklearn.metrics import confusion_matrix,classification_report\n",
        "\n",
        "# Import huggingface library to get used transformer and its tokenizer\n",
        "from transformers import AutoTokenizer, AutoModelForTokenClassification, Trainer, TrainingArguments\n",
        "from datasets import load_metric\n",
        "\n",
        "# Imported for nicely display the output of the model\n",
        "from spacy import displacy\n",
        "\n",
        "# Imported tools for data preprocessing\n",
        "import nltk\n",
        "from nltk.tokenize import regexp_tokenize\n",
        "from nltk.stem.isri import ISRIStemmer\n",
        "from nltk.tokenize import wordpunct_tokenize\n",
        "nltk.download('stopwords')"
      ],
      "execution_count": 3,
      "outputs": [
        {
          "output_type": "stream",
          "name": "stderr",
          "text": [
            "Using TensorFlow backend.\n"
          ]
        },
        {
          "output_type": "stream",
          "name": "stdout",
          "text": [
            "[nltk_data] Downloading package stopwords to /root/nltk_data...\n",
            "[nltk_data]   Unzipping corpora/stopwords.zip.\n"
          ]
        },
        {
          "output_type": "execute_result",
          "data": {
            "text/plain": [
              "True"
            ]
          },
          "metadata": {},
          "execution_count": 3
        }
      ]
    },
    {
      "cell_type": "code",
      "metadata": {
        "colab": {
          "base_uri": "https://localhost:8080/"
        },
        "id": "FY1wwHew9rQo",
        "outputId": "14dda4ea-38e9-44db-e12c-b69d03829383"
      },
      "source": [
        "# Open the files on my drive\n",
        "drive.mount('/content/drive')"
      ],
      "execution_count": 4,
      "outputs": [
        {
          "output_type": "stream",
          "name": "stdout",
          "text": [
            "Mounted at /content/drive\n"
          ]
        }
      ]
    },
    {
      "cell_type": "code",
      "metadata": {
        "id": "eZke4djq-aBu"
      },
      "source": [
        "# Reading traning and testing data\n",
        "train = pd.read_csv('/content/drive/MyDrive/train.csv')\n",
        "test = pd.read_csv('/content/drive/MyDrive/test.csv')"
      ],
      "execution_count": 5,
      "outputs": []
    },
    {
      "cell_type": "code",
      "metadata": {
        "id": "Tu-hH5pj-m00"
      },
      "source": [
        "# Change the type of annotations from string to array\n",
        "train.annotations = train.annotations.map(literal_eval)\n",
        "test.annotations = test.annotations.map(literal_eval)"
      ],
      "execution_count": 6,
      "outputs": []
    },
    {
      "cell_type": "code",
      "metadata": {
        "id": "-Em1FUXQdEj4",
        "colab": {
          "base_uri": "https://localhost:8080/",
          "height": 203
        },
        "outputId": "361d9a88-34cb-4de6-b869-901eb13be29b"
      },
      "source": [
        "# display the first 5 rows in traning data\n",
        "train.head()"
      ],
      "execution_count": 7,
      "outputs": [
        {
          "output_type": "execute_result",
          "data": {
            "text/html": [
              "<div>\n",
              "<style scoped>\n",
              "    .dataframe tbody tr th:only-of-type {\n",
              "        vertical-align: middle;\n",
              "    }\n",
              "\n",
              "    .dataframe tbody tr th {\n",
              "        vertical-align: top;\n",
              "    }\n",
              "\n",
              "    .dataframe thead th {\n",
              "        text-align: right;\n",
              "    }\n",
              "</style>\n",
              "<table border=\"1\" class=\"dataframe\">\n",
              "  <thead>\n",
              "    <tr style=\"text-align: right;\">\n",
              "      <th></th>\n",
              "      <th>text</th>\n",
              "      <th>annotations</th>\n",
              "    </tr>\n",
              "  </thead>\n",
              "  <tbody>\n",
              "    <tr>\n",
              "      <th>0</th>\n",
              "      <td>طيب لو عايز احول من باقة الانترنت بتاعتى لرقم ...</td>\n",
              "      <td>[{'start': 46, 'end': 57, 'entity': 'phonenumb...</td>\n",
              "    </tr>\n",
              "    <tr>\n",
              "      <th>1</th>\n",
              "      <td>ممكن أعرف متبقيلي ميجابايتس قد ايه؟</td>\n",
              "      <td>[{'start': 18, 'end': 27, 'entity': 'unit'}]</td>\n",
              "    </tr>\n",
              "    <tr>\n",
              "      <th>2</th>\n",
              "      <td>شو سعر دقيقة التجوال فى السعودية</td>\n",
              "      <td>[{'start': 24, 'end': 32, 'entity': 'country'}...</td>\n",
              "    </tr>\n",
              "    <tr>\n",
              "      <th>3</th>\n",
              "      <td>عاوز اضيف دقايق تجوال للرقم ده 01100000011</td>\n",
              "      <td>[{'start': 31, 'end': 42, 'entity': 'phonenumb...</td>\n",
              "    </tr>\n",
              "    <tr>\n",
              "      <th>4</th>\n",
              "      <td>رسايلي المتبقية كام</td>\n",
              "      <td>[{'start': 0, 'end': 6, 'entity': 'unit'}]</td>\n",
              "    </tr>\n",
              "  </tbody>\n",
              "</table>\n",
              "</div>"
            ],
            "text/plain": [
              "                                                text                                        annotations\n",
              "0  طيب لو عايز احول من باقة الانترنت بتاعتى لرقم ...  [{'start': 46, 'end': 57, 'entity': 'phonenumb...\n",
              "1                ممكن أعرف متبقيلي ميجابايتس قد ايه؟       [{'start': 18, 'end': 27, 'entity': 'unit'}]\n",
              "2                   شو سعر دقيقة التجوال فى السعودية  [{'start': 24, 'end': 32, 'entity': 'country'}...\n",
              "3         عاوز اضيف دقايق تجوال للرقم ده 01100000011  [{'start': 31, 'end': 42, 'entity': 'phonenumb...\n",
              "4                                رسايلي المتبقية كام         [{'start': 0, 'end': 6, 'entity': 'unit'}]"
            ]
          },
          "metadata": {},
          "execution_count": 7
        }
      ]
    },
    {
      "cell_type": "code",
      "metadata": {
        "id": "llIVuIRmmoJD",
        "colab": {
          "base_uri": "https://localhost:8080/",
          "height": 203
        },
        "outputId": "cdb45a85-a558-4004-de9e-ffc07b37821f"
      },
      "source": [
        "# display the first 5 rows in traning data\n",
        "test.head()"
      ],
      "execution_count": 8,
      "outputs": [
        {
          "output_type": "execute_result",
          "data": {
            "text/html": [
              "<div>\n",
              "<style scoped>\n",
              "    .dataframe tbody tr th:only-of-type {\n",
              "        vertical-align: middle;\n",
              "    }\n",
              "\n",
              "    .dataframe tbody tr th {\n",
              "        vertical-align: top;\n",
              "    }\n",
              "\n",
              "    .dataframe thead th {\n",
              "        text-align: right;\n",
              "    }\n",
              "</style>\n",
              "<table border=\"1\" class=\"dataframe\">\n",
              "  <thead>\n",
              "    <tr style=\"text-align: right;\">\n",
              "      <th></th>\n",
              "      <th>text</th>\n",
              "      <th>annotations</th>\n",
              "    </tr>\n",
              "  </thead>\n",
              "  <tbody>\n",
              "    <tr>\n",
              "      <th>0</th>\n",
              "      <td>الرسالة من دولة اخرى بكام</td>\n",
              "      <td>[{'start': 0, 'end': 7, 'entity': 'unit'}]</td>\n",
              "    </tr>\n",
              "    <tr>\n",
              "      <th>1</th>\n",
              "      <td>ما هو استهلاك رقم 01100000022</td>\n",
              "      <td>[{'start': 18, 'end': 29, 'entity': 'phonenumb...</td>\n",
              "    </tr>\n",
              "    <tr>\n",
              "      <th>2</th>\n",
              "      <td>خليهم للرقم ده 01100000014</td>\n",
              "      <td>[{'start': 15, 'end': 26, 'entity': 'phonenumb...</td>\n",
              "    </tr>\n",
              "    <tr>\n",
              "      <th>3</th>\n",
              "      <td>حولي منه 50 رسالة</td>\n",
              "      <td>[{'start': 9, 'end': 11, 'entity': 'amount'}, ...</td>\n",
              "    </tr>\n",
              "    <tr>\n",
              "      <th>4</th>\n",
              "      <td>عايزة اعرف استهلاكي للدقايق</td>\n",
              "      <td>[{'start': 20, 'end': 27, 'entity': 'unit'}]</td>\n",
              "    </tr>\n",
              "  </tbody>\n",
              "</table>\n",
              "</div>"
            ],
            "text/plain": [
              "                            text                                        annotations\n",
              "0      الرسالة من دولة اخرى بكام         [{'start': 0, 'end': 7, 'entity': 'unit'}]\n",
              "1  ما هو استهلاك رقم 01100000022  [{'start': 18, 'end': 29, 'entity': 'phonenumb...\n",
              "2     خليهم للرقم ده 01100000014  [{'start': 15, 'end': 26, 'entity': 'phonenumb...\n",
              "3              حولي منه 50 رسالة  [{'start': 9, 'end': 11, 'entity': 'amount'}, ...\n",
              "4    عايزة اعرف استهلاكي للدقايق       [{'start': 20, 'end': 27, 'entity': 'unit'}]"
            ]
          },
          "metadata": {},
          "execution_count": 8
        }
      ]
    },
    {
      "cell_type": "code",
      "metadata": {
        "id": "YdCyyZkKAFx9"
      },
      "source": [
        "# Tokenize the sentences in the traning and testing sets\n",
        "words = train.text.map(wordpunct_tokenize).values\n",
        "test_words = test.text.map(wordpunct_tokenize).values"
      ],
      "execution_count": 9,
      "outputs": []
    },
    {
      "cell_type": "code",
      "metadata": {
        "id": "sQZm2Ms3dIAH"
      },
      "source": [
        "def data_transform(data):\n",
        "  '''\n",
        "  This function is used to return array of tags in each sentence, and\n",
        "  the other array is the coressponding word for that specific tag name\n",
        "  '''\n",
        "  tagged_words = []\n",
        "  tags = []\n",
        "\n",
        "  for i, val in enumerate(data.annotations.values):\n",
        "    words_exc = []\n",
        "    words_tags = []\n",
        "    for v in val:\n",
        "      start = v['start'] # Getting the start index of the sentence\n",
        "      end = v['end'] # Getting the end index of the sentence\n",
        "      entity = 'unit' if v['entity'] == 'type' else v['entity'] # Getting the entity category of the sentence and checks if the category is type add it as unit\n",
        "      \n",
        "      word = data.text.values[i][start:end] # Extracting the sentence string from the start index to the end index assigned above\n",
        "      word = wordpunct_tokenize(word) # Tokenize the sentence into words\n",
        "      words_exc.append(word) # Appending the list of tokenized words\n",
        "      words_tags.extend([entity]*len(word)) # Extend the tag type for each word in the word list\n",
        "\n",
        "\n",
        "    tagged_words.append(words_exc) # Append the list of words in the previous sentence\n",
        "    tags.append(words_tags) # Append the list of tags in the previous sentence\n",
        "  \n",
        "  return tags,tagged_words\n",
        "\n",
        "   "
      ],
      "execution_count": 10,
      "outputs": []
    },
    {
      "cell_type": "code",
      "metadata": {
        "id": "FKSNsGkD3CFi"
      },
      "source": [
        "def bio_tagger(ne_tagged):\n",
        "  '''\n",
        "   This function is used to transform the tags to BIO format, \n",
        "   where  B assigned to the beginning of named entities,\n",
        "   I assigned to inside, and O assigned to other.\n",
        "  '''\n",
        "  bio_tagged = []\n",
        "  prev_tag = \"O\"\n",
        "  for  tag in ne_tagged:\n",
        "    if tag == \"O\": #O\n",
        "      bio_tagged.append( tag)\n",
        "      prev_tag = tag\n",
        "      continue\n",
        "    if tag != \"O\" and prev_tag == \"O\": # Begin NE\n",
        "      bio_tagged.append( \"B-\"+tag)\n",
        "      prev_tag = tag\n",
        "    elif prev_tag != \"O\" and prev_tag == tag: # Inside NE\n",
        "      bio_tagged.append( \"I-\"+tag)\n",
        "      prev_tag = tag\n",
        "    elif prev_tag != \"O\" and prev_tag != tag: # Adjacent NE\n",
        "      bio_tagged.append( \"B-\"+tag)\n",
        "      prev_tag = tag\n",
        "  return bio_tagged"
      ],
      "execution_count": 11,
      "outputs": []
    },
    {
      "cell_type": "code",
      "metadata": {
        "id": "34NPuO566JNa"
      },
      "source": [
        "tags,tagged_words = data_transform(train)\n",
        "test_tags,test_tagged_words = data_transform(test)"
      ],
      "execution_count": 12,
      "outputs": []
    },
    {
      "cell_type": "code",
      "metadata": {
        "id": "8lKnjckGdTPv"
      },
      "source": [
        "def tagger(words,tagged_words,tags):\n",
        "  '''\n",
        "   This function is used to getting the final form of tag array for each sentence\n",
        "\n",
        "   Example:\n",
        "    Input:\n",
        "        words[0] --> ['طيب', 'لو', 'عايز', 'احول', 'من', 'باقة', 'الانترنت', 'بتاعتى', 'لرقم', '01100000014']\n",
        "        tagged_words[0] --> [['01100000014'], ['الانترنت']]\n",
        "        tags[0] --> ['phonenumber', 'unit']\n",
        "    output:\n",
        "        final_tags[0] --> ['O','O','O','O','O','O','unit','O','O','phonenumber']\n",
        "  '''\n",
        "  final_tags= []\n",
        "  for i,sentence in enumerate(words):\n",
        "    indexes = []\n",
        "    for tagged_word in tagged_words[i]:\n",
        "      for word in tagged_word :\n",
        "        index = sentence.index(word) # Getting the array index of the tagged word from the original sentence\n",
        "        indexes.append(index) # Append the index to the list of sentence indexes\n",
        "\n",
        "    final_tags.append(['O'] * (len(sentence))) # Intially assign all the sentence words to be tagged as 'O' and append to final_tags\n",
        "    for j,inx in enumerate(indexes):\n",
        "      final_tags[i][inx] = tags[i][j] # Assign the orginal tag for each word that is in the indexes list form above\n",
        "  return final_tags"
      ],
      "execution_count": 13,
      "outputs": []
    },
    {
      "cell_type": "code",
      "metadata": {
        "id": "nAg3A5CVnUlQ"
      },
      "source": [
        "final_tags = tagger(words,tagged_words,tags)\n",
        "test_final_tags = tagger(test_words,test_tagged_words,test_tags)"
      ],
      "execution_count": 14,
      "outputs": []
    },
    {
      "cell_type": "code",
      "metadata": {
        "id": "21kg5IVS5CbN"
      },
      "source": [
        "# Tag tokens with standard NLP BIO tags\n",
        "final_tags = list(map(bio_tagger,final_tags))\n",
        "final_test_tags = list(map(bio_tagger,test_final_tags))"
      ],
      "execution_count": 15,
      "outputs": []
    },
    {
      "cell_type": "code",
      "metadata": {
        "id": "2w6jyChf9hQU"
      },
      "source": [
        "# Getting a list of the unique tags and unique words in the testing dataset\n",
        "unique_words = list(set(reduce(add,words)))\n",
        "unique_tags = list(set(reduce(add,final_tags)))"
      ],
      "execution_count": 16,
      "outputs": []
    },
    {
      "cell_type": "code",
      "metadata": {
        "colab": {
          "base_uri": "https://localhost:8080/"
        },
        "id": "J2bCD6vHqFiU",
        "outputId": "918aa012-4e92-470d-f138-268aa2964b93"
      },
      "source": [
        "unique_tags"
      ],
      "execution_count": 17,
      "outputs": [
        {
          "output_type": "execute_result",
          "data": {
            "text/plain": [
              "['O',\n",
              " 'B-unit',\n",
              " 'B-phonenumber',\n",
              " 'I-unit',\n",
              " 'B-country',\n",
              " 'I-country',\n",
              " 'B-amount']"
            ]
          },
          "metadata": {},
          "execution_count": 17
        }
      ]
    },
    {
      "cell_type": "code",
      "metadata": {
        "id": "MPncg8nlg9t-"
      },
      "source": [
        "tag2idx  =  {t : i for i,t in enumerate(unique_tags)} # Dictionary of every tag and its coressponding id"
      ],
      "execution_count": 18,
      "outputs": []
    },
    {
      "cell_type": "markdown",
      "metadata": {
        "id": "scGM2E2aN3kv"
      },
      "source": [
        "## EDA"
      ]
    },
    {
      "cell_type": "markdown",
      "metadata": {
        "id": "NQyn5kH84nPs"
      },
      "source": [
        "### Histogram of the sentence lengths count"
      ]
    },
    {
      "cell_type": "code",
      "metadata": {
        "colab": {
          "base_uri": "https://localhost:8080/",
          "height": 542
        },
        "id": "8HHp1S3ZN22j",
        "outputId": "e17f91d3-4eea-4f22-fc2d-4078296250dc"
      },
      "source": [
        "px.histogram(x = [len(s) for s in words],title='Histogram of the sentence lengths in the traning dataset',labels={'x':'Sentence length'})"
      ],
      "execution_count": null,
      "outputs": [
        {
          "output_type": "display_data",
          "data": {
            "text/html": [
              "<html>\n",
              "<head><meta charset=\"utf-8\" /></head>\n",
              "<body>\n",
              "    <div>\n",
              "            <script src=\"https://cdnjs.cloudflare.com/ajax/libs/mathjax/2.7.5/MathJax.js?config=TeX-AMS-MML_SVG\"></script><script type=\"text/javascript\">if (window.MathJax) {MathJax.Hub.Config({SVG: {font: \"STIX-Web\"}});}</script>\n",
              "                <script type=\"text/javascript\">window.PlotlyConfig = {MathJaxConfig: 'local'};</script>\n",
              "        <script src=\"https://cdn.plot.ly/plotly-latest.min.js\"></script>    \n",
              "            <div id=\"7d686e6f-a958-49e1-9d69-6911b7ccf211\" class=\"plotly-graph-div\" style=\"height:525px; width:100%;\"></div>\n",
              "            <script type=\"text/javascript\">\n",
              "                \n",
              "                    window.PLOTLYENV=window.PLOTLYENV || {};\n",
              "                    \n",
              "                if (document.getElementById(\"7d686e6f-a958-49e1-9d69-6911b7ccf211\")) {\n",
              "                    Plotly.newPlot(\n",
              "                        '7d686e6f-a958-49e1-9d69-6911b7ccf211',\n",
              "                        [{\"alignmentgroup\": \"True\", \"bingroup\": \"x\", \"hoverlabel\": {\"namelength\": 0}, \"hovertemplate\": \"Sentence length=%{x}<br>count=%{y}\", \"legendgroup\": \"\", \"marker\": {\"color\": \"#636efa\"}, \"name\": \"\", \"offsetgroup\": \"\", \"orientation\": \"v\", \"showlegend\": false, \"type\": \"histogram\", \"x\": [10, 7, 6, 7, 3, 4, 4, 4, 7, 3, 13, 7, 4, 7, 5, 3, 5, 4, 5, 10, 9, 7, 3, 6, 4, 5, 4, 4, 11, 3, 7, 3, 6, 9, 4, 5, 3, 4, 4, 6, 8, 3, 6, 9, 6, 3, 3, 5, 4, 5, 6, 5, 10, 10, 6, 5, 4, 6, 3, 7, 3, 9, 7, 5, 6, 3, 11, 4, 4, 8, 5, 11, 3, 5, 5, 7, 4, 6, 4, 8, 8, 8, 5, 4, 3, 6, 3, 7, 5, 7, 14, 6, 8, 5, 5, 4, 6, 7, 7, 4, 3, 8, 3, 11, 8, 6, 4, 3, 7, 5, 2, 8, 7, 4, 2, 4, 6, 5, 8, 5, 4, 4, 6, 10, 7, 10, 6, 4, 2, 11, 5, 5, 4, 8, 6, 4, 7, 5, 5, 5, 7, 4, 5, 8, 8, 3, 8, 3, 4, 4, 7, 6, 8, 7, 5, 3, 7, 12, 4, 4, 7, 3, 3, 3, 10, 10, 5, 12, 7, 5, 3, 3, 4, 9, 8, 7, 3, 4, 5, 3, 3, 7, 10, 6, 6, 4, 6, 2, 6, 7, 8, 3, 3, 11, 4, 4, 10, 5, 4, 3, 9, 4, 3, 7, 4, 7, 3, 6, 6, 3, 4, 8, 8, 7, 9, 5, 3, 13, 7, 7, 5, 17, 11, 3, 6, 5, 2, 5, 6, 5, 6, 5], \"xaxis\": \"x\", \"yaxis\": \"y\"}],\n",
              "                        {\"barmode\": \"relative\", \"legend\": {\"tracegroupgap\": 0}, \"template\": {\"data\": {\"bar\": [{\"error_x\": {\"color\": \"#2a3f5f\"}, \"error_y\": {\"color\": \"#2a3f5f\"}, \"marker\": {\"line\": {\"color\": \"#E5ECF6\", \"width\": 0.5}}, \"type\": \"bar\"}], \"barpolar\": [{\"marker\": {\"line\": {\"color\": \"#E5ECF6\", \"width\": 0.5}}, \"type\": \"barpolar\"}], \"carpet\": [{\"aaxis\": {\"endlinecolor\": \"#2a3f5f\", \"gridcolor\": \"white\", \"linecolor\": \"white\", \"minorgridcolor\": \"white\", \"startlinecolor\": \"#2a3f5f\"}, \"baxis\": {\"endlinecolor\": \"#2a3f5f\", \"gridcolor\": \"white\", \"linecolor\": \"white\", \"minorgridcolor\": \"white\", \"startlinecolor\": \"#2a3f5f\"}, \"type\": \"carpet\"}], \"choropleth\": [{\"colorbar\": {\"outlinewidth\": 0, \"ticks\": \"\"}, \"type\": \"choropleth\"}], \"contour\": [{\"colorbar\": {\"outlinewidth\": 0, \"ticks\": \"\"}, \"colorscale\": [[0.0, \"#0d0887\"], [0.1111111111111111, \"#46039f\"], [0.2222222222222222, \"#7201a8\"], [0.3333333333333333, \"#9c179e\"], [0.4444444444444444, \"#bd3786\"], [0.5555555555555556, \"#d8576b\"], [0.6666666666666666, \"#ed7953\"], [0.7777777777777778, \"#fb9f3a\"], [0.8888888888888888, \"#fdca26\"], [1.0, \"#f0f921\"]], \"type\": \"contour\"}], \"contourcarpet\": [{\"colorbar\": {\"outlinewidth\": 0, \"ticks\": \"\"}, \"type\": \"contourcarpet\"}], \"heatmap\": [{\"colorbar\": {\"outlinewidth\": 0, \"ticks\": \"\"}, \"colorscale\": [[0.0, \"#0d0887\"], [0.1111111111111111, \"#46039f\"], [0.2222222222222222, \"#7201a8\"], [0.3333333333333333, \"#9c179e\"], [0.4444444444444444, \"#bd3786\"], [0.5555555555555556, \"#d8576b\"], [0.6666666666666666, \"#ed7953\"], [0.7777777777777778, \"#fb9f3a\"], [0.8888888888888888, \"#fdca26\"], [1.0, \"#f0f921\"]], \"type\": \"heatmap\"}], \"heatmapgl\": [{\"colorbar\": {\"outlinewidth\": 0, \"ticks\": \"\"}, \"colorscale\": [[0.0, \"#0d0887\"], [0.1111111111111111, \"#46039f\"], [0.2222222222222222, \"#7201a8\"], [0.3333333333333333, \"#9c179e\"], [0.4444444444444444, \"#bd3786\"], [0.5555555555555556, \"#d8576b\"], [0.6666666666666666, \"#ed7953\"], [0.7777777777777778, \"#fb9f3a\"], [0.8888888888888888, \"#fdca26\"], [1.0, \"#f0f921\"]], \"type\": \"heatmapgl\"}], \"histogram\": [{\"marker\": {\"colorbar\": {\"outlinewidth\": 0, \"ticks\": \"\"}}, \"type\": \"histogram\"}], \"histogram2d\": [{\"colorbar\": {\"outlinewidth\": 0, \"ticks\": \"\"}, \"colorscale\": [[0.0, \"#0d0887\"], [0.1111111111111111, \"#46039f\"], [0.2222222222222222, \"#7201a8\"], [0.3333333333333333, \"#9c179e\"], [0.4444444444444444, \"#bd3786\"], [0.5555555555555556, \"#d8576b\"], [0.6666666666666666, \"#ed7953\"], [0.7777777777777778, \"#fb9f3a\"], [0.8888888888888888, \"#fdca26\"], [1.0, \"#f0f921\"]], \"type\": \"histogram2d\"}], \"histogram2dcontour\": [{\"colorbar\": {\"outlinewidth\": 0, \"ticks\": \"\"}, \"colorscale\": [[0.0, \"#0d0887\"], [0.1111111111111111, \"#46039f\"], [0.2222222222222222, \"#7201a8\"], [0.3333333333333333, \"#9c179e\"], [0.4444444444444444, \"#bd3786\"], [0.5555555555555556, \"#d8576b\"], [0.6666666666666666, \"#ed7953\"], [0.7777777777777778, \"#fb9f3a\"], [0.8888888888888888, \"#fdca26\"], [1.0, \"#f0f921\"]], \"type\": \"histogram2dcontour\"}], \"mesh3d\": [{\"colorbar\": {\"outlinewidth\": 0, \"ticks\": \"\"}, \"type\": \"mesh3d\"}], \"parcoords\": [{\"line\": {\"colorbar\": {\"outlinewidth\": 0, \"ticks\": \"\"}}, \"type\": \"parcoords\"}], \"pie\": [{\"automargin\": true, \"type\": \"pie\"}], \"scatter\": [{\"marker\": {\"colorbar\": {\"outlinewidth\": 0, \"ticks\": \"\"}}, \"type\": \"scatter\"}], \"scatter3d\": [{\"line\": {\"colorbar\": {\"outlinewidth\": 0, \"ticks\": \"\"}}, \"marker\": {\"colorbar\": {\"outlinewidth\": 0, \"ticks\": \"\"}}, \"type\": \"scatter3d\"}], \"scattercarpet\": [{\"marker\": {\"colorbar\": {\"outlinewidth\": 0, \"ticks\": \"\"}}, \"type\": \"scattercarpet\"}], \"scattergeo\": [{\"marker\": {\"colorbar\": {\"outlinewidth\": 0, \"ticks\": \"\"}}, \"type\": \"scattergeo\"}], \"scattergl\": [{\"marker\": {\"colorbar\": {\"outlinewidth\": 0, \"ticks\": \"\"}}, \"type\": \"scattergl\"}], \"scattermapbox\": [{\"marker\": {\"colorbar\": {\"outlinewidth\": 0, \"ticks\": \"\"}}, \"type\": \"scattermapbox\"}], \"scatterpolar\": [{\"marker\": {\"colorbar\": {\"outlinewidth\": 0, \"ticks\": \"\"}}, \"type\": \"scatterpolar\"}], \"scatterpolargl\": [{\"marker\": {\"colorbar\": {\"outlinewidth\": 0, \"ticks\": \"\"}}, \"type\": \"scatterpolargl\"}], \"scatterternary\": [{\"marker\": {\"colorbar\": {\"outlinewidth\": 0, \"ticks\": \"\"}}, \"type\": \"scatterternary\"}], \"surface\": [{\"colorbar\": {\"outlinewidth\": 0, \"ticks\": \"\"}, \"colorscale\": [[0.0, \"#0d0887\"], [0.1111111111111111, \"#46039f\"], [0.2222222222222222, \"#7201a8\"], [0.3333333333333333, \"#9c179e\"], [0.4444444444444444, \"#bd3786\"], [0.5555555555555556, \"#d8576b\"], [0.6666666666666666, \"#ed7953\"], [0.7777777777777778, \"#fb9f3a\"], [0.8888888888888888, \"#fdca26\"], [1.0, \"#f0f921\"]], \"type\": \"surface\"}], \"table\": [{\"cells\": {\"fill\": {\"color\": \"#EBF0F8\"}, \"line\": {\"color\": \"white\"}}, \"header\": {\"fill\": {\"color\": \"#C8D4E3\"}, \"line\": {\"color\": \"white\"}}, \"type\": \"table\"}]}, \"layout\": {\"annotationdefaults\": {\"arrowcolor\": \"#2a3f5f\", \"arrowhead\": 0, \"arrowwidth\": 1}, \"coloraxis\": {\"colorbar\": {\"outlinewidth\": 0, \"ticks\": \"\"}}, \"colorscale\": {\"diverging\": [[0, \"#8e0152\"], [0.1, \"#c51b7d\"], [0.2, \"#de77ae\"], [0.3, \"#f1b6da\"], [0.4, \"#fde0ef\"], [0.5, \"#f7f7f7\"], [0.6, \"#e6f5d0\"], [0.7, \"#b8e186\"], [0.8, \"#7fbc41\"], [0.9, \"#4d9221\"], [1, \"#276419\"]], \"sequential\": [[0.0, \"#0d0887\"], [0.1111111111111111, \"#46039f\"], [0.2222222222222222, \"#7201a8\"], [0.3333333333333333, \"#9c179e\"], [0.4444444444444444, \"#bd3786\"], [0.5555555555555556, \"#d8576b\"], [0.6666666666666666, \"#ed7953\"], [0.7777777777777778, \"#fb9f3a\"], [0.8888888888888888, \"#fdca26\"], [1.0, \"#f0f921\"]], \"sequentialminus\": [[0.0, \"#0d0887\"], [0.1111111111111111, \"#46039f\"], [0.2222222222222222, \"#7201a8\"], [0.3333333333333333, \"#9c179e\"], [0.4444444444444444, \"#bd3786\"], [0.5555555555555556, \"#d8576b\"], [0.6666666666666666, \"#ed7953\"], [0.7777777777777778, \"#fb9f3a\"], [0.8888888888888888, \"#fdca26\"], [1.0, \"#f0f921\"]]}, \"colorway\": [\"#636efa\", \"#EF553B\", \"#00cc96\", \"#ab63fa\", \"#FFA15A\", \"#19d3f3\", \"#FF6692\", \"#B6E880\", \"#FF97FF\", \"#FECB52\"], \"font\": {\"color\": \"#2a3f5f\"}, \"geo\": {\"bgcolor\": \"white\", \"lakecolor\": \"white\", \"landcolor\": \"#E5ECF6\", \"showlakes\": true, \"showland\": true, \"subunitcolor\": \"white\"}, \"hoverlabel\": {\"align\": \"left\"}, \"hovermode\": \"closest\", \"mapbox\": {\"style\": \"light\"}, \"paper_bgcolor\": \"white\", \"plot_bgcolor\": \"#E5ECF6\", \"polar\": {\"angularaxis\": {\"gridcolor\": \"white\", \"linecolor\": \"white\", \"ticks\": \"\"}, \"bgcolor\": \"#E5ECF6\", \"radialaxis\": {\"gridcolor\": \"white\", \"linecolor\": \"white\", \"ticks\": \"\"}}, \"scene\": {\"xaxis\": {\"backgroundcolor\": \"#E5ECF6\", \"gridcolor\": \"white\", \"gridwidth\": 2, \"linecolor\": \"white\", \"showbackground\": true, \"ticks\": \"\", \"zerolinecolor\": \"white\"}, \"yaxis\": {\"backgroundcolor\": \"#E5ECF6\", \"gridcolor\": \"white\", \"gridwidth\": 2, \"linecolor\": \"white\", \"showbackground\": true, \"ticks\": \"\", \"zerolinecolor\": \"white\"}, \"zaxis\": {\"backgroundcolor\": \"#E5ECF6\", \"gridcolor\": \"white\", \"gridwidth\": 2, \"linecolor\": \"white\", \"showbackground\": true, \"ticks\": \"\", \"zerolinecolor\": \"white\"}}, \"shapedefaults\": {\"line\": {\"color\": \"#2a3f5f\"}}, \"ternary\": {\"aaxis\": {\"gridcolor\": \"white\", \"linecolor\": \"white\", \"ticks\": \"\"}, \"baxis\": {\"gridcolor\": \"white\", \"linecolor\": \"white\", \"ticks\": \"\"}, \"bgcolor\": \"#E5ECF6\", \"caxis\": {\"gridcolor\": \"white\", \"linecolor\": \"white\", \"ticks\": \"\"}}, \"title\": {\"x\": 0.05}, \"xaxis\": {\"automargin\": true, \"gridcolor\": \"white\", \"linecolor\": \"white\", \"ticks\": \"\", \"title\": {\"standoff\": 15}, \"zerolinecolor\": \"white\", \"zerolinewidth\": 2}, \"yaxis\": {\"automargin\": true, \"gridcolor\": \"white\", \"linecolor\": \"white\", \"ticks\": \"\", \"title\": {\"standoff\": 15}, \"zerolinecolor\": \"white\", \"zerolinewidth\": 2}}}, \"title\": {\"text\": \"Histogram of the sentence lengths in the traning dataset\"}, \"xaxis\": {\"anchor\": \"y\", \"domain\": [0.0, 1.0], \"title\": {\"text\": \"Sentence length\"}}, \"yaxis\": {\"anchor\": \"x\", \"domain\": [0.0, 1.0], \"title\": {\"text\": \"count\"}}},\n",
              "                        {\"responsive\": true}\n",
              "                    ).then(function(){\n",
              "                            \n",
              "var gd = document.getElementById('7d686e6f-a958-49e1-9d69-6911b7ccf211');\n",
              "var x = new MutationObserver(function (mutations, observer) {{\n",
              "        var display = window.getComputedStyle(gd).display;\n",
              "        if (!display || display === 'none') {{\n",
              "            console.log([gd, 'removed!']);\n",
              "            Plotly.purge(gd);\n",
              "            observer.disconnect();\n",
              "        }}\n",
              "}});\n",
              "\n",
              "// Listen for the removal of the full notebook cells\n",
              "var notebookContainer = gd.closest('#notebook-container');\n",
              "if (notebookContainer) {{\n",
              "    x.observe(notebookContainer, {childList: true});\n",
              "}}\n",
              "\n",
              "// Listen for the clearing of the current output cell\n",
              "var outputEl = gd.closest('.output');\n",
              "if (outputEl) {{\n",
              "    x.observe(outputEl, {childList: true});\n",
              "}}\n",
              "\n",
              "                        })\n",
              "                };\n",
              "                \n",
              "            </script>\n",
              "        </div>\n",
              "</body>\n",
              "</html>"
            ]
          },
          "metadata": {}
        }
      ]
    },
    {
      "cell_type": "markdown",
      "metadata": {
        "id": "TwH8wpP7xk2l"
      },
      "source": [
        "This histogram shows that most of the sentences in the training dataset is with length 4, while the largest sentence is of length 17. So, the chosen maximum length will be 20."
      ]
    },
    {
      "cell_type": "markdown",
      "metadata": {
        "id": "dXTieuwb4vDP"
      },
      "source": [
        "### Histogram of the count of each category in the traning set"
      ]
    },
    {
      "cell_type": "code",
      "metadata": {
        "colab": {
          "base_uri": "https://localhost:8080/",
          "height": 542
        },
        "id": "4LchGN6nySAS",
        "outputId": "c27f2329-afb3-47e0-c699-bd50a5dc57c6"
      },
      "source": [
        "categories_list = reduce(add,final_tags)\n",
        "px.histogram(x = categories_list,title='Histogram of the count of every category in the traning dataset',labels={'x':'NER Category'},color= categories_list)"
      ],
      "execution_count": null,
      "outputs": [
        {
          "output_type": "display_data",
          "data": {
            "text/html": [
              "<html>\n",
              "<head><meta charset=\"utf-8\" /></head>\n",
              "<body>\n",
              "    <div>\n",
              "            <script src=\"https://cdnjs.cloudflare.com/ajax/libs/mathjax/2.7.5/MathJax.js?config=TeX-AMS-MML_SVG\"></script><script type=\"text/javascript\">if (window.MathJax) {MathJax.Hub.Config({SVG: {font: \"STIX-Web\"}});}</script>\n",
              "                <script type=\"text/javascript\">window.PlotlyConfig = {MathJaxConfig: 'local'};</script>\n",
              "        <script src=\"https://cdn.plot.ly/plotly-latest.min.js\"></script>    \n",
              "            <div id=\"e143e141-c29b-4e9e-8c7a-9355f79f719c\" class=\"plotly-graph-div\" style=\"height:525px; width:100%;\"></div>\n",
              "            <script type=\"text/javascript\">\n",
              "                \n",
              "                    window.PLOTLYENV=window.PLOTLYENV || {};\n",
              "                    \n",
              "                if (document.getElementById(\"e143e141-c29b-4e9e-8c7a-9355f79f719c\")) {\n",
              "                    Plotly.newPlot(\n",
              "                        'e143e141-c29b-4e9e-8c7a-9355f79f719c',\n",
              "                        [{\"alignmentgroup\": \"True\", \"bingroup\": \"x\", \"hoverlabel\": {\"namelength\": 0}, \"hovertemplate\": \"color=O<br>NER Category=%{x}<br>count=%{y}\", \"legendgroup\": \"color=O\", \"marker\": {\"color\": \"#636efa\"}, \"name\": \"color=O\", \"offsetgroup\": \"color=O\", \"orientation\": \"v\", \"showlegend\": true, \"type\": \"histogram\", \"x\": [\"O\", \"O\", \"O\", \"O\", \"O\", \"O\", \"O\", \"O\", \"O\", \"O\", \"O\", \"O\", \"O\", \"O\", \"O\", \"O\", \"O\", \"O\", \"O\", \"O\", \"O\", \"O\", \"O\", \"O\", \"O\", \"O\", \"O\", \"O\", \"O\", \"O\", \"O\", \"O\", \"O\", \"O\", \"O\", \"O\", \"O\", \"O\", \"O\", \"O\", \"O\", \"O\", \"O\", \"O\", \"O\", \"O\", \"O\", \"O\", \"O\", \"O\", \"O\", \"O\", \"O\", \"O\", \"O\", \"O\", \"O\", \"O\", \"O\", \"O\", \"O\", \"O\", \"O\", \"O\", \"O\", \"O\", \"O\", \"O\", \"O\", \"O\", \"O\", \"O\", \"O\", \"O\", \"O\", \"O\", \"O\", \"O\", \"O\", \"O\", \"O\", \"O\", \"O\", \"O\", \"O\", \"O\", \"O\", \"O\", \"O\", \"O\", \"O\", \"O\", \"O\", \"O\", \"O\", \"O\", \"O\", \"O\", \"O\", \"O\", \"O\", \"O\", \"O\", \"O\", \"O\", \"O\", \"O\", \"O\", \"O\", \"O\", \"O\", \"O\", \"O\", \"O\", \"O\", \"O\", \"O\", \"O\", \"O\", \"O\", \"O\", \"O\", \"O\", \"O\", \"O\", \"O\", \"O\", \"O\", \"O\", \"O\", \"O\", \"O\", \"O\", \"O\", \"O\", \"O\", \"O\", \"O\", \"O\", \"O\", \"O\", \"O\", \"O\", \"O\", \"O\", \"O\", \"O\", \"O\", \"O\", \"O\", \"O\", \"O\", \"O\", \"O\", \"O\", \"O\", \"O\", \"O\", \"O\", \"O\", \"O\", \"O\", \"O\", \"O\", \"O\", \"O\", \"O\", \"O\", \"O\", \"O\", \"O\", \"O\", \"O\", \"O\", \"O\", \"O\", \"O\", \"O\", \"O\", \"O\", \"O\", \"O\", \"O\", \"O\", \"O\", \"O\", \"O\", \"O\", \"O\", \"O\", \"O\", \"O\", \"O\", \"O\", \"O\", \"O\", \"O\", \"O\", \"O\", \"O\", \"O\", \"O\", \"O\", \"O\", \"O\", \"O\", \"O\", \"O\", \"O\", \"O\", \"O\", \"O\", \"O\", \"O\", \"O\", \"O\", \"O\", \"O\", \"O\", \"O\", \"O\", \"O\", \"O\", \"O\", \"O\", \"O\", \"O\", \"O\", \"O\", \"O\", \"O\", \"O\", \"O\", \"O\", \"O\", \"O\", \"O\", \"O\", \"O\", \"O\", \"O\", \"O\", \"O\", \"O\", \"O\", \"O\", \"O\", \"O\", \"O\", \"O\", \"O\", \"O\", \"O\", \"O\", \"O\", \"O\", \"O\", \"O\", \"O\", \"O\", \"O\", \"O\", \"O\", \"O\", \"O\", \"O\", \"O\", \"O\", \"O\", \"O\", \"O\", \"O\", \"O\", \"O\", \"O\", \"O\", \"O\", \"O\", \"O\", \"O\", \"O\", \"O\", \"O\", \"O\", \"O\", \"O\", \"O\", \"O\", \"O\", \"O\", \"O\", \"O\", \"O\", \"O\", \"O\", \"O\", \"O\", \"O\", \"O\", \"O\", \"O\", \"O\", \"O\", \"O\", \"O\", \"O\", \"O\", \"O\", \"O\", \"O\", \"O\", \"O\", \"O\", \"O\", \"O\", \"O\", \"O\", \"O\", \"O\", \"O\", \"O\", \"O\", \"O\", \"O\", \"O\", \"O\", \"O\", \"O\", \"O\", \"O\", \"O\", \"O\", \"O\", \"O\", \"O\", \"O\", \"O\", \"O\", \"O\", \"O\", \"O\", \"O\", \"O\", \"O\", \"O\", \"O\", \"O\", \"O\", \"O\", \"O\", \"O\", \"O\", \"O\", \"O\", \"O\", \"O\", \"O\", \"O\", \"O\", \"O\", \"O\", \"O\", \"O\", \"O\", \"O\", \"O\", \"O\", \"O\", \"O\", \"O\", \"O\", \"O\", \"O\", \"O\", \"O\", \"O\", \"O\", \"O\", \"O\", \"O\", \"O\", \"O\", \"O\", \"O\", \"O\", \"O\", \"O\", \"O\", \"O\", \"O\", \"O\", \"O\", \"O\", \"O\", \"O\", \"O\", \"O\", \"O\", \"O\", \"O\", \"O\", \"O\", \"O\", \"O\", \"O\", \"O\", \"O\", \"O\", \"O\", \"O\", \"O\", \"O\", \"O\", \"O\", \"O\", \"O\", \"O\", \"O\", \"O\", \"O\", \"O\", \"O\", \"O\", \"O\", \"O\", \"O\", \"O\", \"O\", \"O\", \"O\", \"O\", \"O\", \"O\", \"O\", \"O\", \"O\", \"O\", \"O\", \"O\", \"O\", \"O\", \"O\", \"O\", \"O\", \"O\", \"O\", \"O\", \"O\", \"O\", \"O\", \"O\", \"O\", \"O\", \"O\", \"O\", \"O\", \"O\", \"O\", \"O\", \"O\", \"O\", \"O\", \"O\", \"O\", \"O\", \"O\", \"O\", \"O\", \"O\", \"O\", \"O\", \"O\", \"O\", \"O\", \"O\", \"O\", \"O\", \"O\", \"O\", \"O\", \"O\", \"O\", \"O\", \"O\", \"O\", \"O\", \"O\", \"O\", \"O\", \"O\", \"O\", \"O\", \"O\", \"O\", \"O\", \"O\", \"O\", \"O\", \"O\", \"O\", \"O\", \"O\", \"O\", \"O\", \"O\", \"O\", \"O\", \"O\", \"O\", \"O\", \"O\", \"O\", \"O\", \"O\", \"O\", \"O\", \"O\", \"O\", \"O\", \"O\", \"O\", \"O\", \"O\", \"O\", \"O\", \"O\", \"O\", \"O\", \"O\", \"O\", \"O\", \"O\", \"O\", \"O\", \"O\", \"O\", \"O\", \"O\", \"O\", \"O\", \"O\", \"O\", \"O\", \"O\", \"O\", \"O\", \"O\", \"O\", \"O\", \"O\", \"O\", \"O\", \"O\", \"O\", \"O\", \"O\", \"O\", \"O\", \"O\", \"O\", \"O\", \"O\", \"O\", \"O\", \"O\", \"O\", \"O\", \"O\", \"O\", \"O\", \"O\", \"O\", \"O\", \"O\", \"O\", \"O\", \"O\", \"O\", \"O\", \"O\", \"O\", \"O\", \"O\", \"O\", \"O\", \"O\", \"O\", \"O\", \"O\", \"O\", \"O\", \"O\", \"O\", \"O\", \"O\", \"O\", \"O\", \"O\", \"O\", \"O\", \"O\", \"O\", \"O\", \"O\", \"O\", \"O\", \"O\", \"O\", \"O\", \"O\", \"O\", \"O\", \"O\", \"O\", \"O\", \"O\", \"O\", \"O\", \"O\", \"O\", \"O\", \"O\", \"O\", \"O\", \"O\", \"O\", \"O\", \"O\", \"O\", \"O\", \"O\", \"O\", \"O\", \"O\", \"O\", \"O\", \"O\", \"O\", \"O\", \"O\", \"O\", \"O\", \"O\", \"O\", \"O\", \"O\", \"O\", \"O\", \"O\", \"O\", \"O\", \"O\", \"O\", \"O\", \"O\", \"O\", \"O\", \"O\", \"O\", \"O\", \"O\", \"O\", \"O\", \"O\", \"O\", \"O\", \"O\", \"O\", \"O\", \"O\", \"O\", \"O\", \"O\", \"O\", \"O\", \"O\", \"O\", \"O\", \"O\", \"O\", \"O\", \"O\", \"O\", \"O\", \"O\", \"O\", \"O\", \"O\", \"O\", \"O\", \"O\", \"O\", \"O\", \"O\", \"O\", \"O\", \"O\", \"O\", \"O\", \"O\", \"O\", \"O\", \"O\", \"O\", \"O\", \"O\", \"O\", \"O\", \"O\", \"O\", \"O\", \"O\", \"O\", \"O\", \"O\", \"O\", \"O\", \"O\", \"O\", \"O\", \"O\", \"O\", \"O\", \"O\", \"O\", \"O\", \"O\", \"O\", \"O\", \"O\", \"O\", \"O\", \"O\", \"O\", \"O\", \"O\", \"O\", \"O\", \"O\", \"O\", \"O\", \"O\", \"O\", \"O\", \"O\", \"O\", \"O\", \"O\", \"O\", \"O\", \"O\", \"O\", \"O\", \"O\", \"O\", \"O\", \"O\", \"O\", \"O\", \"O\", \"O\", \"O\", \"O\", \"O\", \"O\", \"O\", \"O\", \"O\", \"O\", \"O\", \"O\", \"O\", \"O\", \"O\", \"O\", \"O\", \"O\", \"O\", \"O\", \"O\", \"O\", \"O\", \"O\", \"O\", \"O\", \"O\", \"O\", \"O\", \"O\", \"O\", \"O\", \"O\", \"O\", \"O\", \"O\", \"O\", \"O\", \"O\", \"O\", \"O\", \"O\", \"O\", \"O\", \"O\", \"O\", \"O\", \"O\", \"O\", \"O\", \"O\", \"O\", \"O\", \"O\", \"O\", \"O\", \"O\", \"O\", \"O\", \"O\", \"O\", \"O\", \"O\", \"O\", \"O\", \"O\", \"O\", \"O\", \"O\", \"O\", \"O\", \"O\", \"O\", \"O\", \"O\", \"O\", \"O\", \"O\", \"O\", \"O\", \"O\", \"O\", \"O\", \"O\", \"O\", \"O\", \"O\", \"O\", \"O\", \"O\", \"O\", \"O\", \"O\", \"O\", \"O\", \"O\", \"O\", \"O\", \"O\", \"O\", \"O\", \"O\", \"O\", \"O\", \"O\", \"O\", \"O\", \"O\", \"O\", \"O\", \"O\", \"O\", \"O\", \"O\", \"O\", \"O\", \"O\", \"O\", \"O\", \"O\", \"O\", \"O\", \"O\", \"O\", \"O\", \"O\", \"O\", \"O\", \"O\", \"O\", \"O\", \"O\", \"O\", \"O\", \"O\", \"O\", \"O\", \"O\", \"O\", \"O\", \"O\", \"O\", \"O\", \"O\", \"O\", \"O\", \"O\", \"O\", \"O\", \"O\", \"O\", \"O\", \"O\", \"O\", \"O\", \"O\", \"O\", \"O\", \"O\", \"O\", \"O\", \"O\", \"O\", \"O\", \"O\", \"O\", \"O\", \"O\", \"O\", \"O\", \"O\", \"O\", \"O\", \"O\", \"O\", \"O\", \"O\", \"O\", \"O\", \"O\", \"O\", \"O\", \"O\", \"O\", \"O\", \"O\", \"O\", \"O\", \"O\", \"O\", \"O\", \"O\", \"O\", \"O\", \"O\", \"O\", \"O\", \"O\", \"O\", \"O\", \"O\", \"O\", \"O\", \"O\", \"O\", \"O\", \"O\", \"O\", \"O\", \"O\", \"O\", \"O\", \"O\", \"O\", \"O\", \"O\", \"O\", \"O\", \"O\", \"O\", \"O\", \"O\", \"O\", \"O\"], \"xaxis\": \"x\", \"yaxis\": \"y\"}, {\"alignmentgroup\": \"True\", \"bingroup\": \"x\", \"hoverlabel\": {\"namelength\": 0}, \"hovertemplate\": \"color=B-unit<br>NER Category=%{x}<br>count=%{y}\", \"legendgroup\": \"color=B-unit\", \"marker\": {\"color\": \"#EF553B\"}, \"name\": \"color=B-unit\", \"offsetgroup\": \"color=B-unit\", \"orientation\": \"v\", \"showlegend\": true, \"type\": \"histogram\", \"x\": [\"B-unit\", \"B-unit\", \"B-unit\", \"B-unit\", \"B-unit\", \"B-unit\", \"B-unit\", \"B-unit\", \"B-unit\", \"B-unit\", \"B-unit\", \"B-unit\", \"B-unit\", \"B-unit\", \"B-unit\", \"B-unit\", \"B-unit\", \"B-unit\", \"B-unit\", \"B-unit\", \"B-unit\", \"B-unit\", \"B-unit\", \"B-unit\", \"B-unit\", \"B-unit\", \"B-unit\", \"B-unit\", \"B-unit\", \"B-unit\", \"B-unit\", \"B-unit\", \"B-unit\", \"B-unit\", \"B-unit\", \"B-unit\", \"B-unit\", \"B-unit\", \"B-unit\", \"B-unit\", \"B-unit\", \"B-unit\", \"B-unit\", \"B-unit\", \"B-unit\", \"B-unit\", \"B-unit\", \"B-unit\", \"B-unit\", \"B-unit\", \"B-unit\", \"B-unit\", \"B-unit\", \"B-unit\", \"B-unit\", \"B-unit\", \"B-unit\", \"B-unit\", \"B-unit\", \"B-unit\", \"B-unit\", \"B-unit\", \"B-unit\", \"B-unit\", \"B-unit\", \"B-unit\", \"B-unit\", \"B-unit\", \"B-unit\", \"B-unit\", \"B-unit\", \"B-unit\", \"B-unit\", \"B-unit\", \"B-unit\", \"B-unit\", \"B-unit\", \"B-unit\", \"B-unit\", \"B-unit\", \"B-unit\", \"B-unit\", \"B-unit\", \"B-unit\", \"B-unit\", \"B-unit\", \"B-unit\", \"B-unit\", \"B-unit\", \"B-unit\", \"B-unit\", \"B-unit\", \"B-unit\", \"B-unit\", \"B-unit\", \"B-unit\", \"B-unit\", \"B-unit\", \"B-unit\", \"B-unit\", \"B-unit\", \"B-unit\", \"B-unit\", \"B-unit\", \"B-unit\", \"B-unit\", \"B-unit\", \"B-unit\", \"B-unit\", \"B-unit\", \"B-unit\", \"B-unit\", \"B-unit\", \"B-unit\", \"B-unit\", \"B-unit\", \"B-unit\", \"B-unit\", \"B-unit\", \"B-unit\", \"B-unit\", \"B-unit\", \"B-unit\", \"B-unit\", \"B-unit\", \"B-unit\", \"B-unit\", \"B-unit\", \"B-unit\", \"B-unit\", \"B-unit\", \"B-unit\", \"B-unit\", \"B-unit\", \"B-unit\", \"B-unit\", \"B-unit\", \"B-unit\", \"B-unit\", \"B-unit\", \"B-unit\", \"B-unit\", \"B-unit\", \"B-unit\", \"B-unit\", \"B-unit\", \"B-unit\", \"B-unit\", \"B-unit\", \"B-unit\", \"B-unit\", \"B-unit\", \"B-unit\", \"B-unit\", \"B-unit\", \"B-unit\", \"B-unit\", \"B-unit\", \"B-unit\", \"B-unit\", \"B-unit\", \"B-unit\", \"B-unit\", \"B-unit\", \"B-unit\", \"B-unit\", \"B-unit\", \"B-unit\", \"B-unit\"], \"xaxis\": \"x\", \"yaxis\": \"y\"}, {\"alignmentgroup\": \"True\", \"bingroup\": \"x\", \"hoverlabel\": {\"namelength\": 0}, \"hovertemplate\": \"color=B-phonenumber<br>NER Category=%{x}<br>count=%{y}\", \"legendgroup\": \"color=B-phonenumber\", \"marker\": {\"color\": \"#00cc96\"}, \"name\": \"color=B-phonenumber\", \"offsetgroup\": \"color=B-phonenumber\", \"orientation\": \"v\", \"showlegend\": true, \"type\": \"histogram\", \"x\": [\"B-phonenumber\", \"B-phonenumber\", \"B-phonenumber\", \"B-phonenumber\", \"B-phonenumber\", \"B-phonenumber\", \"B-phonenumber\", \"B-phonenumber\", \"B-phonenumber\", \"B-phonenumber\", \"B-phonenumber\", \"B-phonenumber\", \"B-phonenumber\", \"B-phonenumber\", \"B-phonenumber\", \"B-phonenumber\", \"B-phonenumber\", \"B-phonenumber\", \"B-phonenumber\", \"B-phonenumber\", \"B-phonenumber\", \"B-phonenumber\", \"B-phonenumber\", \"B-phonenumber\", \"B-phonenumber\", \"B-phonenumber\", \"B-phonenumber\", \"B-phonenumber\", \"B-phonenumber\", \"B-phonenumber\", \"B-phonenumber\", \"B-phonenumber\", \"B-phonenumber\", \"B-phonenumber\", \"B-phonenumber\", \"B-phonenumber\", \"B-phonenumber\", \"B-phonenumber\", \"B-phonenumber\", \"B-phonenumber\", \"B-phonenumber\", \"B-phonenumber\", \"B-phonenumber\", \"B-phonenumber\", \"B-phonenumber\", \"B-phonenumber\", \"B-phonenumber\", \"B-phonenumber\", \"B-phonenumber\", \"B-phonenumber\", \"B-phonenumber\", \"B-phonenumber\", \"B-phonenumber\", \"B-phonenumber\", \"B-phonenumber\", \"B-phonenumber\", \"B-phonenumber\", \"B-phonenumber\", \"B-phonenumber\", \"B-phonenumber\", \"B-phonenumber\", \"B-phonenumber\", \"B-phonenumber\", \"B-phonenumber\", \"B-phonenumber\", \"B-phonenumber\", \"B-phonenumber\", \"B-phonenumber\", \"B-phonenumber\", \"B-phonenumber\", \"B-phonenumber\", \"B-phonenumber\", \"B-phonenumber\", \"B-phonenumber\", \"B-phonenumber\", \"B-phonenumber\", \"B-phonenumber\", \"B-phonenumber\", \"B-phonenumber\", \"B-phonenumber\", \"B-phonenumber\", \"B-phonenumber\", \"B-phonenumber\", \"B-phonenumber\"], \"xaxis\": \"x\", \"yaxis\": \"y\"}, {\"alignmentgroup\": \"True\", \"bingroup\": \"x\", \"hoverlabel\": {\"namelength\": 0}, \"hovertemplate\": \"color=B-country<br>NER Category=%{x}<br>count=%{y}\", \"legendgroup\": \"color=B-country\", \"marker\": {\"color\": \"#ab63fa\"}, \"name\": \"color=B-country\", \"offsetgroup\": \"color=B-country\", \"orientation\": \"v\", \"showlegend\": true, \"type\": \"histogram\", \"x\": [\"B-country\", \"B-country\", \"B-country\", \"B-country\", \"B-country\", \"B-country\", \"B-country\", \"B-country\", \"B-country\", \"B-country\", \"B-country\", \"B-country\", \"B-country\", \"B-country\", \"B-country\", \"B-country\", \"B-country\", \"B-country\", \"B-country\", \"B-country\", \"B-country\", \"B-country\", \"B-country\", \"B-country\", \"B-country\", \"B-country\", \"B-country\", \"B-country\", \"B-country\", \"B-country\", \"B-country\", \"B-country\", \"B-country\", \"B-country\", \"B-country\", \"B-country\", \"B-country\", \"B-country\", \"B-country\", \"B-country\", \"B-country\", \"B-country\", \"B-country\", \"B-country\"], \"xaxis\": \"x\", \"yaxis\": \"y\"}, {\"alignmentgroup\": \"True\", \"bingroup\": \"x\", \"hoverlabel\": {\"namelength\": 0}, \"hovertemplate\": \"color=I-unit<br>NER Category=%{x}<br>count=%{y}\", \"legendgroup\": \"color=I-unit\", \"marker\": {\"color\": \"#FFA15A\"}, \"name\": \"color=I-unit\", \"offsetgroup\": \"color=I-unit\", \"orientation\": \"v\", \"showlegend\": true, \"type\": \"histogram\", \"x\": [\"I-unit\", \"I-unit\", \"I-unit\", \"I-unit\", \"I-unit\", \"I-unit\", \"I-unit\", \"I-unit\", \"I-unit\", \"I-unit\", \"I-unit\", \"I-unit\", \"I-unit\", \"I-unit\", \"I-unit\", \"I-unit\", \"I-unit\", \"I-unit\", \"I-unit\", \"I-unit\", \"I-unit\", \"I-unit\", \"I-unit\", \"I-unit\", \"I-unit\", \"I-unit\", \"I-unit\", \"I-unit\", \"I-unit\", \"I-unit\", \"I-unit\", \"I-unit\"], \"xaxis\": \"x\", \"yaxis\": \"y\"}, {\"alignmentgroup\": \"True\", \"bingroup\": \"x\", \"hoverlabel\": {\"namelength\": 0}, \"hovertemplate\": \"color=B-amount<br>NER Category=%{x}<br>count=%{y}\", \"legendgroup\": \"color=B-amount\", \"marker\": {\"color\": \"#19d3f3\"}, \"name\": \"color=B-amount\", \"offsetgroup\": \"color=B-amount\", \"orientation\": \"v\", \"showlegend\": true, \"type\": \"histogram\", \"x\": [\"B-amount\", \"B-amount\", \"B-amount\", \"B-amount\", \"B-amount\", \"B-amount\", \"B-amount\", \"B-amount\", \"B-amount\", \"B-amount\", \"B-amount\", \"B-amount\", \"B-amount\", \"B-amount\", \"B-amount\", \"B-amount\", \"B-amount\", \"B-amount\", \"B-amount\", \"B-amount\", \"B-amount\", \"B-amount\", \"B-amount\", \"B-amount\", \"B-amount\", \"B-amount\", \"B-amount\", \"B-amount\", \"B-amount\"], \"xaxis\": \"x\", \"yaxis\": \"y\"}, {\"alignmentgroup\": \"True\", \"bingroup\": \"x\", \"hoverlabel\": {\"namelength\": 0}, \"hovertemplate\": \"color=I-country<br>NER Category=%{x}<br>count=%{y}\", \"legendgroup\": \"color=I-country\", \"marker\": {\"color\": \"#FF6692\"}, \"name\": \"color=I-country\", \"offsetgroup\": \"color=I-country\", \"orientation\": \"v\", \"showlegend\": true, \"type\": \"histogram\", \"x\": [\"I-country\", \"I-country\", \"I-country\", \"I-country\", \"I-country\", \"I-country\", \"I-country\"], \"xaxis\": \"x\", \"yaxis\": \"y\"}],\n",
              "                        {\"barmode\": \"relative\", \"legend\": {\"tracegroupgap\": 0}, \"template\": {\"data\": {\"bar\": [{\"error_x\": {\"color\": \"#2a3f5f\"}, \"error_y\": {\"color\": \"#2a3f5f\"}, \"marker\": {\"line\": {\"color\": \"#E5ECF6\", \"width\": 0.5}}, \"type\": \"bar\"}], \"barpolar\": [{\"marker\": {\"line\": {\"color\": \"#E5ECF6\", \"width\": 0.5}}, \"type\": \"barpolar\"}], \"carpet\": [{\"aaxis\": {\"endlinecolor\": \"#2a3f5f\", \"gridcolor\": \"white\", \"linecolor\": \"white\", \"minorgridcolor\": \"white\", \"startlinecolor\": \"#2a3f5f\"}, \"baxis\": {\"endlinecolor\": \"#2a3f5f\", \"gridcolor\": \"white\", \"linecolor\": \"white\", \"minorgridcolor\": \"white\", \"startlinecolor\": \"#2a3f5f\"}, \"type\": \"carpet\"}], \"choropleth\": [{\"colorbar\": {\"outlinewidth\": 0, \"ticks\": \"\"}, \"type\": \"choropleth\"}], \"contour\": [{\"colorbar\": {\"outlinewidth\": 0, \"ticks\": \"\"}, \"colorscale\": [[0.0, \"#0d0887\"], [0.1111111111111111, \"#46039f\"], [0.2222222222222222, \"#7201a8\"], [0.3333333333333333, \"#9c179e\"], [0.4444444444444444, \"#bd3786\"], [0.5555555555555556, \"#d8576b\"], [0.6666666666666666, \"#ed7953\"], [0.7777777777777778, \"#fb9f3a\"], [0.8888888888888888, \"#fdca26\"], [1.0, \"#f0f921\"]], \"type\": \"contour\"}], \"contourcarpet\": [{\"colorbar\": {\"outlinewidth\": 0, \"ticks\": \"\"}, \"type\": \"contourcarpet\"}], \"heatmap\": [{\"colorbar\": {\"outlinewidth\": 0, \"ticks\": \"\"}, \"colorscale\": [[0.0, \"#0d0887\"], [0.1111111111111111, \"#46039f\"], [0.2222222222222222, \"#7201a8\"], [0.3333333333333333, \"#9c179e\"], [0.4444444444444444, \"#bd3786\"], [0.5555555555555556, \"#d8576b\"], [0.6666666666666666, \"#ed7953\"], [0.7777777777777778, \"#fb9f3a\"], [0.8888888888888888, \"#fdca26\"], [1.0, \"#f0f921\"]], \"type\": \"heatmap\"}], \"heatmapgl\": [{\"colorbar\": {\"outlinewidth\": 0, \"ticks\": \"\"}, \"colorscale\": [[0.0, \"#0d0887\"], [0.1111111111111111, \"#46039f\"], [0.2222222222222222, \"#7201a8\"], [0.3333333333333333, \"#9c179e\"], [0.4444444444444444, \"#bd3786\"], [0.5555555555555556, \"#d8576b\"], [0.6666666666666666, \"#ed7953\"], [0.7777777777777778, \"#fb9f3a\"], [0.8888888888888888, \"#fdca26\"], [1.0, \"#f0f921\"]], \"type\": \"heatmapgl\"}], \"histogram\": [{\"marker\": {\"colorbar\": {\"outlinewidth\": 0, \"ticks\": \"\"}}, \"type\": \"histogram\"}], \"histogram2d\": [{\"colorbar\": {\"outlinewidth\": 0, \"ticks\": \"\"}, \"colorscale\": [[0.0, \"#0d0887\"], [0.1111111111111111, \"#46039f\"], [0.2222222222222222, \"#7201a8\"], [0.3333333333333333, \"#9c179e\"], [0.4444444444444444, \"#bd3786\"], [0.5555555555555556, \"#d8576b\"], [0.6666666666666666, \"#ed7953\"], [0.7777777777777778, \"#fb9f3a\"], [0.8888888888888888, \"#fdca26\"], [1.0, \"#f0f921\"]], \"type\": \"histogram2d\"}], \"histogram2dcontour\": [{\"colorbar\": {\"outlinewidth\": 0, \"ticks\": \"\"}, \"colorscale\": [[0.0, \"#0d0887\"], [0.1111111111111111, \"#46039f\"], [0.2222222222222222, \"#7201a8\"], [0.3333333333333333, \"#9c179e\"], [0.4444444444444444, \"#bd3786\"], [0.5555555555555556, \"#d8576b\"], [0.6666666666666666, \"#ed7953\"], [0.7777777777777778, \"#fb9f3a\"], [0.8888888888888888, \"#fdca26\"], [1.0, \"#f0f921\"]], \"type\": \"histogram2dcontour\"}], \"mesh3d\": [{\"colorbar\": {\"outlinewidth\": 0, \"ticks\": \"\"}, \"type\": \"mesh3d\"}], \"parcoords\": [{\"line\": {\"colorbar\": {\"outlinewidth\": 0, \"ticks\": \"\"}}, \"type\": \"parcoords\"}], \"pie\": [{\"automargin\": true, \"type\": \"pie\"}], \"scatter\": [{\"marker\": {\"colorbar\": {\"outlinewidth\": 0, \"ticks\": \"\"}}, \"type\": \"scatter\"}], \"scatter3d\": [{\"line\": {\"colorbar\": {\"outlinewidth\": 0, \"ticks\": \"\"}}, \"marker\": {\"colorbar\": {\"outlinewidth\": 0, \"ticks\": \"\"}}, \"type\": \"scatter3d\"}], \"scattercarpet\": [{\"marker\": {\"colorbar\": {\"outlinewidth\": 0, \"ticks\": \"\"}}, \"type\": \"scattercarpet\"}], \"scattergeo\": [{\"marker\": {\"colorbar\": {\"outlinewidth\": 0, \"ticks\": \"\"}}, \"type\": \"scattergeo\"}], \"scattergl\": [{\"marker\": {\"colorbar\": {\"outlinewidth\": 0, \"ticks\": \"\"}}, \"type\": \"scattergl\"}], \"scattermapbox\": [{\"marker\": {\"colorbar\": {\"outlinewidth\": 0, \"ticks\": \"\"}}, \"type\": \"scattermapbox\"}], \"scatterpolar\": [{\"marker\": {\"colorbar\": {\"outlinewidth\": 0, \"ticks\": \"\"}}, \"type\": \"scatterpolar\"}], \"scatterpolargl\": [{\"marker\": {\"colorbar\": {\"outlinewidth\": 0, \"ticks\": \"\"}}, \"type\": \"scatterpolargl\"}], \"scatterternary\": [{\"marker\": {\"colorbar\": {\"outlinewidth\": 0, \"ticks\": \"\"}}, \"type\": \"scatterternary\"}], \"surface\": [{\"colorbar\": {\"outlinewidth\": 0, \"ticks\": \"\"}, \"colorscale\": [[0.0, \"#0d0887\"], [0.1111111111111111, \"#46039f\"], [0.2222222222222222, \"#7201a8\"], [0.3333333333333333, \"#9c179e\"], [0.4444444444444444, \"#bd3786\"], [0.5555555555555556, \"#d8576b\"], [0.6666666666666666, \"#ed7953\"], [0.7777777777777778, \"#fb9f3a\"], [0.8888888888888888, \"#fdca26\"], [1.0, \"#f0f921\"]], \"type\": \"surface\"}], \"table\": [{\"cells\": {\"fill\": {\"color\": \"#EBF0F8\"}, \"line\": {\"color\": \"white\"}}, \"header\": {\"fill\": {\"color\": \"#C8D4E3\"}, \"line\": {\"color\": \"white\"}}, \"type\": \"table\"}]}, \"layout\": {\"annotationdefaults\": {\"arrowcolor\": \"#2a3f5f\", \"arrowhead\": 0, \"arrowwidth\": 1}, \"coloraxis\": {\"colorbar\": {\"outlinewidth\": 0, \"ticks\": \"\"}}, \"colorscale\": {\"diverging\": [[0, \"#8e0152\"], [0.1, \"#c51b7d\"], [0.2, \"#de77ae\"], [0.3, \"#f1b6da\"], [0.4, \"#fde0ef\"], [0.5, \"#f7f7f7\"], [0.6, \"#e6f5d0\"], [0.7, \"#b8e186\"], [0.8, \"#7fbc41\"], [0.9, \"#4d9221\"], [1, \"#276419\"]], \"sequential\": [[0.0, \"#0d0887\"], [0.1111111111111111, \"#46039f\"], [0.2222222222222222, \"#7201a8\"], [0.3333333333333333, \"#9c179e\"], [0.4444444444444444, \"#bd3786\"], [0.5555555555555556, \"#d8576b\"], [0.6666666666666666, \"#ed7953\"], [0.7777777777777778, \"#fb9f3a\"], [0.8888888888888888, \"#fdca26\"], [1.0, \"#f0f921\"]], \"sequentialminus\": [[0.0, \"#0d0887\"], [0.1111111111111111, \"#46039f\"], [0.2222222222222222, \"#7201a8\"], [0.3333333333333333, \"#9c179e\"], [0.4444444444444444, \"#bd3786\"], [0.5555555555555556, \"#d8576b\"], [0.6666666666666666, \"#ed7953\"], [0.7777777777777778, \"#fb9f3a\"], [0.8888888888888888, \"#fdca26\"], [1.0, \"#f0f921\"]]}, \"colorway\": [\"#636efa\", \"#EF553B\", \"#00cc96\", \"#ab63fa\", \"#FFA15A\", \"#19d3f3\", \"#FF6692\", \"#B6E880\", \"#FF97FF\", \"#FECB52\"], \"font\": {\"color\": \"#2a3f5f\"}, \"geo\": {\"bgcolor\": \"white\", \"lakecolor\": \"white\", \"landcolor\": \"#E5ECF6\", \"showlakes\": true, \"showland\": true, \"subunitcolor\": \"white\"}, \"hoverlabel\": {\"align\": \"left\"}, \"hovermode\": \"closest\", \"mapbox\": {\"style\": \"light\"}, \"paper_bgcolor\": \"white\", \"plot_bgcolor\": \"#E5ECF6\", \"polar\": {\"angularaxis\": {\"gridcolor\": \"white\", \"linecolor\": \"white\", \"ticks\": \"\"}, \"bgcolor\": \"#E5ECF6\", \"radialaxis\": {\"gridcolor\": \"white\", \"linecolor\": \"white\", \"ticks\": \"\"}}, \"scene\": {\"xaxis\": {\"backgroundcolor\": \"#E5ECF6\", \"gridcolor\": \"white\", \"gridwidth\": 2, \"linecolor\": \"white\", \"showbackground\": true, \"ticks\": \"\", \"zerolinecolor\": \"white\"}, \"yaxis\": {\"backgroundcolor\": \"#E5ECF6\", \"gridcolor\": \"white\", \"gridwidth\": 2, \"linecolor\": \"white\", \"showbackground\": true, \"ticks\": \"\", \"zerolinecolor\": \"white\"}, \"zaxis\": {\"backgroundcolor\": \"#E5ECF6\", \"gridcolor\": \"white\", \"gridwidth\": 2, \"linecolor\": \"white\", \"showbackground\": true, \"ticks\": \"\", \"zerolinecolor\": \"white\"}}, \"shapedefaults\": {\"line\": {\"color\": \"#2a3f5f\"}}, \"ternary\": {\"aaxis\": {\"gridcolor\": \"white\", \"linecolor\": \"white\", \"ticks\": \"\"}, \"baxis\": {\"gridcolor\": \"white\", \"linecolor\": \"white\", \"ticks\": \"\"}, \"bgcolor\": \"#E5ECF6\", \"caxis\": {\"gridcolor\": \"white\", \"linecolor\": \"white\", \"ticks\": \"\"}}, \"title\": {\"x\": 0.05}, \"xaxis\": {\"automargin\": true, \"gridcolor\": \"white\", \"linecolor\": \"white\", \"ticks\": \"\", \"title\": {\"standoff\": 15}, \"zerolinecolor\": \"white\", \"zerolinewidth\": 2}, \"yaxis\": {\"automargin\": true, \"gridcolor\": \"white\", \"linecolor\": \"white\", \"ticks\": \"\", \"title\": {\"standoff\": 15}, \"zerolinecolor\": \"white\", \"zerolinewidth\": 2}}}, \"title\": {\"text\": \"Histogram of the count of every category in the traning dataset\"}, \"xaxis\": {\"anchor\": \"y\", \"domain\": [0.0, 1.0], \"title\": {\"text\": \"NER Category\"}}, \"yaxis\": {\"anchor\": \"x\", \"domain\": [0.0, 1.0], \"title\": {\"text\": \"count\"}}},\n",
              "                        {\"responsive\": true}\n",
              "                    ).then(function(){\n",
              "                            \n",
              "var gd = document.getElementById('e143e141-c29b-4e9e-8c7a-9355f79f719c');\n",
              "var x = new MutationObserver(function (mutations, observer) {{\n",
              "        var display = window.getComputedStyle(gd).display;\n",
              "        if (!display || display === 'none') {{\n",
              "            console.log([gd, 'removed!']);\n",
              "            Plotly.purge(gd);\n",
              "            observer.disconnect();\n",
              "        }}\n",
              "}});\n",
              "\n",
              "// Listen for the removal of the full notebook cells\n",
              "var notebookContainer = gd.closest('#notebook-container');\n",
              "if (notebookContainer) {{\n",
              "    x.observe(notebookContainer, {childList: true});\n",
              "}}\n",
              "\n",
              "// Listen for the clearing of the current output cell\n",
              "var outputEl = gd.closest('.output');\n",
              "if (outputEl) {{\n",
              "    x.observe(outputEl, {childList: true});\n",
              "}}\n",
              "\n",
              "                        })\n",
              "                };\n",
              "                \n",
              "            </script>\n",
              "        </div>\n",
              "</body>\n",
              "</html>"
            ]
          },
          "metadata": {}
        }
      ]
    },
    {
      "cell_type": "markdown",
      "metadata": {
        "id": "AuyAgR2I3XAQ"
      },
      "source": [
        "It is observed that 983 of the tokens in the training data is from O category, while the smallest number of examples goes to I-Country label with only 7 labels. So, it will be reasonable that the model will have lower scores in the case of I-Country as there are only 8 examples."
      ]
    },
    {
      "cell_type": "markdown",
      "metadata": {
        "id": "wKR8JXoDLMnA"
      },
      "source": [
        "## Text cleaning"
      ]
    },
    {
      "cell_type": "code",
      "metadata": {
        "id": "y6TitX-ZLPk0"
      },
      "source": [
        "# Getting a list of arabic stopwords\n",
        "STOPWORDS = list(set(nltk.corpus.stopwords.words(\"arabic\")))"
      ],
      "execution_count": null,
      "outputs": []
    },
    {
      "cell_type": "code",
      "metadata": {
        "id": "xGzOLy2CLPVi"
      },
      "source": [
        "def text_cleaning(text):\n",
        "  \n",
        "  '''\n",
        "  This function is used taking sentence as an input, and returns sentence of words\n",
        "  with removed stopwords, puncutation, in addition to, stemming each token.\n",
        "  '''\n",
        "\n",
        "  stemmer = ISRIStemmer() # This class is used for stemming arabic words\n",
        "  tokens= regexp_tokenize(text, r'[،؟!.؛]\\s*', gaps=True) # This functions is used to remove punctuation using the given regex pattern\n",
        "  if len(tokens) > 0:\n",
        "    tokens = wordpunct_tokenize(tokens[0]) # This functions is used for converting sentence into words (tokens)\n",
        "\n",
        "  tokens = [stemmer.stem(word) for word in tokens if word not in STOPWORDS] # Check that every word is not a stopword, and getting the stem of every word\n",
        "\n",
        "  return ' '.join(tokens) "
      ],
      "execution_count": null,
      "outputs": []
    },
    {
      "cell_type": "code",
      "metadata": {
        "id": "qLnD5KtdN63E"
      },
      "source": [
        "cleaned_words = train.text.map(text_cleaning).values\n",
        "test_cleaned_words = test.text.map(text_cleaning).values"
      ],
      "execution_count": null,
      "outputs": []
    },
    {
      "cell_type": "code",
      "metadata": {
        "id": "dX5C_Hc9V7Md"
      },
      "source": [
        "def stan_annot(words,final_tags):\n",
        "  '''\n",
        "  This function is used to transform the shape of words array and tags list into a tuple\n",
        "  where the first index contains the word, and second index contains the tag.\n",
        "  '''\n",
        "  standford_annot = []\n",
        "\n",
        "  for sentence,tags in zip(words,final_tags):\n",
        "    sentences = []\n",
        "    for word,tag in zip(sentence,tags):\n",
        "      sentences.append((word,tag))\n",
        "    standford_annot.append(sentences)\n",
        "  return standford_annot"
      ],
      "execution_count": null,
      "outputs": []
    },
    {
      "cell_type": "code",
      "metadata": {
        "id": "p-USTivCWU06"
      },
      "source": [
        "standford_annot = stan_annot(words,final_tags)\n",
        "test_stanford_annot = stan_annot(test_words,final_test_tags)"
      ],
      "execution_count": null,
      "outputs": []
    },
    {
      "cell_type": "code",
      "metadata": {
        "id": "1zQslUg5XJa6"
      },
      "source": [
        "def cleaned_tagging(cleaned_words,st_annot):\n",
        "  '''\n",
        "  This function takes the tuple representation of each word with its corresponding tag,\n",
        "  while the output of the function is the new list of tags without the removed stopwords,\n",
        "  and punctutation.\n",
        "  '''\n",
        "  cleaned_tags = []\n",
        "  for i,sentence in enumerate(cleaned_words):\n",
        "    annotation = []\n",
        "    for token in sentence.split():\n",
        "      for z in st_annot[i]:\n",
        "        if text_cleaning(z[0]) == token:\n",
        "            annotation.append(z[1])\n",
        "    cleaned_tags.append(annotation)\n",
        "  return cleaned_tags"
      ],
      "execution_count": null,
      "outputs": []
    },
    {
      "cell_type": "code",
      "metadata": {
        "id": "YEF6jsPrATaA"
      },
      "source": [
        "cleaned_tags = cleaned_tagging(cleaned_words,standford_annot)\n",
        "test_cleaned_tags = cleaned_tagging(test_cleaned_words,test_stanford_annot)"
      ],
      "execution_count": null,
      "outputs": []
    },
    {
      "cell_type": "code",
      "metadata": {
        "colab": {
          "base_uri": "https://localhost:8080/"
        },
        "id": "d_UZWRYfQgnd",
        "outputId": "b958de6a-ac78-490f-8d8f-b4d15808168f"
      },
      "source": [
        "tokenizer = Tokenizer(num_words=100000, char_level=False) # Tokenizer object to tokenize data to be used with keras\n",
        "tokenizer.fit_on_texts(cleaned_words) # fitting the clean words to the tokenizer\n",
        "word_seq_train = tokenizer.texts_to_sequences(cleaned_words) # change the text into squences for traning set\n",
        "word_seq_test = tokenizer.texts_to_sequences(test_cleaned_words) # change the text into squences for testing set\n",
        "word_index = tokenizer.word_index # Getting the index of every word in the tokenizer\n",
        "print(\"dictionary size: \", len(word_index))"
      ],
      "execution_count": null,
      "outputs": [
        {
          "output_type": "stream",
          "name": "stdout",
          "text": [
            "dictionary size:  212\n"
          ]
        }
      ]
    },
    {
      "cell_type": "code",
      "metadata": {
        "id": "2i5kXy7KqHGe"
      },
      "source": [
        "# padding the sequences of the traning and testing sets to be all with the same length\n",
        "word_seq_train = sequence.pad_sequences(word_seq_train, maxlen=20,padding='post') \n",
        "word_seq_test = sequence.pad_sequences(word_seq_test,maxlen=20,padding='post')"
      ],
      "execution_count": null,
      "outputs": []
    },
    {
      "cell_type": "code",
      "metadata": {
        "id": "66E_P34WYPqN"
      },
      "source": [
        "y = [[tag2idx[w] for w in s] for s in cleaned_tags] # Getting the id of every tag in the cleaned tags array\n",
        "y = sequence.pad_sequences(maxlen=20, sequences=y, padding=\"post\", value=tag2idx[\"O\"]) # Padding the sequences of the labels in the traning set to be all with the same length \n",
        "y = [to_categorical(i, num_classes=7) for i in y] # Change the multilabel arrays in the traning set into binary array"
      ],
      "execution_count": null,
      "outputs": []
    },
    {
      "cell_type": "code",
      "metadata": {
        "id": "GVCHXtPjDuNq"
      },
      "source": [
        "# Getting the id of every tag in the testing cleaned tags array\n",
        "y_test = [[tag2idx[w] for w in s] for s in test_cleaned_tags] \n",
        "\n",
        "# Padding the sequences of the labels in the testing set to be all with the same length \n",
        "y_test = sequence.pad_sequences(maxlen=60, sequences=y_test, padding=\"post\", value=tag2idx[\"O\"]) "
      ],
      "execution_count": null,
      "outputs": []
    },
    {
      "cell_type": "markdown",
      "metadata": {
        "id": "2L5N1AsoHUh8"
      },
      "source": [
        "## Word embeddings using FastText"
      ]
    },
    {
      "cell_type": "code",
      "metadata": {
        "colab": {
          "base_uri": "https://localhost:8080/"
        },
        "id": "4stSXjCdHbn5",
        "outputId": "c303f531-ee20-468e-c883-2205099de4c7"
      },
      "source": [
        "# Downloading arabic word embedding using FastText\n",
        "!wget https://dl.fbaipublicfiles.com/fasttext/vectors-wiki/wiki.ar.vec"
      ],
      "execution_count": null,
      "outputs": [
        {
          "output_type": "stream",
          "name": "stdout",
          "text": [
            "--2021-09-01 11:53:14--  https://dl.fbaipublicfiles.com/fasttext/vectors-wiki/wiki.ar.vec\n",
            "Resolving dl.fbaipublicfiles.com (dl.fbaipublicfiles.com)... 104.22.75.142, 104.22.74.142, 172.67.9.4, ...\n",
            "Connecting to dl.fbaipublicfiles.com (dl.fbaipublicfiles.com)|104.22.75.142|:443... connected.\n",
            "HTTP request sent, awaiting response... 200 OK\n",
            "Length: 1610017300 (1.5G) [binary/octet-stream]\n",
            "Saving to: ‘wiki.ar.vec’\n",
            "\n",
            "wiki.ar.vec         100%[===================>]   1.50G  26.8MB/s    in 53s     \n",
            "\n",
            "2021-09-01 11:54:08 (28.8 MB/s) - ‘wiki.ar.vec’ saved [1610017300/1610017300]\n",
            "\n"
          ]
        }
      ]
    },
    {
      "cell_type": "code",
      "metadata": {
        "colab": {
          "base_uri": "https://localhost:8080/"
        },
        "id": "38R9LyWGHbe1",
        "outputId": "d08556ae-85c5-493d-ffbc-827c6fa1734b"
      },
      "source": [
        "\n",
        "embeddings_index = {}\n",
        "f = codecs.open('/content/wiki.ar.vec', encoding='utf-8')\n",
        "for line in tqdm(f):\n",
        "  values = line.rstrip().rsplit(' ')\n",
        "  word = values[0]\n",
        "  coefs = np.asarray(values[1:], dtype='float32')\n",
        "  embeddings_index[word] = coefs\n",
        "f.close()"
      ],
      "execution_count": null,
      "outputs": [
        {
          "output_type": "stream",
          "name": "stderr",
          "text": [
            "610979it [01:30, 6782.46it/s]\n"
          ]
        }
      ]
    },
    {
      "cell_type": "code",
      "metadata": {
        "colab": {
          "base_uri": "https://localhost:8080/"
        },
        "id": "xskCMXqeHbPz",
        "outputId": "dcbd1df6-bbed-42ca-a58e-91fd01e1bd48"
      },
      "source": [
        "print('preparing embedding matrix...')\n",
        "\n",
        "words_not_found = []\n",
        "nb_words = min(100000, len(word_index)+1)\n",
        "embedding_matrix = np.zeros((nb_words, 300))\n",
        "\n",
        "for word, i in word_index.items():\n",
        "    if i >= nb_words:\n",
        "        continue\n",
        "    embedding_vector = embeddings_index.get(word)\n",
        "    if (embedding_vector is not None) and len(embedding_vector) > 0:\n",
        "        # words not found in embedding index will be all-zeros.\n",
        "        embedding_matrix[i] = embedding_vector\n",
        "    else:\n",
        "        words_not_found.append(word)\n",
        "print('number of null word embeddings: %d' % np.sum(np.sum(embedding_matrix, axis=1) == 0))"
      ],
      "execution_count": null,
      "outputs": [
        {
          "output_type": "stream",
          "name": "stdout",
          "text": [
            "preparing embedding matrix...\n",
            "number of null word embeddings: 52\n"
          ]
        }
      ]
    },
    {
      "cell_type": "markdown",
      "metadata": {
        "id": "_3QsL8MJ71JC"
      },
      "source": [
        "## Construct LSTM+CRF Model"
      ]
    },
    {
      "cell_type": "code",
      "metadata": {
        "id": "JqnxvI_qO0jF"
      },
      "source": [
        "metrics = load_metric('seqeval')"
      ],
      "execution_count": null,
      "outputs": []
    },
    {
      "cell_type": "code",
      "metadata": {
        "id": "Mt0giuR4GsAb"
      },
      "source": [
        "# predictions = p\n",
        "def f1_score(predictions):\n",
        "  # Remove ignored index (special tokens)\n",
        "  true_predictions = [\n",
        "      [unique_tags[p] for (p, l) in zip(prediction, label) if l != -100]\n",
        "      for prediction, label in zip(predictions, y_test)\n",
        "  ]\n",
        "  true_labels = [\n",
        "      [unique_tags[l] for (p, l) in zip(prediction, label) if l != -100]\n",
        "      for prediction, label in zip(predictions, y_test)\n",
        "  ]\n",
        "\n",
        "  results = metrics.compute(predictions=true_predictions, references=true_labels)\n",
        "  return results['overall_f1']"
      ],
      "execution_count": null,
      "outputs": []
    },
    {
      "cell_type": "code",
      "metadata": {
        "id": "H5gAZElaOBjd"
      },
      "source": [
        "def objective(trial):\n",
        "    clear_session()\n",
        "\n",
        "    input_word = Input(shape=(20,))\n",
        "    model = Embedding(nb_words,300,input_length=20, weights=[embedding_matrix],trainable=False)(input_word)\n",
        "\n",
        "    model = SpatialDropout1D(0.1)(model)\n",
        "    model = Bidirectional(GRU(trial.suggest_int(\"gru_layer\",1000,1500), return_sequences=True))(model)\n",
        "    model = Dense(trial.suggest_int(\"dense_layer1\",1000,1500),activation= 'relu')(model)\n",
        "    model = Dense(trial.suggest_int(\"dense_layer2\",500,1000),activation= 'relu')(model)\n",
        "    model = Dense(trial.suggest_int(\"dense_layer3\",100,500),activation= 'relu')(model)\n",
        "\n",
        "\n",
        "    crf = CRF(7)\n",
        "    out = crf(model)# output\n",
        "\n",
        "    model = Model(input_word, out)\n",
        "\n",
        "    # We compile our model with a sampled learning rate.\n",
        "    model.compile(optimizer='Adam',\n",
        "                  loss=crf_loss,\n",
        "                  metrics=[crf_accuracy])\n",
        "\n",
        "    model.fit(\n",
        "        x=word_seq_train,\n",
        "        y=np.array(y),\n",
        "        validation_split=0.05,\n",
        "        batch_size=32, \n",
        "        epochs=15,\n",
        "        shuffle=True,\n",
        "        verbose=0\n",
        "    )\n",
        "\n",
        "    # Evaluate the model accuracy on the validation set.\n",
        "    predictions = model.predict(word_seq_test)\n",
        "    predictions = np.argmax(predictions,axis=-1)\n",
        "    f1 = f1_score(predictions)\n",
        "    return f1"
      ],
      "execution_count": null,
      "outputs": []
    },
    {
      "cell_type": "code",
      "metadata": {
        "colab": {
          "base_uri": "https://localhost:8080/"
        },
        "id": "h2YD7vITEv9U",
        "outputId": "d4b9c77e-302a-4c2d-ed10-93a1996a9c6d"
      },
      "source": [
        "study = optuna.create_study(direction=\"maximize\")\n",
        "study.optimize(objective, n_trials=100,timeout=600)"
      ],
      "execution_count": null,
      "outputs": [
        {
          "output_type": "stream",
          "name": "stderr",
          "text": [
            "\u001b[32m[I 2021-09-01 14:18:19,602]\u001b[0m A new study created in memory with name: no-name-9d83b84e-33f3-48d4-9cb1-f8b342f35262\u001b[0m\n",
            "\u001b[32m[I 2021-09-01 14:19:04,237]\u001b[0m Trial 0 finished with value: 0.6186440677966102 and parameters: {'gru_layer': 1409, 'dense_layer1': 1295, 'dense_layer2': 923, 'dense_layer3': 466}. Best is trial 0 with value: 0.6186440677966102.\u001b[0m\n",
            "\u001b[32m[I 2021-09-01 14:19:36,556]\u001b[0m Trial 1 finished with value: 0.6302521008403361 and parameters: {'gru_layer': 1067, 'dense_layer1': 1160, 'dense_layer2': 580, 'dense_layer3': 244}. Best is trial 1 with value: 0.6302521008403361.\u001b[0m\n",
            "\u001b[32m[I 2021-09-01 14:20:17,403]\u001b[0m Trial 2 finished with value: 0.6065573770491804 and parameters: {'gru_layer': 1323, 'dense_layer1': 1226, 'dense_layer2': 900, 'dense_layer3': 438}. Best is trial 1 with value: 0.6302521008403361.\u001b[0m\n",
            "\u001b[32m[I 2021-09-01 14:21:00,397]\u001b[0m Trial 3 finished with value: 0.6209677419354839 and parameters: {'gru_layer': 1381, 'dense_layer1': 1266, 'dense_layer2': 916, 'dense_layer3': 131}. Best is trial 1 with value: 0.6302521008403361.\u001b[0m\n",
            "\u001b[32m[I 2021-09-01 14:21:37,863]\u001b[0m Trial 4 finished with value: 0.6065573770491804 and parameters: {'gru_layer': 1236, 'dense_layer1': 1111, 'dense_layer2': 690, 'dense_layer3': 418}. Best is trial 1 with value: 0.6302521008403361.\u001b[0m\n",
            "\u001b[32m[I 2021-09-01 14:22:24,187]\u001b[0m Trial 5 finished with value: 0.6184738955823293 and parameters: {'gru_layer': 1445, 'dense_layer1': 1163, 'dense_layer2': 616, 'dense_layer3': 388}. Best is trial 1 with value: 0.6302521008403361.\u001b[0m\n",
            "\u001b[32m[I 2021-09-01 14:23:00,305]\u001b[0m Trial 6 finished with value: 0.6141078838174274 and parameters: {'gru_layer': 1199, 'dense_layer1': 1012, 'dense_layer2': 522, 'dense_layer3': 233}. Best is trial 1 with value: 0.6302521008403361.\u001b[0m\n",
            "\u001b[32m[I 2021-09-01 14:23:34,190]\u001b[0m Trial 7 finished with value: 0.6104417670682731 and parameters: {'gru_layer': 1107, 'dense_layer1': 1284, 'dense_layer2': 866, 'dense_layer3': 454}. Best is trial 1 with value: 0.6302521008403361.\u001b[0m\n",
            "\u001b[32m[I 2021-09-01 14:24:19,055]\u001b[0m Trial 8 finished with value: 0.6198347107438016 and parameters: {'gru_layer': 1426, 'dense_layer1': 1396, 'dense_layer2': 697, 'dense_layer3': 237}. Best is trial 1 with value: 0.6302521008403361.\u001b[0m\n",
            "\u001b[32m[I 2021-09-01 14:25:05,708]\u001b[0m Trial 9 finished with value: 0.5901639344262295 and parameters: {'gru_layer': 1480, 'dense_layer1': 1007, 'dense_layer2': 906, 'dense_layer3': 165}. Best is trial 1 with value: 0.6302521008403361.\u001b[0m\n",
            "\u001b[32m[I 2021-09-01 14:25:36,183]\u001b[0m Trial 10 finished with value: 0.6363636363636364 and parameters: {'gru_layer': 1030, 'dense_layer1': 1453, 'dense_layer2': 528, 'dense_layer3': 327}. Best is trial 10 with value: 0.6363636363636364.\u001b[0m\n",
            "\u001b[32m[I 2021-09-01 14:26:05,821]\u001b[0m Trial 11 finished with value: 0.5871559633027522 and parameters: {'gru_layer': 1000, 'dense_layer1': 1486, 'dense_layer2': 555, 'dense_layer3': 333}. Best is trial 10 with value: 0.6363636363636364.\u001b[0m\n",
            "\u001b[32m[I 2021-09-01 14:26:36,327]\u001b[0m Trial 12 finished with value: 0.5849802371541503 and parameters: {'gru_layer': 1009, 'dense_layer1': 1387, 'dense_layer2': 609, 'dense_layer3': 300}. Best is trial 10 with value: 0.6363636363636364.\u001b[0m\n",
            "\u001b[32m[I 2021-09-01 14:27:09,092]\u001b[0m Trial 13 finished with value: 0.6104417670682731 and parameters: {'gru_layer': 1106, 'dense_layer1': 1105, 'dense_layer2': 803, 'dense_layer3': 290}. Best is trial 10 with value: 0.6363636363636364.\u001b[0m\n",
            "\u001b[32m[I 2021-09-01 14:27:41,810]\u001b[0m Trial 14 finished with value: 0.6108786610878661 and parameters: {'gru_layer': 1100, 'dense_layer1': 1473, 'dense_layer2': 509, 'dense_layer3': 362}. Best is trial 10 with value: 0.6363636363636364.\u001b[0m\n",
            "\u001b[32m[I 2021-09-01 14:28:16,824]\u001b[0m Trial 15 finished with value: 0.628099173553719 and parameters: {'gru_layer': 1156, 'dense_layer1': 1357, 'dense_layer2': 602, 'dense_layer3': 222}. Best is trial 10 with value: 0.6363636363636364.\u001b[0m\n",
            "\u001b[32m[I 2021-09-01 14:28:48,079]\u001b[0m Trial 16 finished with value: 0.6039215686274509 and parameters: {'gru_layer': 1053, 'dense_layer1': 1190, 'dense_layer2': 677, 'dense_layer3': 268}. Best is trial 10 with value: 0.6363636363636364.\u001b[0m\n"
          ]
        }
      ]
    },
    {
      "cell_type": "code",
      "metadata": {
        "colab": {
          "base_uri": "https://localhost:8080/"
        },
        "id": "4UWZVT5yWLk3",
        "outputId": "488ba0a5-fdb4-4808-bef2-4ffd18544723"
      },
      "source": [
        "study.best_params"
      ],
      "execution_count": null,
      "outputs": [
        {
          "output_type": "execute_result",
          "data": {
            "text/plain": [
              "{'dense_layer': 242, 'gru_layer': 285, 'gru_layer2': 281}"
            ]
          },
          "metadata": {},
          "execution_count": 57
        }
      ]
    },
    {
      "cell_type": "code",
      "metadata": {
        "id": "KduKBHgjF5yn",
        "colab": {
          "base_uri": "https://localhost:8080/"
        },
        "outputId": "108b8b01-38fb-4db7-938c-6bbac4362b4b"
      },
      "source": [
        "model.compile(optimizer=\"Adam\",\n",
        "              loss=crf.loss_function,\n",
        "              metrics=[crf.accuracy])"
      ],
      "execution_count": null,
      "outputs": [
        {
          "output_type": "stream",
          "text": [
            "/usr/local/lib/python3.7/dist-packages/keras_contrib/layers/crf.py:346: UserWarning: CRF.loss_function is deprecated and it might be removed in the future. Please use losses.crf_loss instead.\n",
            "  warnings.warn('CRF.loss_function is deprecated '\n",
            "/usr/local/lib/python3.7/dist-packages/keras_contrib/layers/crf.py:353: UserWarning: CRF.accuracy is deprecated and it might be removed in the future. Please use metrics.crf_accuracy\n",
            "  warnings.warn('CRF.accuracy is deprecated and it '\n"
          ],
          "name": "stderr"
        }
      ]
    },
    {
      "cell_type": "code",
      "metadata": {
        "id": "jCqJD36TL7A4"
      },
      "source": [
        "p = model.predict(word_seq_test)\n",
        "p = np.argmax(p,axis=-1)"
      ],
      "execution_count": null,
      "outputs": []
    },
    {
      "cell_type": "code",
      "metadata": {
        "colab": {
          "base_uri": "https://localhost:8080/",
          "height": 172
        },
        "id": "ulNNdlSDGsy2",
        "outputId": "217b7f4b-bd11-420f-b521-a990a2d30649"
      },
      "source": [
        "pd.DataFrame(results)"
      ],
      "execution_count": null,
      "outputs": [
        {
          "output_type": "execute_result",
          "data": {
            "text/html": [
              "<div>\n",
              "<style scoped>\n",
              "    .dataframe tbody tr th:only-of-type {\n",
              "        vertical-align: middle;\n",
              "    }\n",
              "\n",
              "    .dataframe tbody tr th {\n",
              "        vertical-align: top;\n",
              "    }\n",
              "\n",
              "    .dataframe thead th {\n",
              "        text-align: right;\n",
              "    }\n",
              "</style>\n",
              "<table border=\"1\" class=\"dataframe\">\n",
              "  <thead>\n",
              "    <tr style=\"text-align: right;\">\n",
              "      <th></th>\n",
              "      <th>amount</th>\n",
              "      <th>country</th>\n",
              "      <th>phonenumber</th>\n",
              "      <th>unit</th>\n",
              "      <th>overall_precision</th>\n",
              "      <th>overall_recall</th>\n",
              "      <th>overall_f1</th>\n",
              "      <th>overall_accuracy</th>\n",
              "    </tr>\n",
              "  </thead>\n",
              "  <tbody>\n",
              "    <tr>\n",
              "      <th>precision</th>\n",
              "      <td>0.111111</td>\n",
              "      <td>0.0</td>\n",
              "      <td>0.0</td>\n",
              "      <td>0.207921</td>\n",
              "      <td>0.196347</td>\n",
              "      <td>0.346774</td>\n",
              "      <td>0.250729</td>\n",
              "      <td>0.960167</td>\n",
              "    </tr>\n",
              "    <tr>\n",
              "      <th>recall</th>\n",
              "      <td>0.142857</td>\n",
              "      <td>0.0</td>\n",
              "      <td>0.0</td>\n",
              "      <td>0.552632</td>\n",
              "      <td>0.196347</td>\n",
              "      <td>0.346774</td>\n",
              "      <td>0.250729</td>\n",
              "      <td>0.960167</td>\n",
              "    </tr>\n",
              "    <tr>\n",
              "      <th>f1</th>\n",
              "      <td>0.125000</td>\n",
              "      <td>0.0</td>\n",
              "      <td>0.0</td>\n",
              "      <td>0.302158</td>\n",
              "      <td>0.196347</td>\n",
              "      <td>0.346774</td>\n",
              "      <td>0.250729</td>\n",
              "      <td>0.960167</td>\n",
              "    </tr>\n",
              "    <tr>\n",
              "      <th>number</th>\n",
              "      <td>7.000000</td>\n",
              "      <td>20.0</td>\n",
              "      <td>21.0</td>\n",
              "      <td>76.000000</td>\n",
              "      <td>0.196347</td>\n",
              "      <td>0.346774</td>\n",
              "      <td>0.250729</td>\n",
              "      <td>0.960167</td>\n",
              "    </tr>\n",
              "  </tbody>\n",
              "</table>\n",
              "</div>"
            ],
            "text/plain": [
              "             amount  country  ...  overall_f1  overall_accuracy\n",
              "precision  0.111111      0.0  ...    0.250729          0.960167\n",
              "recall     0.142857      0.0  ...    0.250729          0.960167\n",
              "f1         0.125000      0.0  ...    0.250729          0.960167\n",
              "number     7.000000     20.0  ...    0.250729          0.960167\n",
              "\n",
              "[4 rows x 8 columns]"
            ]
          },
          "metadata": {},
          "execution_count": 50
        }
      ]
    },
    {
      "cell_type": "code",
      "metadata": {
        "colab": {
          "base_uri": "https://localhost:8080/"
        },
        "id": "4oAeOxTUTnrD",
        "outputId": "5fe55070-200a-4e70-e5a1-d1ecfafa97f2"
      },
      "source": [
        "report = classification_report(reduce(add,true_labels),reduce(add,true_predictions),labels=unique_tags)"
      ],
      "execution_count": null,
      "outputs": [
        {
          "output_type": "stream",
          "text": [
            "/usr/local/lib/python3.7/dist-packages/sklearn/metrics/_classification.py:1272: UndefinedMetricWarning: Precision and F-score are ill-defined and being set to 0.0 in labels with no predicted samples. Use `zero_division` parameter to control this behavior.\n",
            "  _warn_prf(average, modifier, msg_start, len(result))\n"
          ],
          "name": "stderr"
        }
      ]
    },
    {
      "cell_type": "code",
      "metadata": {
        "colab": {
          "base_uri": "https://localhost:8080/"
        },
        "id": "UMhqKknOToxB",
        "outputId": "9c2a3979-b34b-4a63-ad47-8a2696c8d590"
      },
      "source": [
        "print(report)"
      ],
      "execution_count": null,
      "outputs": [
        {
          "output_type": "stream",
          "text": [
            "               precision    recall  f1-score   support\n",
            "\n",
            "       I-unit       0.00      0.00      0.00        11\n",
            "    I-country       0.00      0.00      0.00         4\n",
            "       B-unit       0.25      0.66      0.36        76\n",
            "    B-country       0.00      0.00      0.00        20\n",
            "B-phonenumber       0.00      0.00      0.00        21\n",
            "     B-amount       0.11      0.14      0.12         7\n",
            "            O       0.99      0.97      0.98      5861\n",
            "\n",
            "     accuracy                           0.96      6000\n",
            "    macro avg       0.19      0.25      0.21      6000\n",
            " weighted avg       0.97      0.96      0.96      6000\n",
            "\n"
          ],
          "name": "stdout"
        }
      ]
    },
    {
      "cell_type": "code",
      "metadata": {
        "colab": {
          "base_uri": "https://localhost:8080/",
          "height": 567
        },
        "id": "R6WFQHRgTvUA",
        "outputId": "d87d7b97-e4d0-4665-c977-fd717791ff24"
      },
      "source": [
        "cm = confusion_matrix(reduce(add,true_labels),reduce(add,true_predictions),labels=unique_tags)\n",
        "plot_cm(cm,unique_tags);"
      ],
      "execution_count": null,
      "outputs": [
        {
          "output_type": "display_data",
          "data": {
            "image/png": "[encoded data removed]",
            "text/plain": [
              "<Figure size 720x504 with 2 Axes>"
            ]
          },
          "metadata": {}
        }
      ]
    },
    {
      "cell_type": "markdown",
      "metadata": {
        "id": "PIMoYK0SXyrh"
      },
      "source": [
        "## Construct Arabert model"
      ]
    },
    {
      "cell_type": "code",
      "metadata": {
        "id": "3RaOWnswZ6zu"
      },
      "source": [
        "x_train, x_test, y_train, y_test = train_test_split(words,final_tags, test_size=0.1,random_state=10)"
      ],
      "execution_count": null,
      "outputs": []
    },
    {
      "cell_type": "code",
      "metadata": {
        "id": "dsJHUEdeXx8n",
        "colab": {
          "base_uri": "https://localhost:8080/"
        },
        "outputId": "bc1ced0b-1048-435d-a4a9-8f31f3da6c79"
      },
      "source": [
        "tokenizer = AutoTokenizer.from_pretrained(\"aubmindlab/bert-base-arabertv02\")\n",
        "model = AutoModelForTokenClassification.from_pretrained(\"aubmindlab/bert-base-arabertv02\",num_labels = 7)"
      ],
      "execution_count": null,
      "outputs": [
        {
          "output_type": "stream",
          "name": "stderr",
          "text": [
            "Some weights of the model checkpoint at aubmindlab/bert-base-arabertv02 were not used when initializing BertForTokenClassification: ['cls.seq_relationship.bias', 'cls.seq_relationship.weight', 'cls.predictions.transform.dense.bias', 'cls.predictions.transform.LayerNorm.weight', 'cls.predictions.bias', 'cls.predictions.decoder.bias', 'cls.predictions.decoder.weight', 'cls.predictions.transform.dense.weight', 'cls.predictions.transform.LayerNorm.bias']\n",
            "- This IS expected if you are initializing BertForTokenClassification from the checkpoint of a model trained on another task or with another architecture (e.g. initializing a BertForSequenceClassification model from a BertForPreTraining model).\n",
            "- This IS NOT expected if you are initializing BertForTokenClassification from the checkpoint of a model that you expect to be exactly identical (initializing a BertForSequenceClassification model from a BertForSequenceClassification model).\n",
            "Some weights of BertForTokenClassification were not initialized from the model checkpoint at aubmindlab/bert-base-arabertv02 and are newly initialized: ['classifier.bias', 'classifier.weight']\n",
            "You should probably TRAIN this model on a down-stream task to be able to use it for predictions and inference.\n"
          ]
        }
      ]
    },
    {
      "cell_type": "code",
      "metadata": {
        "id": "iprSAL7zcbXA"
      },
      "source": [
        "label_all_tokens = True\n",
        "max_len=20"
      ],
      "execution_count": null,
      "outputs": []
    },
    {
      "cell_type": "code",
      "metadata": {
        "id": "2qEUoPGcYEs-"
      },
      "source": [
        "def tokenize_and_align_labels(x_train,y_train):\n",
        "    tokenized_inputs = tokenizer(list(x_train), truncation=True, is_split_into_words=True,padding='max_length',max_length=max_len)\n",
        "\n",
        "    labels = []\n",
        "    for i, label in enumerate(y_train):\n",
        "        word_ids = tokenized_inputs.word_ids(batch_index=i)\n",
        "        previous_word_idx = None\n",
        "        label_ids = []\n",
        "        for word_idx in word_ids:\n",
        "            # Special tokens have a word id that is None. We set the label to -100 so they are automatically\n",
        "            # ignored in the loss function.\n",
        "            if word_idx is None:\n",
        "                label_ids.append(-100)\n",
        "            # We set the label for the first token of each word.\n",
        "            elif word_idx != previous_word_idx:\n",
        "                label_ids.append(tag2idx[label[word_idx]])\n",
        "            # For the other tokens in a word, we set the label to either the current label or -100, depending on\n",
        "            # the label_all_tokens flag.\n",
        "            else:\n",
        "                label_ids.append(tag2idx[label[word_idx]] if label_all_tokens else -100)\n",
        "            previous_word_idx = word_idx\n",
        "\n",
        "        labels.append(label_ids)\n",
        "\n",
        "    tokenized_inputs[\"labels\"] = labels\n",
        "    return tokenized_inputs"
      ],
      "execution_count": null,
      "outputs": []
    },
    {
      "cell_type": "code",
      "metadata": {
        "id": "uvmPxJO-jrS4"
      },
      "source": [
        "tokenized_train  = tokenize_and_align_labels(x_train,y_train)\n",
        "tokenized_val = tokenize_and_align_labels(x_test,y_test)\n",
        "tokenized_test = tokenize_and_align_labels(test_words,final_test_tags)"
      ],
      "execution_count": null,
      "outputs": []
    },
    {
      "cell_type": "code",
      "metadata": {
        "id": "2zWvPlgpZoZ6"
      },
      "source": [
        "class ArabNERDataset(torch.utils.data.Dataset):\n",
        "    def __init__(self, encodings):\n",
        "        self.encodings = encodings\n",
        "\n",
        "    def __getitem__(self, idx):\n",
        "        item = {key: torch.tensor(val[idx]) for key, val in self.encodings.items()}        \n",
        "        return item\n",
        "\n",
        "    def __len__(self):\n",
        "          return len(self.encodings.input_ids)"
      ],
      "execution_count": null,
      "outputs": []
    },
    {
      "cell_type": "code",
      "metadata": {
        "id": "M3o8jWrQSVjh"
      },
      "source": [
        "train_dataset = ArabNERDataset(tokenized_train)\n",
        "val_dataset = ArabNERDataset(tokenized_val)\n",
        "test_dataset = ArabNERDataset(tokenized_test)"
      ],
      "execution_count": null,
      "outputs": []
    },
    {
      "cell_type": "code",
      "metadata": {
        "id": "BWvMmyXXWeuw"
      },
      "source": [
        "metrics = load_metric('seqeval')"
      ],
      "execution_count": null,
      "outputs": []
    },
    {
      "cell_type": "code",
      "metadata": {
        "id": "XY-edeuzwksT"
      },
      "source": [
        "def compute_metrics(p):\n",
        "    predictions, labels = p\n",
        "    predictions = np.argmax(predictions, axis=2)\n",
        "\n",
        "    # Remove ignored index (special tokens)\n",
        "    true_predictions = [\n",
        "        [unique_tags[p] for (p, l) in zip(prediction, label) if l != -100]\n",
        "        for prediction, label in zip(predictions, labels)\n",
        "    ]\n",
        "    true_labels = [\n",
        "        [unique_tags[l] for (p, l) in zip(prediction, label) if l != -100]\n",
        "        for prediction, label in zip(predictions, labels)\n",
        "    ]\n",
        "\n",
        "    results = metrics.compute(predictions=true_predictions, references=true_labels)\n",
        "    return {\n",
        "        \"precision\": results[\"overall_precision\"],\n",
        "        \"recall\": results[\"overall_recall\"],\n",
        "        \"f1\": results[\"overall_f1\"],\n",
        "        \"accuracy\": results[\"overall_accuracy\"],\n",
        "    }"
      ],
      "execution_count": null,
      "outputs": []
    },
    {
      "cell_type": "code",
      "metadata": {
        "colab": {
          "base_uri": "https://localhost:8080/",
          "height": 607
        },
        "id": "rwTvVn3YmQWG",
        "outputId": "31d33b70-27e5-4f97-f199-ddb828171c45"
      },
      "source": [
        "training_args = TrainingArguments(\n",
        "    output_dir='./results',          # output directory\n",
        "    evaluation_strategy = \"epoch\",\n",
        "    learning_rate=2e-5,\n",
        "    per_device_train_batch_size=32,\n",
        "    per_device_eval_batch_size=8,\n",
        "    num_train_epochs=15,\n",
        "    weight_decay=0.01,\n",
        "    report_to=\"wandb\",\n",
        "    fp16 = True,\n",
        "    logging_steps = 1\n",
        ")\n",
        "\n",
        "\n",
        "trainer = Trainer(\n",
        "    model=model,                         # the instantiatedTransformers model to be trained\n",
        "    args=training_args,                  # training arguments, defined above\n",
        "    train_dataset=train_dataset,         # training dataset\n",
        "    eval_dataset= val_dataset,\n",
        "    compute_metrics=compute_metrics\n",
        ")\n",
        "\n",
        "trainer.train()"
      ],
      "execution_count": null,
      "outputs": [
        {
          "output_type": "stream",
          "name": "stderr",
          "text": [
            "PyTorch: setting up devices\n",
            "Using amp fp16 backend\n",
            "***** Running training *****\n",
            "  Num examples = 208\n",
            "  Num Epochs = 3\n",
            "  Instantaneous batch size per device = 32\n",
            "  Total train batch size (w. parallel, distributed & accumulation) = 32\n",
            "  Gradient Accumulation steps = 1\n",
            "  Total optimization steps = 21\n",
            "Automatic Weights & Biases logging enabled, to disable set os.environ[\"WANDB_DISABLED\"] = \"true\"\n"
          ]
        },
        {
          "output_type": "display_data",
          "data": {
            "text/html": [
              "\n",
              "    <div>\n",
              "      \n",
              "      <progress value='21' max='21' style='width:300px; height:20px; vertical-align: middle;'></progress>\n",
              "      [21/21 00:18, Epoch 3/3]\n",
              "    </div>\n",
              "    <table border=\"1\" class=\"dataframe\">\n",
              "  <thead>\n",
              "    <tr style=\"text-align: left;\">\n",
              "      <th>Epoch</th>\n",
              "      <th>Training Loss</th>\n",
              "      <th>Validation Loss</th>\n",
              "      <th>Precision</th>\n",
              "      <th>Recall</th>\n",
              "      <th>F1</th>\n",
              "      <th>Accuracy</th>\n",
              "    </tr>\n",
              "  </thead>\n",
              "  <tbody>\n",
              "    <tr>\n",
              "      <td>1</td>\n",
              "      <td>0.016500</td>\n",
              "      <td>0.044680</td>\n",
              "      <td>0.979167</td>\n",
              "      <td>0.989474</td>\n",
              "      <td>0.984293</td>\n",
              "      <td>0.991031</td>\n",
              "    </tr>\n",
              "    <tr>\n",
              "      <td>2</td>\n",
              "      <td>0.009800</td>\n",
              "      <td>0.026247</td>\n",
              "      <td>0.979167</td>\n",
              "      <td>0.989474</td>\n",
              "      <td>0.984293</td>\n",
              "      <td>0.991031</td>\n",
              "    </tr>\n",
              "    <tr>\n",
              "      <td>3</td>\n",
              "      <td>0.008200</td>\n",
              "      <td>0.026853</td>\n",
              "      <td>0.978947</td>\n",
              "      <td>0.978947</td>\n",
              "      <td>0.978947</td>\n",
              "      <td>0.986547</td>\n",
              "    </tr>\n",
              "  </tbody>\n",
              "</table><p>"
            ],
            "text/plain": [
              "<IPython.core.display.HTML object>"
            ]
          },
          "metadata": {}
        },
        {
          "output_type": "stream",
          "name": "stderr",
          "text": [
            "***** Running Evaluation *****\n",
            "  Num examples = 24\n",
            "  Batch size = 8\n",
            "***** Running Evaluation *****\n",
            "  Num examples = 24\n",
            "  Batch size = 8\n",
            "***** Running Evaluation *****\n",
            "  Num examples = 24\n",
            "  Batch size = 8\n",
            "\n",
            "\n",
            "Training completed. Do not forget to share your model on huggingface.co/models =)\n",
            "\n",
            "\n"
          ]
        },
        {
          "output_type": "execute_result",
          "data": {
            "text/plain": [
              "TrainOutput(global_step=21, training_loss=0.02643109591943877, metrics={'train_runtime': 19.6572, 'train_samples_per_second': 31.744, 'train_steps_per_second': 1.068, 'total_flos': 6369396359040.0, 'train_loss': 0.02643109591943877, 'epoch': 3.0})"
            ]
          },
          "metadata": {},
          "execution_count": 41
        }
      ]
    },
    {
      "cell_type": "code",
      "metadata": {
        "colab": {
          "base_uri": "https://localhost:8080/",
          "height": 87
        },
        "id": "MSjG39CEn0Bc",
        "outputId": "9ed507b8-780a-4e5d-e07c-5f6f7d21c503"
      },
      "source": [
        "predictions, labels, _ = trainer.predict(test_dataset)\n",
        "predictions = np.argmax(predictions, axis=-1)\n",
        "\n",
        "# Remove ignored index (special tokens)\n",
        "true_predictions = [\n",
        "    [unique_tags[p] for (p, l) in zip(prediction, label) if l != -100]\n",
        "    for prediction, label in zip(predictions, labels)\n",
        "]\n",
        "true_labels = [\n",
        "    [unique_tags[l] for (p, l) in zip(prediction, label) if l != -100]\n",
        "    for prediction, label in zip(predictions, labels)\n",
        "]\n",
        "\n",
        "results = metrics.compute(predictions=true_predictions, references=true_labels)"
      ],
      "execution_count": null,
      "outputs": [
        {
          "output_type": "stream",
          "name": "stderr",
          "text": [
            "***** Running Prediction *****\n",
            "  Num examples = 100\n",
            "  Batch size = 8\n"
          ]
        },
        {
          "output_type": "display_data",
          "data": {
            "text/html": [
              "\n",
              "    <div>\n",
              "      \n",
              "      <progress value='13' max='13' style='width:300px; height:20px; vertical-align: middle;'></progress>\n",
              "      [13/13 00:00]\n",
              "    </div>\n",
              "    "
            ],
            "text/plain": [
              "<IPython.core.display.HTML object>"
            ]
          },
          "metadata": {}
        }
      ]
    },
    {
      "cell_type": "code",
      "metadata": {
        "colab": {
          "base_uri": "https://localhost:8080/",
          "height": 172
        },
        "id": "QHGQVlRrmFtI",
        "outputId": "1732d8e6-a274-41d3-d029-63647893621c"
      },
      "source": [
        "pd.DataFrame(results)"
      ],
      "execution_count": null,
      "outputs": [
        {
          "output_type": "execute_result",
          "data": {
            "text/html": [
              "<div>\n",
              "<style scoped>\n",
              "    .dataframe tbody tr th:only-of-type {\n",
              "        vertical-align: middle;\n",
              "    }\n",
              "\n",
              "    .dataframe tbody tr th {\n",
              "        vertical-align: top;\n",
              "    }\n",
              "\n",
              "    .dataframe thead th {\n",
              "        text-align: right;\n",
              "    }\n",
              "</style>\n",
              "<table border=\"1\" class=\"dataframe\">\n",
              "  <thead>\n",
              "    <tr style=\"text-align: right;\">\n",
              "      <th></th>\n",
              "      <th>amount</th>\n",
              "      <th>country</th>\n",
              "      <th>phonenumber</th>\n",
              "      <th>unit</th>\n",
              "      <th>overall_precision</th>\n",
              "      <th>overall_recall</th>\n",
              "      <th>overall_f1</th>\n",
              "      <th>overall_accuracy</th>\n",
              "    </tr>\n",
              "  </thead>\n",
              "  <tbody>\n",
              "    <tr>\n",
              "      <th>precision</th>\n",
              "      <td>1.0</td>\n",
              "      <td>0.785714</td>\n",
              "      <td>1.000000</td>\n",
              "      <td>0.911765</td>\n",
              "      <td>0.936396</td>\n",
              "      <td>0.953237</td>\n",
              "      <td>0.944742</td>\n",
              "      <td>0.974201</td>\n",
              "    </tr>\n",
              "    <tr>\n",
              "      <th>recall</th>\n",
              "      <td>1.0</td>\n",
              "      <td>0.916667</td>\n",
              "      <td>0.990826</td>\n",
              "      <td>0.925373</td>\n",
              "      <td>0.936396</td>\n",
              "      <td>0.953237</td>\n",
              "      <td>0.944742</td>\n",
              "      <td>0.974201</td>\n",
              "    </tr>\n",
              "    <tr>\n",
              "      <th>f1</th>\n",
              "      <td>1.0</td>\n",
              "      <td>0.846154</td>\n",
              "      <td>0.995392</td>\n",
              "      <td>0.918519</td>\n",
              "      <td>0.936396</td>\n",
              "      <td>0.953237</td>\n",
              "      <td>0.944742</td>\n",
              "      <td>0.974201</td>\n",
              "    </tr>\n",
              "    <tr>\n",
              "      <th>number</th>\n",
              "      <td>11.0</td>\n",
              "      <td>24.000000</td>\n",
              "      <td>109.000000</td>\n",
              "      <td>134.000000</td>\n",
              "      <td>0.936396</td>\n",
              "      <td>0.953237</td>\n",
              "      <td>0.944742</td>\n",
              "      <td>0.974201</td>\n",
              "    </tr>\n",
              "  </tbody>\n",
              "</table>\n",
              "</div>"
            ],
            "text/plain": [
              "           amount    country  ...  overall_f1  overall_accuracy\n",
              "precision     1.0   0.785714  ...    0.944742          0.974201\n",
              "recall        1.0   0.916667  ...    0.944742          0.974201\n",
              "f1            1.0   0.846154  ...    0.944742          0.974201\n",
              "number       11.0  24.000000  ...    0.944742          0.974201\n",
              "\n",
              "[4 rows x 8 columns]"
            ]
          },
          "metadata": {},
          "execution_count": 43
        }
      ]
    },
    {
      "cell_type": "code",
      "metadata": {
        "id": "W98R2yAK2ajh"
      },
      "source": [
        "report = classification_report(reduce(add,true_labels),reduce(add,true_predictions),labels=unique_tags)"
      ],
      "execution_count": null,
      "outputs": []
    },
    {
      "cell_type": "code",
      "metadata": {
        "colab": {
          "base_uri": "https://localhost:8080/"
        },
        "id": "73TfjrttoiRH",
        "outputId": "e1688e1f-8850-49f8-9db9-bd6c43a4f4c8"
      },
      "source": [
        "print(report)"
      ],
      "execution_count": null,
      "outputs": [
        {
          "output_type": "stream",
          "name": "stdout",
          "text": [
            "               precision    recall  f1-score   support\n",
            "\n",
            "    I-country       1.00      0.50      0.67         8\n",
            "            O       0.98      0.99      0.99       514\n",
            "     B-amount       1.00      1.00      1.00        11\n",
            "    B-country       0.92      0.92      0.92        24\n",
            "       I-unit       0.79      0.79      0.79        14\n",
            "       B-unit       0.96      0.98      0.97       134\n",
            "B-phonenumber       1.00      0.99      1.00       109\n",
            "\n",
            "     accuracy                           0.98       814\n",
            "    macro avg       0.95      0.88      0.90       814\n",
            " weighted avg       0.98      0.98      0.98       814\n",
            "\n"
          ]
        }
      ]
    },
    {
      "cell_type": "markdown",
      "metadata": {
        "id": "OH4oMvAR4sH5"
      },
      "source": [
        "Classification reports chooses that the AraBERT model that the model predicts all the labels well except for I-Country with correct prediction of only 67%, this could be due to the small number of examples of I-Country in the training set. "
      ]
    },
    {
      "cell_type": "code",
      "metadata": {
        "id": "YWKGMry8zzTM"
      },
      "source": [
        "def plot_cm(data,labels):\n",
        "  df_cm = pd.DataFrame(data, columns=labels, index = labels)\n",
        "  df_cm.index.name = 'Actual'\n",
        "  df_cm.columns.name = 'Predicted'\n",
        "  plt.figure(figsize = (10,7))\n",
        "  sns.set(font_scale=1.4)#for label size\n",
        "  sns.heatmap(df_cm, cmap=\"Blues\", annot=True,annot_kws={\"size\": 16},fmt='0')# font size"
      ],
      "execution_count": null,
      "outputs": []
    },
    {
      "cell_type": "code",
      "metadata": {
        "colab": {
          "base_uri": "https://localhost:8080/",
          "height": 522
        },
        "id": "f5cPsJli02Va",
        "outputId": "619e4d07-7235-48dd-d212-1ca1a9de2d72"
      },
      "source": [
        "cm = confusion_matrix(reduce(add,true_labels),reduce(add,true_predictions),labels=unique_tags)\n",
        "plot_cm(cm,unique_tags);"
      ],
      "execution_count": null,
      "outputs": [
        {
          "output_type": "display_data",
          "data": {
            "image/png": "[encoded data removed]",
            "text/plain": [
              "<Figure size 720x504 with 2 Axes>"
            ]
          },
          "metadata": {
            "needs_background": "light"
          }
        }
      ]
    },
    {
      "cell_type": "code",
      "metadata": {
        "id": "3znVTOTnhN6f"
      },
      "source": [
        ""
      ],
      "execution_count": null,
      "outputs": []
    },
    {
      "cell_type": "markdown",
      "metadata": {
        "id": "s_-yC-U44n_6"
      },
      "source": [
        "It is observed from the confusion matrix that the AraBERT model classify 508 to be O, 11 to be B-amount, 22 to be B-country, 131 to be B-unit, 11 to be I-Unit, 4 to be I-Country, and 108 to be B-Phone number correctly. While, in case of O the model miss classifies 1 label as B-Country, 4 labels as B-unit, 1 label as I-unit. In case of B-amount there are no miss classified labels. In case of B-country the model miss classified only 2 labels as O. Moreover, in case of B-unit the model misclassifies 1 label as O, 2 labels as I-unit, while in case of I-unit 1 label is misclassified as B-unit, 2 labels as O. In case of I-Country, 3 labels are misclassified as O, 1 label as B-country. Finally, in B-phonenumber only 1 label is misclassified as O. So, it is observed that I country has the highest miss classified labels with only 4 labels out of 8 to be correctly classified. "
      ]
    },
    {
      "cell_type": "code",
      "metadata": {
        "colab": {
          "base_uri": "https://localhost:8080/"
        },
        "id": "PFTmuPNT43AT",
        "outputId": "bcdc9214-3fec-4f40-fb2e-f68ef4a8cd7b"
      },
      "source": [
        "trainer.save_model('arabertNER')"
      ],
      "execution_count": null,
      "outputs": [
        {
          "output_type": "stream",
          "name": "stderr",
          "text": [
            "Saving model checkpoint to arabertNER\n",
            "Configuration saved in arabertNER/config.json\n",
            "Model weights saved in arabertNER/pytorch_model.bin\n"
          ]
        }
      ]
    },
    {
      "cell_type": "code",
      "metadata": {
        "id": "7-qwtHqH5KxP"
      },
      "source": [
        "!cp -r /content/arabertNER /content/drive/MyDrive"
      ],
      "execution_count": null,
      "outputs": []
    },
    {
      "cell_type": "markdown",
      "metadata": {
        "id": "xCI_w5Vi5tkl"
      },
      "source": [
        "## Live Demo"
      ]
    },
    {
      "cell_type": "code",
      "metadata": {
        "colab": {
          "base_uri": "https://localhost:8080/",
          "height": 177,
          "referenced_widgets": [
            "1d4b725dc08d4ee1bfe568767e64590b",
            "243a35e826504811a02d479bf121c898",
            "0ffc6360efa14dafbfd246b704c78618",
            "d9513575566e408ea3272bb137fa07ee",
            "c99062a61a7144b488b73b5703eae994",
            "793ff0ed3ce7402b9b51a4998057f5f8",
            "a3e3248c18624ac08cb7d43c5bdf5782",
            "d4daf313462343cd9097da205c76e232",
            "950d576eef40413ab219cc2d65102996",
            "66c2bc076d9742fcb2d8d3de04048660",
            "3f634f1ced54442289fdec8181f5bb9c",
            "df926aac0cc3456db72b65dc445379bc",
            "cb25bf20a34f458e88913d6177afd303",
            "b7ff5f2324f54161a635ade588fbc7a4",
            "909a92c29c014451a492f1a3b33ac710",
            "bc382a87bc3f4d01a694d4a646c20bb2",
            "a2835c82a7aa4f4c8278e75666631081",
            "78bd56fc120f489bb8eeed48a8c874b7",
            "3bff44e9b70644d888fff4d756e2b866",
            "4358d5a128bf4997af896c67b9f29260",
            "35f03d2effff4524872243a81012b6ff",
            "f5440d9feb244eedaa0e1bd992e8a75f",
            "c1d31f3872044df7b38ad0a1741c94a8",
            "0d7ab56c4d414342a6c4c7097fd131c6",
            "c82cd02f6bf24559939b9a77266407c1",
            "4d305eaa2e7a4fe88e31f925f84eef4c",
            "eb2984eeeed44074bd862e0a3319f550",
            "5e55ea602cc14ba2b208b0f357739204",
            "b4c3368a25c64a159722a8e1f876f077",
            "047f32dfc27640ad89e672739c9d5a33",
            "23e8a61bd35b4dadb015a003d7eee7f4",
            "3d5381ca0c6148ecb110830d31395795",
            "a1d34d5c07a4407590605500154e1fbb",
            "f2d89191bcda46f08a312f4507ba20ac",
            "bd9961e4aaa8491692ef47fed646aa56",
            "b3dc0c1780734a5f8b074455816e8443",
            "f9996ddbf769467eb8eabdf386464cea",
            "6ba16df2523a41368bcc9e17deaa1e0a",
            "e1f1ddb6bdb24ff7ba2f9b8a4748ccb4",
            "b9fe48faec094948850b4b602b69fedd",
            "c48695811b884d1ebfcb5e2c3b939afd",
            "3ef038661e3e45eda3ee701e5868135e",
            "1316dcb7479644608b530c28eaba5621",
            "51492676e44042f1b11eccf966ffa280",
            "78fcbc46f7d34ab1bf04ee7a3e1eef99",
            "624ecf71631e46ed87e31bd62477f8f6",
            "58a2a3231aca42caa0c21c67ea4fb4fb",
            "dc2591e46b63406db1dca8b72dd08a43",
            "8a1e89a65a794dfda813ec46dced6ef4",
            "e3afdca9d130481f8cd1b063514cc166",
            "bf5219b3b7714542b1ac85b7a6aa53af",
            "b38f94195752434d928a3358f93939b8",
            "e884d22e70d5416185a61dd360655e1f",
            "f7b7d4d3593d45dc9545c50b3588d79d",
            "e85ad38204d84e53b343d63c6161d721"
          ]
        },
        "id": "EoAtnqTsf3oG",
        "outputId": "814d6735-2521-4cfb-a61c-f0205eecb975"
      },
      "source": [
        "tokenizer = AutoTokenizer.from_pretrained(\"aubmindlab/bert-base-arabertv02\")\n",
        "model = AutoModelForTokenClassification.from_pretrained(\"/content/drive/MyDrive/arabertNER\").to('cuda')"
      ],
      "execution_count": null,
      "outputs": [
        {
          "output_type": "display_data",
          "data": {
            "application/vnd.jupyter.widget-view+json": {
              "model_id": "1d4b725dc08d4ee1bfe568767e64590b",
              "version_minor": 0,
              "version_major": 2
            },
            "text/plain": [
              "Downloading:   0%|          | 0.00/381 [00:00<?, ?B/s]"
            ]
          },
          "metadata": {}
        },
        {
          "output_type": "display_data",
          "data": {
            "application/vnd.jupyter.widget-view+json": {
              "model_id": "df926aac0cc3456db72b65dc445379bc",
              "version_minor": 0,
              "version_major": 2
            },
            "text/plain": [
              "Downloading:   0%|          | 0.00/384 [00:00<?, ?B/s]"
            ]
          },
          "metadata": {}
        },
        {
          "output_type": "display_data",
          "data": {
            "application/vnd.jupyter.widget-view+json": {
              "model_id": "c1d31f3872044df7b38ad0a1741c94a8",
              "version_minor": 0,
              "version_major": 2
            },
            "text/plain": [
              "Downloading:   0%|          | 0.00/825k [00:00<?, ?B/s]"
            ]
          },
          "metadata": {}
        },
        {
          "output_type": "display_data",
          "data": {
            "application/vnd.jupyter.widget-view+json": {
              "model_id": "f2d89191bcda46f08a312f4507ba20ac",
              "version_minor": 0,
              "version_major": 2
            },
            "text/plain": [
              "Downloading:   0%|          | 0.00/2.64M [00:00<?, ?B/s]"
            ]
          },
          "metadata": {}
        },
        {
          "output_type": "display_data",
          "data": {
            "application/vnd.jupyter.widget-view+json": {
              "model_id": "78fcbc46f7d34ab1bf04ee7a3e1eef99",
              "version_minor": 0,
              "version_major": 2
            },
            "text/plain": [
              "Downloading:   0%|          | 0.00/112 [00:00<?, ?B/s]"
            ]
          },
          "metadata": {}
        }
      ]
    },
    {
      "cell_type": "code",
      "metadata": {
        "id": "jmDa41Fghfoj"
      },
      "source": [
        "unique_tags = ['I-country','O','B-amount','B-country','I-unit','B-unit','B-phonenumber']\n",
        "tag2idx  =  {t : i for i,t in enumerate(unique_tags)} # Dictionary of every tag and its coressponding id"
      ],
      "execution_count": null,
      "outputs": []
    },
    {
      "cell_type": "code",
      "metadata": {
        "id": "3bcWTDb9g1MG"
      },
      "source": [
        "def offset_map(p,tokens):\n",
        "  previous = tag2idx['O']\n",
        "  offset_mapping = []\n",
        "  for i,typ in enumerate(p):\n",
        "    if tokens['offset_mapping'][i][1] == 0 and i!= 0:\n",
        "        break\n",
        "    elif typ != tag2idx['O'] and i!= 0:\n",
        "      index = tokens['offset_mapping'][i]\n",
        "      if previous == typ:\n",
        "        prev_start = offset_mapping[-1][0]\n",
        "        offset_mapping[-1] = (prev_start,index[-1],unique_tags[typ].split('-')[1])\n",
        "      elif previous != tag2idx['O'] :\n",
        "        if unique_tags[previous].split('-')[1] == unique_tags[typ].split('-')[1]:\n",
        "            prev_start = offset_mapping[-1][0]\n",
        "            offset_mapping[-1] = (prev_start,index[-1],unique_tags[typ].split('-')[1])\n",
        "        else:\n",
        "          offset_mapping.append(index)\n",
        "      else:\n",
        "        offset_mapping.append(index+ (unique_tags[typ].split('-')[1],))\n",
        "\n",
        "    previous = typ\n",
        "  return offset_mapping"
      ],
      "execution_count": null,
      "outputs": []
    },
    {
      "cell_type": "code",
      "metadata": {
        "id": "JirfnbsDAUs8"
      },
      "source": [
        "def translate_labels(offset_mapping):\n",
        "  translator= Translator(from_lang=\"english\",to_lang=\"arabic\")\n",
        "  example = {'text':'','ents':[],'title':None}\n",
        "  example['text'] = sentence[0]\n",
        "  ul = set()\n",
        "  for ex in offset_mapping:\n",
        "    ul.add(translator.translate(ex[2]))\n",
        "    example['ents'].append({'start':ex[0],'end':ex[1],'label':translator.translate(ex[2])})\n",
        "  return example"
      ],
      "execution_count": null,
      "outputs": []
    },
    {
      "cell_type": "code",
      "metadata": {
        "id": "0gb6DFGzlbwS"
      },
      "source": [
        "def display_sentence(example):\n",
        "  colors = {\"دولة\": \"#a7e5dd\",\"الوحدة\": '#b9def2',\"رقم الهاتف\":'#c9cef2',\"المبلغ\":'#e3b8e6'}\n",
        "  options = {\"ents\": [\"دولة\",\"الوحدة\",\"رقم الهاتف\",\"المبلغ\"], \"colors\": colors}\n",
        "  ex = [example]\n",
        "  display = displacy.render(ex, style=\"ent\", jupyter=True,manual=True,options=options)\n"
      ],
      "execution_count": null,
      "outputs": []
    },
    {
      "cell_type": "code",
      "metadata": {
        "id": "rxdv4bnP_8HK"
      },
      "source": [
        "def NER(sentence):\n",
        "  tokens = tokenizer(list(sentence), truncation=True, is_split_into_words=True,padding='max_length',max_length=60,return_offsets_mapping=True)\n",
        "  p = model(torch.tensor([tokens['input_ids']]).to('cuda'),attention_mask = torch.tensor([tokens['attention_mask']]).to('cuda'))[0].cpu().detach().numpy()\n",
        "  p = np.argmax(p,axis=-1)[0]\n",
        "  offset_mapping = offset_map(p,tokens)\n",
        "  example = translate_labels(offset_mapping)\n",
        "  \n",
        "  return display_sentence(example)"
      ],
      "execution_count": null,
      "outputs": []
    },
    {
      "cell_type": "code",
      "metadata": {
        "id": "2hL2_zm26Nsi"
      },
      "source": [
        "sentence = [train.text.values[-1]]"
      ],
      "execution_count": null,
      "outputs": []
    },
    {
      "cell_type": "code",
      "metadata": {
        "id": "Gfjf7Rl2BGGW",
        "colab": {
          "base_uri": "https://localhost:8080/",
          "height": 51
        },
        "outputId": "c83ab86a-a0ac-4ea9-a531-2a537fad4c7f"
      },
      "source": [
        "NER(sentence)"
      ],
      "execution_count": null,
      "outputs": [
        {
          "output_type": "display_data",
          "data": {
            "text/html": [
              "<span class=\"tex2jax_ignore\"><div class=\"entities\" style=\"line-height: 2.5; direction: ltr\">عايز اسافر \n",
              "<mark class=\"entity\" style=\"background: #a7e5dd; padding: 0.45em 0.6em; margin: 0 0.25em; line-height: 1; border-radius: 0.35em;\">\n",
              "    المملكة العربية السعودية\n",
              "    <span style=\"font-size: 0.8em; font-weight: bold; line-height: 1; border-radius: 0.35em; text-transform: uppercase; vertical-align: middle; margin-left: 0.5rem\">دولة</span>\n",
              "</mark>\n",
              "</div></span>"
            ],
            "text/plain": [
              "<IPython.core.display.HTML object>"
            ]
          },
          "metadata": {}
        }
      ]
    }
  ]
}